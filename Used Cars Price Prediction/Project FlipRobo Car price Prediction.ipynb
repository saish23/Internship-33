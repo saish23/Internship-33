{
 "cells": [
  {
   "cell_type": "code",
   "execution_count": null,
   "id": "e92df710",
   "metadata": {},
   "outputs": [],
   "source": [
    "# New Delhi Datasets\n",
    "\n",
    "carsp1= r'C:\\Users\\Lenovo\\OneDrive\\Desktop\\Filp Robo worksheets and projects\\Car Price Prediction\\carspart1.csv'\n",
    "carsp2= r'C:\\Users\\Lenovo\\OneDrive\\Desktop\\Filp Robo worksheets and projects\\Car Price Prediction\\carspart2.csv'\n",
    "carsp3a= r'C:\\Users\\Lenovo\\OneDrive\\Desktop\\Filp Robo worksheets and projects\\Car Price Prediction\\carspart3a.csv'\n",
    "carsp3b= r'C:\\Users\\Lenovo\\OneDrive\\Desktop\\Filp Robo worksheets and projects\\Car Price Prediction\\carspart3b.csv'\n",
    "carsp4= r'C:\\Users\\Lenovo\\OneDrive\\Desktop\\Filp Robo worksheets and projects\\Car Price Prediction\\carspart4.csv'\n",
    "carsp5= r'C:\\Users\\Lenovo\\OneDrive\\Desktop\\Filp Robo worksheets and projects\\Car Price Prediction\\carspart5.csv'\n",
    "\n",
    "carsm1= r'C:\\Users\\Lenovo\\OneDrive\\Desktop\\Filp Robo worksheets and projects\\Car Price Prediction\\carspartm1.csv'\n",
    "carsm2= r'C:\\Users\\Lenovo\\OneDrive\\Desktop\\Filp Robo worksheets and projects\\Car Price Prediction\\carspartm2.csv'\n",
    "carsm3= r'C:\\Users\\Lenovo\\OneDrive\\Desktop\\Filp Robo worksheets and projects\\Car Price Prediction\\carspartm3.csv'\n",
    "\n",
    "carsb1a = r'C:\\Users\\Lenovo\\OneDrive\\Desktop\\Filp Robo worksheets and projects\\Car Price Prediction\\carspartb1a.csv'\n",
    "carsb1b = r'C:\\Users\\Lenovo\\OneDrive\\Desktop\\Filp Robo worksheets and projects\\Car Price Prediction\\carspartb1b.csv'\n",
    "carsb2 = r'C:\\Users\\Lenovo\\OneDrive\\Desktop\\Filp Robo worksheets and projects\\Car Price Prediction\\carspartb2.csv'\n",
    "carsb3 = r'C:\\Users\\Lenovo\\OneDrive\\Desktop\\Filp Robo worksheets and projects\\Car Price Prediction\\carspartb3.csv'\n",
    "carsb4 = r'C:\\Users\\Lenovo\\OneDrive\\Desktop\\Filp Robo worksheets and projects\\Car Price Prediction\\carspartb4.csv'\n",
    "carsb5 = r'C:\\Users\\Lenovo\\OneDrive\\Desktop\\Filp Robo worksheets and projects\\Car Price Prediction\\carspartb5.csv'\n",
    "\n",
    "carsn1a = r'C:\\Users\\Lenovo\\OneDrive\\Desktop\\Filp Robo worksheets and projects\\Car Price Prediction\\carspartn1a.csv'\n",
    "carsn1b = r'C:\\Users\\Lenovo\\OneDrive\\Desktop\\Filp Robo worksheets and projects\\Car Price Prediction\\carspartn1b.csv'\n",
    "carsn1c = r'C:\\Users\\Lenovo\\OneDrive\\Desktop\\Filp Robo worksheets and projects\\Car Price Prediction\\carspartn1c.csv'\n",
    "carsn2 = r'C:\\Users\\Lenovo\\OneDrive\\Desktop\\Filp Robo worksheets and projects\\Car Price Prediction\\carspartn2.csv'\n",
    "carsn2a = r'C:\\Users\\Lenovo\\OneDrive\\Desktop\\Filp Robo worksheets and projects\\Car Price Prediction\\carspartn2a.csv'\n",
    "carsn2b = r'C:\\Users\\Lenovo\\OneDrive\\Desktop\\Filp Robo worksheets and projects\\Car Price Prediction\\carspartn2b.csv'\n",
    "carsn3 = r'C:\\Users\\Lenovo\\OneDrive\\Desktop\\Filp Robo worksheets and projects\\Car Price Prediction\\carspartn3.csv'\n",
    "carsn4 = r'C:\\Users\\Lenovo\\OneDrive\\Desktop\\Filp Robo worksheets and projects\\Car Price Prediction\\carspartn4.csv'\n",
    "carsn5 = r'C:\\Users\\Lenovo\\OneDrive\\Desktop\\Filp Robo worksheets and projects\\Car Price Prediction\\carspartn5.csv'\n",
    "\n",
    "carsg1 = r'C:\\Users\\Lenovo\\OneDrive\\Desktop\\Filp Robo worksheets and projects\\Car Price Prediction\\carspartg1.csv'\n",
    "carsg1a = r'C:\\Users\\Lenovo\\OneDrive\\Desktop\\Filp Robo worksheets and projects\\Car Price Prediction\\carspartg1a.csv'\n",
    "carsg1b = r'C:\\Users\\Lenovo\\OneDrive\\Desktop\\Filp Robo worksheets and projects\\Car Price Prediction\\carspartg1b.csv'\n",
    "carsg2a = r'C:\\Users\\Lenovo\\OneDrive\\Desktop\\Filp Robo worksheets and projects\\Car Price Prediction\\carspartg2a.csv'\n",
    "carsg2b = r'C:\\Users\\Lenovo\\OneDrive\\Desktop\\Filp Robo worksheets and projects\\Car Price Prediction\\carspartg2b.csv'\n",
    "carsg3 = r'C:\\Users\\Lenovo\\OneDrive\\Desktop\\Filp Robo worksheets and projects\\Car Price Prediction\\carspartg3.csv'\n",
    "carsg4 = r'C:\\Users\\Lenovo\\OneDrive\\Desktop\\Filp Robo worksheets and projects\\Car Price Prediction\\carspartg4.csv'\n",
    "\n",
    "# Delhi\n",
    "df1 = pd.read_csv(carsp1)\n",
    "df2 = pd.read_csv(carsp2)\n",
    "df3a = pd.read_csv(carsp3a)\n",
    "df3b = pd.read_csv(carsp3b)\n",
    "df4 = pd.read_csv(carsp4)\n",
    "df5 = pd.read_csv(carsp5)\n",
    "\n",
    "# Mumbai\n",
    "dfm1 = pd.read_csv(carsm1)\n",
    "dfm2 = pd.read_csv(carsm2)\n",
    "dfm3 = pd.read_csv(carsm3)\n",
    "\n",
    "# banglore\n",
    "dfb1a = pd.read_csv(carsb1a)\n",
    "dfb1b = pd.read_csv(carsb1b)\n",
    "dfb2 = pd.read_csv(carsb2)\n",
    "dfb3 = pd.read_csv(carsb3)\n",
    "dfb4 = pd.read_csv(carsb4)\n",
    "dfb5 = pd.read_csv(carsb5)\n",
    "\n",
    "# Noida\n",
    "dfn1a = pd.read_csv(carsn1a)\n",
    "dfn1b = pd.read_csv(carsn1b)\n",
    "dfn1c = pd.read_csv(carsn1c)\n",
    "dfn2 = pd.read_csv(carsn2)\n",
    "dfn2a = pd.read_csv(carsn2a)\n",
    "dfn2b = pd.read_csv(carsn2b)\n",
    "dfn3 = pd.read_csv(carsn3)\n",
    "dfn4 = pd.read_csv(carsn4)\n",
    "dfn5 = pd.read_csv(carsn5)\n",
    "\n",
    "# Gurgaon\n",
    "dfg1 = pd.read_csv(carsg1)\n",
    "dfg1a = pd.read_csv(carsg1a)\n",
    "dfg1b = pd.read_csv(carsg1b)\n",
    "dfg2a = pd.read_csv(carsg2a)\n",
    "dfg2b = pd.read_csv(carsg2b)\n",
    "dfg3 = pd.read_csv(carsg3)\n",
    "dfg4 = pd.read_csv(carsg4)\n",
    "\n",
    "# lists\n",
    "\n",
    "del_list = [df1,df2,df3a,df3b,df4,df5]\n",
    "m_list = [dfm1,dfm2,dfm3]\n",
    "b_list = [dfb1a,dfb1b,dfb2,dfb3,dfb4,dfb5]\n",
    "n_list = [dfn1a,dfn1b,dfn1c,dfn2,dfn2a,dfn2b,dfn3,dfn4,dfn5]\n",
    "g_list = [dfg1,dfg1a,dfg1b,dfg2a,dfg2b,dfg3,dfg4]\n",
    "\n",
    "# combining datasets\n",
    "\n",
    "df_del = pd.concat(del_list)\n",
    "df_mum = pd.concat(m_list)\n",
    "df_b = pd.concat(b_list)\n",
    "df_n = pd.concat(n_list)\n",
    "df_g = pd.concat(g_list)\n",
    "\n",
    "# adding cities\n",
    "\n",
    "df_del['City'] = 'New Delhi'\n",
    "df_mum['City'] = 'Mumbai'\n",
    "df_b['City'] = 'Banglore'\n",
    "df_n['City'] = 'Noida'\n",
    "df_g['City'] = 'Gurgaon'\n",
    "\n",
    "\n",
    "# merging datasets\n",
    "\n",
    "df = pd.concat([df_del,df_mum,df_b,df_n,df_g])\n",
    "\n",
    "df.reset_index(inplace = True)\n",
    "\n",
    "df.drop(columns = ['Unnamed: 0','index'],axis = 1,inplace=True)"
   ]
  },
  {
   "cell_type": "code",
   "execution_count": null,
   "id": "aec725aa",
   "metadata": {
    "scrolled": true
   },
   "outputs": [],
   "source": [
    "df.shape"
   ]
  },
  {
   "cell_type": "code",
   "execution_count": null,
   "id": "519a9c2d",
   "metadata": {},
   "outputs": [],
   "source": [
    "df.duplicated().sum()"
   ]
  },
  {
   "cell_type": "code",
   "execution_count": null,
   "id": "f4db770a",
   "metadata": {},
   "outputs": [],
   "source": [
    "df.drop_duplicates(inplace=True)"
   ]
  },
  {
   "cell_type": "code",
   "execution_count": null,
   "id": "0238bafc",
   "metadata": {},
   "outputs": [],
   "source": [
    "df.shape"
   ]
  },
  {
   "cell_type": "code",
   "execution_count": null,
   "id": "a51e2049",
   "metadata": {},
   "outputs": [],
   "source": [
    "# Feature Engineering"
   ]
  },
  {
   "cell_type": "code",
   "execution_count": null,
   "id": "c65d0c4f",
   "metadata": {},
   "outputs": [],
   "source": [
    "df.head()"
   ]
  },
  {
   "cell_type": "code",
   "execution_count": null,
   "id": "88c465da",
   "metadata": {},
   "outputs": [],
   "source": [
    "# Car name details\n",
    "\n",
    "car_name = []\n",
    "for i in df['Name']:\n",
    "    car_name.append(i.split('\\n')[0])\n",
    "    \n",
    "year = []\n",
    "for i in car_name:\n",
    "    year.append(i.split()[0])\n",
    "        \n",
    "brand = []\n",
    "for i in car_name:\n",
    "    if len(i) !=0:\n",
    "        brand.append(i.split())\n",
    "    else:\n",
    "        brand.append('-')\n",
    "bn = []\n",
    "for i in brand:\n",
    "    bn.append(i[1:2])\n",
    "    \n",
    "comp = []\n",
    "for i in bn:\n",
    "    try:\n",
    "        comp.append(i[0])\n",
    "    except:\n",
    "        comp.append('-')\n",
    "\n",
    "model = []\n",
    "for i in car_name:\n",
    "    model.append(i.split()[2:-1])\n",
    "\n",
    "model_name = []\n",
    "for i in model:\n",
    "    model_name.append(\" \".join(i))\n",
    "    \n",
    "type = []\n",
    "for i in car_name:\n",
    "    type.append(i.split()[-1])\n",
    "    \n",
    "# kms driven\n",
    "\n",
    "kms_driven = []\n",
    "for i in df['Details']:\n",
    "    kms_driven.append(i.split()[0])\n",
    "\n",
    "# number plate\n",
    "\n",
    "plate_number = []\n",
    "result = []\n",
    "for i in df['Details']:\n",
    "    result.append(i.split('Owner'))\n",
    "    \n",
    "for i in result:\n",
    "    if len(i)==2:\n",
    "        plate_number.append(i[1])\n",
    "    elif len(i)==1:\n",
    "        plate_number.append(i[0])\n",
    "\n",
    "plate_number_state = []\n",
    "plate_number_n = []\n",
    "\n",
    "for i in plate_number:\n",
    "    plate_number_state.append(i[0:2])\n",
    "    plate_number_n.append(i[-2:])\n",
    "        \n",
    "\n",
    "# Amount:\n",
    "\n",
    "t_amt = []\n",
    "d_amt = []\n",
    "\n",
    "result = []\n",
    "for i in df['Amount']:\n",
    "    result.append(i.split('\\n'))\n",
    "    \n",
    "for i in result:\n",
    "    t_amt.append(i[0])\n",
    "    \n",
    "    \n",
    "for i in result:\n",
    "    if len(i)==2:\n",
    "        d_amt.append(i[1])\n",
    "    elif len(i)==1:\n",
    "        d_amt.append(i[0])\n",
    "    \n",
    "# Emi:\n",
    "\n",
    "emi = []\n",
    "for i in df['EMI']:\n",
    "    emi.append(i.split('/month')[0])\n",
    "    \n",
    "# overview\n",
    "\n",
    "history = []\n",
    "owner = []\n",
    "fuel_type = []\n",
    "\n",
    "result = []\n",
    "for i in df['Overview']:\n",
    "    result.append(i.split('\\n'))\n",
    "\n",
    "for i in result:\n",
    "    if len(i)>=4:\n",
    "        history.append(i[3])\n",
    "    else:\n",
    "        history.append('-')\n",
    "    \n",
    "for i in df['Overview']:\n",
    "    if len(i) !=0 and len(i) !=1 and len(i) !=2:\n",
    "        owner.append((i.split()[3]))\n",
    "    else:\n",
    "        owner.append('-')\n",
    "    \n",
    "for i in result:\n",
    "    if len(i)>=8:\n",
    "        fuel_type.append(i[7])\n",
    "    else:\n",
    "        fuel_type.append('-')\n",
    "    \n",
    "last_service = []\n",
    "for i in result: \n",
    "    if len(i)>=10:\n",
    "            last_service.append(i[9])\n",
    "    else:\n",
    "        last_service.append('-')\n",
    "\n",
    "last_ser_kms = []\n",
    "last_ser_date = []\n",
    "\n",
    "for i in last_service:\n",
    "    if i != '-':\n",
    "        last_ser_kms.append(i.split('km')[0])\n",
    "    else:\n",
    "        last_ser_kms.append('-')\n",
    "\n",
    "last_ser_day = []\n",
    "last_ser_month = []\n",
    "last_ser_year = []\n",
    "\n",
    "for i in last_service:\n",
    "    pattern = r\"\\((\\d{2})\\s+(\\w+)\\s+(\\d{4})\\)\"\n",
    "    match = re.search(pattern, i)\n",
    "\n",
    "    if match:\n",
    "        day = match.group(1)\n",
    "        month = match.group(2)\n",
    "        yr = match.group(3)\n",
    "        last_ser_day.append(day)\n",
    "        last_ser_month.append(month)\n",
    "        last_ser_year.append(yr)\n",
    "    else:\n",
    "        last_ser_day.append('-')\n",
    "        last_ser_month.append('-')\n",
    "        last_ser_year.append('-')\n",
    "    \n",
    "insurance = []\n",
    "registration = []\n",
    "\n",
    "for i in result:\n",
    "    if len(i) >=16:\n",
    "        insurance.append(i[15])\n",
    "    else:\n",
    "        insurance.append('-')\n",
    "\n",
    "    \n",
    "validity_month = []\n",
    "for i in insurance:\n",
    "    if i != '-':\n",
    "        validity_month.append(i.split(' ')[-2])\n",
    "    else:\n",
    "        validity_month.append('-')\n",
    "\n",
    "    \n",
    "validity_year = []\n",
    "for i in insurance:\n",
    "    if i != '-':\n",
    "        validity_year.append(i.split(' ')[-1])\n",
    "    else:\n",
    "        validity_year.append('-')\n",
    "    \n",
    "for i in df['Overview']:\n",
    "    registration.append(i.split('\\n')[-1])\n",
    "    \n",
    "splt_r = []\n",
    "reg_month = []\n",
    "reg_year = []\n",
    "\n",
    "for i in registration:\n",
    "    splt_r.append(i.split())\n",
    "\n",
    "for i in registration:\n",
    "    reg_month.append(i.split()[0])\n",
    "    \n",
    "for i in splt_r:\n",
    "    if len(i)>1:\n",
    "        if len(i[0])>2 or len(i[1])>2:\n",
    "            reg_year.append(i[1])\n",
    "    else:\n",
    "        reg_year.append('-')       \n",
    "\n",
    "\n",
    "# Dataset:\n",
    "\n",
    "pd.set_option('display.max_rows', None)\n",
    "pd.set_option('display.max_columns', None)\n",
    "\n",
    "df['Brand Name'] = comp\n",
    "df['Model Name'] = model_name\n",
    "df['Year'] = year\n",
    "df['Type'] = type\n",
    "df['Kms Driven'] = kms_driven\n",
    "df['Plate Number State'] = plate_number_state\n",
    "df['Plate Number'] = plate_number_n\n",
    "df['Full amount'] = t_amt\n",
    "df['Discounted amount'] = d_amt\n",
    "df['Monthly EMI'] = emi\n",
    "df['History'] = history\n",
    "df['Owner Details'] = owner\n",
    "df['Fuel Type'] = fuel_type\n",
    "df['last_service'] = last_service\n",
    "df['last_service kms'] = last_ser_kms\n",
    "df['last_service day'] = last_ser_day\n",
    "df['last_service month'] = last_ser_month\n",
    "df['last_service year'] = last_ser_year\n",
    "df['Insurance details'] = insurance\n",
    "df['Insurance validity Month'] = validity_month\n",
    "df['Insurance validity Year'] = validity_year\n",
    "df['Registration'] = registration\n",
    "df['Registration Month'] = reg_month\n",
    "df['Registration Year'] = reg_year\n",
    "\n",
    "df.drop(columns = ['Name','Details','Amount','Installment','EMI','Overview'],axis = 0,inplace=True)\n",
    "\n",
    "df.head()"
   ]
  },
  {
   "cell_type": "code",
   "execution_count": null,
   "id": "6011db1c",
   "metadata": {},
   "outputs": [],
   "source": [
    "df['Brand Name'].replace('[]', '', inplace=True)"
   ]
  },
  {
   "cell_type": "code",
   "execution_count": null,
   "id": "6defe800",
   "metadata": {},
   "outputs": [],
   "source": [
    "df.replace('-', np.nan, inplace=True)"
   ]
  },
  {
   "cell_type": "code",
   "execution_count": null,
   "id": "48ee4867",
   "metadata": {},
   "outputs": [],
   "source": [
    "df.dropna(axis=0,inplace=True)"
   ]
  },
  {
   "cell_type": "code",
   "execution_count": null,
   "id": "625a6d60",
   "metadata": {},
   "outputs": [],
   "source": [
    "df.head()"
   ]
  },
  {
   "cell_type": "code",
   "execution_count": null,
   "id": "e0c94cc4",
   "metadata": {},
   "outputs": [],
   "source": [
    "# df.to_csv(r'C:\\Users\\Lenovo\\OneDrive\\Desktop\\Filp Robo worksheets and projects\\Car Price Prediction\\clean_cars_data.csv')"
   ]
  },
  {
   "cell_type": "code",
   "execution_count": null,
   "id": "b933f4d9",
   "metadata": {},
   "outputs": [],
   "source": [
    "df = pd.read_csv(r'C:\\Users\\Lenovo\\OneDrive\\Desktop\\Filp Robo worksheets and projects\\Car Price Prediction\\clean_cars_data.csv')"
   ]
  },
  {
   "cell_type": "code",
   "execution_count": null,
   "id": "8a562cbf",
   "metadata": {},
   "outputs": [],
   "source": [
    "# Exploratory data analysis"
   ]
  },
  {
   "cell_type": "code",
   "execution_count": null,
   "id": "1ef2ca07",
   "metadata": {},
   "outputs": [],
   "source": [
    "df.drop(['Unnamed: 0'],axis=1,inplace=True)"
   ]
  },
  {
   "cell_type": "code",
   "execution_count": null,
   "id": "37700e25",
   "metadata": {
    "scrolled": false
   },
   "outputs": [],
   "source": [
    "print(df.columns,'\\n\\n\\n')\n",
    "\n",
    "print(df.shape,'\\n\\n\\n')\n",
    "\n",
    "print(df.dtypes,'\\n\\n\\n')\n",
    "\n",
    "print(df.isnull().sum(),'\\n\\n\\n')\n",
    "\n",
    "df.describe().T"
   ]
  },
  {
   "cell_type": "code",
   "execution_count": null,
   "id": "2faa1fe0",
   "metadata": {},
   "outputs": [],
   "source": [
    "df.describe(include=['O']).T"
   ]
  },
  {
   "cell_type": "code",
   "execution_count": null,
   "id": "e3f868ee",
   "metadata": {},
   "outputs": [],
   "source": [
    "# Removing characters and converting astypes"
   ]
  },
  {
   "cell_type": "code",
   "execution_count": null,
   "id": "32c87d73",
   "metadata": {},
   "outputs": [],
   "source": [
    "df['last_service kms'] = df['last_service kms'].str.replace(',', '').astype('int64')\n",
    "\n",
    "df['Monthly EMI'] = df['Monthly EMI'].str.replace(',', '').str.replace('₹', '').astype('float64')\n",
    "\n",
    "df['Discounted amount'] = df['Discounted amount'].str.replace(',', '').str.replace('₹', '').astype('float64')\n",
    "\n",
    "df['Kms Driven'] = df['Kms Driven'].str.replace(',', '').astype('float64')\n",
    "\n",
    "df['Year'] = df['Year'].astype('int64')"
   ]
  },
  {
   "cell_type": "code",
   "execution_count": null,
   "id": "a25dd582",
   "metadata": {},
   "outputs": [],
   "source": [
    "df.drop(columns = ['Registration'],axis=1,inplace=True)"
   ]
  },
  {
   "cell_type": "code",
   "execution_count": null,
   "id": "e4c2aaea",
   "metadata": {},
   "outputs": [],
   "source": [
    "df.drop(columns = ['Insurance details'],axis=1,inplace=True)"
   ]
  },
  {
   "cell_type": "code",
   "execution_count": null,
   "id": "bfefdf43",
   "metadata": {},
   "outputs": [],
   "source": [
    "df.drop(columns = ['last_service'],axis=1,inplace=True)"
   ]
  },
  {
   "cell_type": "code",
   "execution_count": null,
   "id": "e4bd044c",
   "metadata": {},
   "outputs": [],
   "source": [
    "df['Registration Year'].replace('NA',2019, inplace=True)"
   ]
  },
  {
   "cell_type": "code",
   "execution_count": null,
   "id": "5eca407a",
   "metadata": {},
   "outputs": [],
   "source": [
    "df['last_service day'] = df['last_service day'].astype('int64')\n",
    "df['last_service year'] = df['last_service year'].astype('int64')\n",
    "df['Insurance validity Year'] = df['Insurance validity Year'].astype('int64')\n",
    "df['Registration Year'] = df['Registration Year'].astype('int64')"
   ]
  },
  {
   "cell_type": "code",
   "execution_count": null,
   "id": "ebeebffe",
   "metadata": {},
   "outputs": [],
   "source": [
    "clfa = []\n",
    "for i in df['Full amount']:\n",
    "    if i != '0':\n",
    "        clfa.append(i.replace(',', '').replace('₹', ''))\n",
    "    elif i == 'Fixed Price':\n",
    "        clfa.append('Fixed Price')\n",
    "        \n",
    "df['Full amount'] = clfa"
   ]
  },
  {
   "cell_type": "code",
   "execution_count": null,
   "id": "253a6fed",
   "metadata": {},
   "outputs": [],
   "source": [
    "# Treating full price:\n",
    "\n",
    "df['Full amount'].replace('Fixed Price', 0, inplace=True)"
   ]
  },
  {
   "cell_type": "code",
   "execution_count": null,
   "id": "1a2a8b3d",
   "metadata": {},
   "outputs": [],
   "source": [
    "df['Full amount'] = df['Full amount'].astype('float64')"
   ]
  },
  {
   "cell_type": "code",
   "execution_count": null,
   "id": "d7f95644",
   "metadata": {},
   "outputs": [],
   "source": [
    "# Statistical analysis"
   ]
  },
  {
   "cell_type": "code",
   "execution_count": null,
   "id": "fe8323e5",
   "metadata": {},
   "outputs": [],
   "source": [
    "len(df['Full amount'])"
   ]
  },
  {
   "cell_type": "code",
   "execution_count": null,
   "id": "875d3a3c",
   "metadata": {},
   "outputs": [],
   "source": [
    "df.head()"
   ]
  },
  {
   "cell_type": "code",
   "execution_count": null,
   "id": "dd7fe724",
   "metadata": {},
   "outputs": [],
   "source": [
    "# Imp libs:\n",
    "import numpy as np\n",
    "import pandas as pd\n",
    "import matplotlib.pyplot as plt\n",
    "import seaborn as sns\n",
    "import re\n",
    "\n",
    "# Spliting data\n",
    "from sklearn.model_selection import train_test_split,GridSearchCV\n",
    "\n",
    "from statsmodels.stats.outliers_influence import variance_inflation_factor\n",
    "\n",
    "# Removing warnings\n",
    "import warnings\n",
    "warnings.filterwarnings('ignore')\n",
    "\n",
    "%matplotlib inline"
   ]
  },
  {
   "cell_type": "code",
   "execution_count": null,
   "id": "74b5a193",
   "metadata": {},
   "outputs": [],
   "source": [
    "# From here"
   ]
  },
  {
   "cell_type": "code",
   "execution_count": null,
   "id": "79b7d696",
   "metadata": {},
   "outputs": [],
   "source": [
    "# df.to_csv(r'C:\\Users\\Lenovo\\OneDrive\\Desktop\\Filp Robo worksheets and projects\\df_clean.csv')"
   ]
  },
  {
   "cell_type": "code",
   "execution_count": null,
   "id": "3f8fa539",
   "metadata": {},
   "outputs": [],
   "source": [
    "df = pd.read_csv(r'C:\\Users\\Lenovo\\OneDrive\\Desktop\\Filp Robo worksheets and projects\\df_clean.csv')"
   ]
  },
  {
   "cell_type": "code",
   "execution_count": null,
   "id": "d0c8114e",
   "metadata": {},
   "outputs": [],
   "source": [
    "df.drop('Unnamed: 0',axis=1,inplace=True)"
   ]
  },
  {
   "cell_type": "code",
   "execution_count": null,
   "id": "bea98345",
   "metadata": {},
   "outputs": [],
   "source": [
    "df"
   ]
  },
  {
   "cell_type": "code",
   "execution_count": null,
   "id": "37450bc8",
   "metadata": {
    "scrolled": false
   },
   "outputs": [],
   "source": [
    "df.dtypes"
   ]
  },
  {
   "cell_type": "code",
   "execution_count": null,
   "id": "3cf63fca",
   "metadata": {},
   "outputs": [],
   "source": [
    "cont_data = df.select_dtypes(include=['int64','float64'])\n",
    "\n",
    "cat_data= df.select_dtypes(include=['object'])\n",
    "\n",
    "cont_columns = cont_data.columns\n",
    "\n",
    "cat_columns = cat_data.columns\n",
    "\n",
    "print(cont_columns)\n",
    "\n",
    "print(cat_columns)"
   ]
  },
  {
   "cell_type": "code",
   "execution_count": null,
   "id": "c787f05b",
   "metadata": {},
   "outputs": [],
   "source": [
    "df.describe().T"
   ]
  },
  {
   "cell_type": "code",
   "execution_count": null,
   "id": "04ea9ca5",
   "metadata": {},
   "outputs": [],
   "source": [
    "df.describe(include='object').T"
   ]
  },
  {
   "cell_type": "code",
   "execution_count": null,
   "id": "ffcfa555",
   "metadata": {},
   "outputs": [],
   "source": [
    "from scipy import stats\n",
    "\n",
    "for i in cat_columns:\n",
    "    print('For',i,', most frequent value is: ',stats.mode(df[i]),'\\n')"
   ]
  },
  {
   "cell_type": "code",
   "execution_count": null,
   "id": "ff686812",
   "metadata": {
    "scrolled": false
   },
   "outputs": [],
   "source": [
    "for i in df.columns:\n",
    "    print('For column',i,'unique values are: ',df[i].unique())\n",
    "    print('For column',i,'count of unique values are: ',df[i].nunique(),'\\n\\n')"
   ]
  },
  {
   "cell_type": "code",
   "execution_count": null,
   "id": "4ed8599e",
   "metadata": {
    "scrolled": true
   },
   "outputs": [],
   "source": [
    "for i in cat_columns:\n",
    "    print('For column --',i,'-- value counts are: \\n',df[i].value_counts(),'\\n\\n')"
   ]
  },
  {
   "cell_type": "code",
   "execution_count": null,
   "id": "55763782",
   "metadata": {},
   "outputs": [],
   "source": [
    "# Data Analysis"
   ]
  },
  {
   "cell_type": "code",
   "execution_count": null,
   "id": "7bf11fa0",
   "metadata": {
    "scrolled": true
   },
   "outputs": [],
   "source": [
    "for i in cat_columns:\n",
    "    f= plt.figure(figsize=(12,5))\n",
    "    ax = sns.countplot(x=df[i],data=df)\n",
    "    plt.xticks(rotation=90)"
   ]
  },
  {
   "cell_type": "code",
   "execution_count": null,
   "id": "90f7306b",
   "metadata": {},
   "outputs": [],
   "source": [
    "# Scatterplot\n",
    "\n",
    "for i in cont_columns:\n",
    "    plt.figure(figsize=(12,8))\n",
    "    sns.scatterplot(x = df.index, y = i, data = df)\n",
    "    plt.xticks(rotation=90)\n",
    "    plt.show()"
   ]
  },
  {
   "cell_type": "code",
   "execution_count": null,
   "id": "b919a830",
   "metadata": {
    "scrolled": true
   },
   "outputs": [],
   "source": [
    "# Stripplot\n",
    "\n",
    "for i in cont_columns:\n",
    "    plt.figure(figsize=(12,8))\n",
    "    sns.stripplot(x = i, data = df)\n",
    "    plt.xticks(rotation=90)\n",
    "    plt.show()"
   ]
  },
  {
   "cell_type": "code",
   "execution_count": null,
   "id": "657b8410",
   "metadata": {},
   "outputs": [],
   "source": [
    "# Univariate Summary plots"
   ]
  },
  {
   "cell_type": "code",
   "execution_count": null,
   "id": "396b7cfc",
   "metadata": {
    "scrolled": true
   },
   "outputs": [],
   "source": [
    "# Histogram plot:\n",
    "\n",
    "for i in cont_columns:\n",
    "    plt.figure(figsize=(10,6),facecolor='orange')\n",
    "    plt.hist(df[i],bins=10)\n",
    "    plt.xlabel(i)\n",
    "    plt.show()"
   ]
  },
  {
   "cell_type": "code",
   "execution_count": null,
   "id": "10d5fcac",
   "metadata": {},
   "outputs": [],
   "source": [
    "# Densityplot\n",
    "\n",
    "for i in cont_columns:\n",
    "    plt.figure(figsize=(10,6),facecolor='orange')\n",
    "    sns.kdeplot(df[i], shade=True)\n",
    "    plt.xlabel(i)\n",
    "    plt.show()"
   ]
  },
  {
   "cell_type": "code",
   "execution_count": null,
   "id": "f6be8af8",
   "metadata": {},
   "outputs": [],
   "source": [
    "# Boxplots\n",
    "\n",
    "for i in cont_columns:\n",
    "    plt.figure(figsize=(10,6),facecolor='orange')\n",
    "    sns.boxplot(df[i])\n",
    "    plt.xlabel(i)\n",
    "    plt.show()"
   ]
  },
  {
   "cell_type": "code",
   "execution_count": null,
   "id": "a23f7075",
   "metadata": {
    "scrolled": true
   },
   "outputs": [],
   "source": [
    "# Distplot\n",
    "\n",
    "for i in cont_columns:\n",
    "    plt.figure(figsize=(10,6),facecolor='orange')\n",
    "    sns.distplot(df[i])\n",
    "    plt.xlabel(i)\n",
    "    plt.show()"
   ]
  },
  {
   "cell_type": "code",
   "execution_count": null,
   "id": "dbdfac64",
   "metadata": {},
   "outputs": [],
   "source": [
    "# Violinplot\n",
    "\n",
    "for i in cont_columns:\n",
    "    plt.figure(figsize=(10,6),facecolor='skyblue')\n",
    "    sns.violinplot(df[i],showmedians=True)\n",
    "    plt.xlabel(i)\n",
    "    plt.show()"
   ]
  },
  {
   "cell_type": "code",
   "execution_count": null,
   "id": "ed49be9f",
   "metadata": {},
   "outputs": [],
   "source": [
    "plt.pie(df['Year'], autopct='%.0f%%')\n",
    "plt.show()"
   ]
  },
  {
   "cell_type": "code",
   "execution_count": null,
   "id": "696328bd",
   "metadata": {},
   "outputs": [],
   "source": [
    "cont_columns"
   ]
  },
  {
   "cell_type": "code",
   "execution_count": null,
   "id": "1ab2bf1a",
   "metadata": {},
   "outputs": [],
   "source": [
    "cat_columns"
   ]
  },
  {
   "cell_type": "code",
   "execution_count": null,
   "id": "e330d21d",
   "metadata": {},
   "outputs": [],
   "source": [
    "# Bivariate analysis"
   ]
  },
  {
   "cell_type": "code",
   "execution_count": null,
   "id": "17f3fca9",
   "metadata": {
    "scrolled": false
   },
   "outputs": [],
   "source": [
    "for i in cont_columns:\n",
    "    plt.figure(figsize=(10,6),facecolor='skyblue')    \n",
    "    sns.boxplot(x = 'Brand Name', y = i, data = df)\n",
    "    plt.xticks(rotation=90)\n",
    "    plt.show()"
   ]
  },
  {
   "cell_type": "code",
   "execution_count": null,
   "id": "168043cd",
   "metadata": {},
   "outputs": [],
   "source": [
    "for i in cont_columns:\n",
    "    plt.figure(figsize=(10,6),facecolor='skyblue')    \n",
    "    sns.boxplot(x = 'last_service month', y = i, data = df)\n",
    "    plt.show()"
   ]
  },
  {
   "cell_type": "code",
   "execution_count": null,
   "id": "0074bd52",
   "metadata": {},
   "outputs": [],
   "source": [
    "for i in cont_columns:\n",
    "    plt.figure(figsize=(10,6),facecolor='skyblue')    \n",
    "    sns.boxplot(x = 'Insurance validity Month', y = i, data = df)\n",
    "    plt.show()"
   ]
  },
  {
   "cell_type": "code",
   "execution_count": null,
   "id": "6ec7cf17",
   "metadata": {},
   "outputs": [],
   "source": [
    "for i in cont_columns:\n",
    "    plt.figure(figsize=(10,6),facecolor='skyblue')    \n",
    "    sns.boxplot(x = 'Fuel Type', y = i, data = df)\n",
    "    plt.show()"
   ]
  },
  {
   "cell_type": "code",
   "execution_count": null,
   "id": "f6700fac",
   "metadata": {},
   "outputs": [],
   "source": [
    "for i in cont_columns:\n",
    "    plt.figure(figsize=(10,6),facecolor='skyblue')    \n",
    "    sns.boxplot(x = 'Owner Details', y = i, data = df)\n",
    "    plt.show()"
   ]
  },
  {
   "cell_type": "code",
   "execution_count": null,
   "id": "126d8b06",
   "metadata": {},
   "outputs": [],
   "source": [
    "for i in cont_columns:\n",
    "    plt.figure(figsize=(10,6),facecolor='skyblue')    \n",
    "    sns.boxplot(x = 'History', y = i, data = df)\n",
    "    plt.show()"
   ]
  },
  {
   "cell_type": "code",
   "execution_count": null,
   "id": "d0de1537",
   "metadata": {},
   "outputs": [],
   "source": [
    "for i in cont_columns:\n",
    "    plt.figure(figsize=(10,6),facecolor='skyblue')    \n",
    "    sns.boxplot(x = 'Registration Month', y = i, data = df)\n",
    "    plt.show()"
   ]
  },
  {
   "cell_type": "code",
   "execution_count": null,
   "id": "169eaea6",
   "metadata": {},
   "outputs": [],
   "source": [
    "for i in cont_columns:\n",
    "    plt.figure(figsize=(10,6),facecolor='skyblue')    \n",
    "    sns.boxplot(x = 'Plate Number', y = i, data = df)\n",
    "    plt.show()"
   ]
  },
  {
   "cell_type": "code",
   "execution_count": null,
   "id": "d47af80d",
   "metadata": {},
   "outputs": [],
   "source": [
    "for i in cont_columns:\n",
    "    plt.figure(figsize=(10,6),facecolor='skyblue')    \n",
    "    sns.boxplot(x = 'Plate Number State', y = i, data = df)\n",
    "    plt.show()"
   ]
  },
  {
   "cell_type": "code",
   "execution_count": null,
   "id": "8b3e7de0",
   "metadata": {},
   "outputs": [],
   "source": [
    "for i in cont_columns:\n",
    "    plt.figure(figsize=(10,6),facecolor='skyblue')    \n",
    "    sns.boxplot(x = 'Type', y = i, data = df)\n",
    "    plt.show()"
   ]
  },
  {
   "cell_type": "code",
   "execution_count": null,
   "id": "da585757",
   "metadata": {},
   "outputs": [],
   "source": [
    "for i in cont_columns:\n",
    "    plt.figure(figsize=(10,6),facecolor='skyblue')    \n",
    "    sns.boxplot(x = 'City', y = i, data = df)\n",
    "    plt.show()"
   ]
  },
  {
   "cell_type": "code",
   "execution_count": null,
   "id": "08c00bac",
   "metadata": {
    "scrolled": true
   },
   "outputs": [],
   "source": [
    "for i in cont_columns:\n",
    "    plt.figure(figsize=(10,6),facecolor='skyblue')    \n",
    "    sns.boxplot(x = 'Downpayment', y = i, data = df)\n",
    "    plt.show()"
   ]
  },
  {
   "cell_type": "code",
   "execution_count": null,
   "id": "d4323bac",
   "metadata": {
    "scrolled": true
   },
   "outputs": [],
   "source": [
    "for i in cont_columns:\n",
    "    plt.figure(figsize=(10,6),facecolor='skyblue')    \n",
    "    sns.boxplot(x = 'Year', y = i, data = df)\n",
    "    plt.show()"
   ]
  },
  {
   "cell_type": "code",
   "execution_count": null,
   "id": "223b6168",
   "metadata": {},
   "outputs": [],
   "source": [
    "for i in cont_columns:\n",
    "    plt.figure(figsize=(10,6),facecolor='skyblue')    \n",
    "    sns.boxplot(x = 'last_service day', y = i, data = df)\n",
    "    plt.show()"
   ]
  },
  {
   "cell_type": "code",
   "execution_count": null,
   "id": "e55336f8",
   "metadata": {},
   "outputs": [],
   "source": [
    "for i in cont_columns:\n",
    "    plt.figure(figsize=(10,6),facecolor='skyblue')    \n",
    "    sns.boxplot(x = 'last_service year', y = i, data = df)\n",
    "    plt.show()"
   ]
  },
  {
   "cell_type": "code",
   "execution_count": null,
   "id": "28d58604",
   "metadata": {},
   "outputs": [],
   "source": [
    "for i in cont_columns:\n",
    "    plt.figure(figsize=(10,6),facecolor='skyblue')    \n",
    "    sns.boxplot(x = 'Insurance validity Year', y = i, data = df)\n",
    "    plt.show()"
   ]
  },
  {
   "cell_type": "code",
   "execution_count": null,
   "id": "4be2391b",
   "metadata": {},
   "outputs": [],
   "source": [
    "for i in cont_columns:\n",
    "    plt.figure(figsize=(10,6),facecolor='skyblue')    \n",
    "    sns.boxplot(x = 'Registration Year', y = i, data = df)\n",
    "    plt.show()"
   ]
  },
  {
   "cell_type": "code",
   "execution_count": null,
   "id": "2c1ada45",
   "metadata": {},
   "outputs": [],
   "source": [
    "plt.figure(figsize=(20,20),facecolor='skyblue')    \n",
    "sns.boxplot(x = 'Full amount', y = 'Year', data = df,hue='Brand Name')\n",
    "plt.show()"
   ]
  },
  {
   "cell_type": "code",
   "execution_count": null,
   "id": "8f80c12d",
   "metadata": {},
   "outputs": [],
   "source": [
    "# Swarm plot"
   ]
  },
  {
   "cell_type": "code",
   "execution_count": null,
   "id": "8039ebae",
   "metadata": {},
   "outputs": [],
   "source": [
    "sns.swarmplot(x = 'policy_number', y = \"fraud_reported\", palette = \"Set2\", data = df)"
   ]
  },
  {
   "cell_type": "code",
   "execution_count": null,
   "id": "c3dd19e9",
   "metadata": {},
   "outputs": [],
   "source": [
    "# lmplot"
   ]
  },
  {
   "cell_type": "code",
   "execution_count": null,
   "id": "64bc1cbc",
   "metadata": {},
   "outputs": [],
   "source": [
    "cont_columns"
   ]
  },
  {
   "cell_type": "code",
   "execution_count": null,
   "id": "4b0de0a6",
   "metadata": {},
   "outputs": [],
   "source": [
    "cat_columns"
   ]
  },
  {
   "cell_type": "code",
   "execution_count": null,
   "id": "368f90b7",
   "metadata": {},
   "outputs": [],
   "source": [
    "# LMplot"
   ]
  },
  {
   "cell_type": "code",
   "execution_count": null,
   "id": "0626d6ac",
   "metadata": {
    "scrolled": false
   },
   "outputs": [],
   "source": [
    "for i in cont_columns:\n",
    "    plt.figure(figsize=(10,6),facecolor='skyblue')    \n",
    "    sns.lmplot(x = i, y = 'Full amount', data = df)\n",
    "    plt.show()"
   ]
  },
  {
   "cell_type": "code",
   "execution_count": null,
   "id": "f3ea68ba",
   "metadata": {
    "scrolled": true
   },
   "outputs": [],
   "source": [
    "for i in cont_columns[0:5]:\n",
    "    for j in cont_columns[5:10]:\n",
    "        plt.figure(figsize=(10,6),facecolor='skyblue')    \n",
    "        sns.lmplot(x = j, y = i, data = df)\n",
    "        plt.show()"
   ]
  },
  {
   "cell_type": "code",
   "execution_count": null,
   "id": "c085eec5",
   "metadata": {},
   "outputs": [],
   "source": [
    "for i in cont_columns[0:5]:\n",
    "    for j in cont_columns[5:10]:\n",
    "        plt.figure(figsize=(10,6),facecolor='skyblue')    \n",
    "        sns.lmplot(x = j, y = i, data = df,hue='Brand Name')\n",
    "        plt.show()"
   ]
  },
  {
   "cell_type": "code",
   "execution_count": null,
   "id": "518f4cea",
   "metadata": {},
   "outputs": [],
   "source": [
    "# Grouping by brands"
   ]
  },
  {
   "cell_type": "code",
   "execution_count": null,
   "id": "a1a5f76f",
   "metadata": {},
   "outputs": [],
   "source": [
    "brand_groups = df.groupby('Brand Name')"
   ]
  },
  {
   "cell_type": "code",
   "execution_count": null,
   "id": "f31ce153",
   "metadata": {},
   "outputs": [],
   "source": [
    "brand_groups['Full amount'].mean().sort_values(ascending=False)"
   ]
  },
  {
   "cell_type": "code",
   "execution_count": null,
   "id": "ec7e84ea",
   "metadata": {},
   "outputs": [],
   "source": [
    "brand_groups['Full amount'].median().sort_values(ascending=False)"
   ]
  },
  {
   "cell_type": "code",
   "execution_count": null,
   "id": "8628f34f",
   "metadata": {},
   "outputs": [],
   "source": [
    "brand_groups['Year'].mean().sort_values(ascending=False)"
   ]
  },
  {
   "cell_type": "code",
   "execution_count": null,
   "id": "5d4f0d3e",
   "metadata": {},
   "outputs": [],
   "source": [
    "brand_groups['Year'].median().sort_values(ascending=False)"
   ]
  },
  {
   "cell_type": "code",
   "execution_count": null,
   "id": "91dcbe83",
   "metadata": {},
   "outputs": [],
   "source": [
    "brand_groups['Year'].count().sort_values(ascending=False)"
   ]
  },
  {
   "cell_type": "code",
   "execution_count": null,
   "id": "54b6e265",
   "metadata": {},
   "outputs": [],
   "source": [
    "brand_groups['Kms Driven'].mean().sort_values(ascending=False)"
   ]
  },
  {
   "cell_type": "code",
   "execution_count": null,
   "id": "c34cfa6b",
   "metadata": {},
   "outputs": [],
   "source": [
    "# Grouping by fuel type"
   ]
  },
  {
   "cell_type": "code",
   "execution_count": null,
   "id": "da80af1b",
   "metadata": {},
   "outputs": [],
   "source": [
    "fuel_groups = df.groupby('Fuel Type')"
   ]
  },
  {
   "cell_type": "code",
   "execution_count": null,
   "id": "916750fb",
   "metadata": {},
   "outputs": [],
   "source": [
    "fuel_groups['Full amount'].mean().sort_values(ascending=False)"
   ]
  },
  {
   "cell_type": "code",
   "execution_count": null,
   "id": "1cd83709",
   "metadata": {},
   "outputs": [],
   "source": [
    "fuel_groups['Full amount'].median().sort_values(ascending=False)"
   ]
  },
  {
   "cell_type": "code",
   "execution_count": null,
   "id": "08112782",
   "metadata": {},
   "outputs": [],
   "source": [
    "fuel_groups['Discounted amount'].mean().sort_values(ascending=False)"
   ]
  },
  {
   "cell_type": "code",
   "execution_count": null,
   "id": "482a5171",
   "metadata": {},
   "outputs": [],
   "source": [
    "fuel_groups['Discounted amount'].median().sort_values(ascending=False)"
   ]
  },
  {
   "cell_type": "code",
   "execution_count": null,
   "id": "77550043",
   "metadata": {},
   "outputs": [],
   "source": [
    "# variant groups"
   ]
  },
  {
   "cell_type": "code",
   "execution_count": null,
   "id": "6e8b54d6",
   "metadata": {},
   "outputs": [],
   "source": [
    "variant_groups = df.groupby('Variant')"
   ]
  },
  {
   "cell_type": "code",
   "execution_count": null,
   "id": "f0c02ed0",
   "metadata": {
    "scrolled": true
   },
   "outputs": [],
   "source": [
    "pd.set_option('display.max_rows', None)\n",
    "pd.set_option('display.max_columns', None)\n",
    "pd.set_option('display.width', None)\n",
    "pd.set_option('display.max_colwidth', -1)\n",
    "\n",
    "variant_groups['Full amount'].mean().sort_values(ascending=False)"
   ]
  },
  {
   "cell_type": "code",
   "execution_count": null,
   "id": "d04bba4d",
   "metadata": {},
   "outputs": [],
   "source": [
    "df.columns"
   ]
  },
  {
   "cell_type": "code",
   "execution_count": null,
   "id": "9df51ccb",
   "metadata": {},
   "outputs": [],
   "source": [
    "df1 = df.copy()"
   ]
  },
  {
   "cell_type": "code",
   "execution_count": null,
   "id": "2c199cf4",
   "metadata": {},
   "outputs": [],
   "source": [
    "# Feature Engineering:\n",
    "\n",
    "variant = []\n",
    "for i in df['Model Name']:\n",
    "    variant.append(i.split(' ')[-4:])\n",
    "    \n",
    "df['Variant'] = variant\n",
    "\n",
    "v1 = []\n",
    "v2 = []\n",
    "v3 = []\n",
    "v4 = []\n",
    "v5 = []\n",
    "\n",
    "for i in variant:\n",
    "    if len(i)>=4:\n",
    "        v1.append(i[0])\n",
    "        v2.append(i[1])\n",
    "        v3.append(i[2])\n",
    "        v4.append(i[3])\n",
    "    elif len(i)>=3:\n",
    "        v1.append(i[0])\n",
    "        v2.append(i[1])\n",
    "        v3.append(i[2])\n",
    "        v4.append('NA')\n",
    "    elif len(i)>=2:\n",
    "        v1.append(i[0])\n",
    "        v2.append(i[1])\n",
    "        v3.append('NA')\n",
    "        v4.append('NA')\n",
    "    elif len(i)<=1:\n",
    "        v1.append(i[0])\n",
    "        v2.append('NA')\n",
    "        v3.append('NA')\n",
    "        v4.append('NA')\n",
    "\n",
    "var = pd.DataFrame()\n",
    "\n",
    "var['V1'] = v1\n",
    "var['V2'] = v2\n",
    "var['V3'] = v3\n",
    "var['V4'] = v4\n",
    "\n",
    "var = var.astype(str)\n",
    "var_dum = pd.get_dummies(var)\n",
    "var_dum.shape"
   ]
  },
  {
   "cell_type": "code",
   "execution_count": null,
   "id": "8cb07165",
   "metadata": {},
   "outputs": [],
   "source": [
    "df1.shape"
   ]
  },
  {
   "cell_type": "code",
   "execution_count": null,
   "id": "2574e9f7",
   "metadata": {},
   "outputs": [],
   "source": [
    "df1.shape"
   ]
  },
  {
   "cell_type": "code",
   "execution_count": null,
   "id": "ae9a0c3d",
   "metadata": {},
   "outputs": [],
   "source": [
    "# Using Z Statistics to check and remove any more outliers:\n",
    "\n",
    "from scipy.stats import zscore\n",
    "\n",
    "z_score = zscore(df1[cont_columns])\n",
    "\n",
    "abs_z_score = np.abs(z_score)\n",
    "\n",
    "filtering_entry = (abs_z_score < 1.5).all(axis=1) # values lying in 3 times std will be removed\n",
    "\n",
    "df1 = df1[filtering_entry]\n",
    "\n",
    "df1.describe()"
   ]
  },
  {
   "cell_type": "code",
   "execution_count": null,
   "id": "46e0978e",
   "metadata": {},
   "outputs": [],
   "source": [
    "# Checking the distribution of continuous variables:\n",
    "\n",
    "for i in cont_columns:\n",
    "    plt.figure(figsize=(12,7),facecolor='orange')\n",
    "    sns.distplot(df1[i])\n",
    "    plt.show()"
   ]
  },
  {
   "cell_type": "code",
   "execution_count": null,
   "id": "8626b81d",
   "metadata": {},
   "outputs": [],
   "source": [
    "# Checking data skewness:\n",
    "\n",
    "df1.skew().sort_values()"
   ]
  },
  {
   "cell_type": "code",
   "execution_count": null,
   "id": "1259e7e6",
   "metadata": {},
   "outputs": [],
   "source": [
    "sns.pairplot(df1,hue='Brand Name')"
   ]
  },
  {
   "cell_type": "code",
   "execution_count": null,
   "id": "46f63f51",
   "metadata": {},
   "outputs": [],
   "source": [
    "# Correlation between features and label:\n",
    "\n",
    "# Replacing attrition column values:\n",
    "\n",
    "df1.drop(columns = 'Full amount',axis = 1).corrwith(df1['Full amount']).plot(kind='bar',grid=True,figsize=(10,7),title='corelation between features and labels')\n",
    "plt.show()"
   ]
  },
  {
   "cell_type": "code",
   "execution_count": null,
   "id": "f4dca3e5",
   "metadata": {},
   "outputs": [],
   "source": [
    "df_corr = df1.corr().abs()\n",
    "plt.figure(figsize=(25,22))\n",
    "sns.heatmap(df_corr,annot=True,annot_kws={'size':10})\n",
    "plt.show()"
   ]
  },
  {
   "cell_type": "code",
   "execution_count": null,
   "id": "62c67167",
   "metadata": {},
   "outputs": [],
   "source": [
    "cont_columns"
   ]
  },
  {
   "cell_type": "code",
   "execution_count": null,
   "id": "ad8c2e0f",
   "metadata": {},
   "outputs": [],
   "source": [
    "from statsmodels.stats.outliers_influence import variance_inflation_factor\n",
    "\n",
    "vif = pd.DataFrame()\n",
    "vif['vif'] = [variance_inflation_factor(df1[cont_columns],i) for i in range(df1[cont_columns].shape[1])]\n",
    "vif['features'] = df1[cont_columns].columns\n",
    "vif.sort_values(by='vif',ascending=False)"
   ]
  },
  {
   "cell_type": "code",
   "execution_count": null,
   "id": "00f21cfc",
   "metadata": {},
   "outputs": [],
   "source": [
    "df1.drop(columns=['last_service kms','Year','Insurance validity Year'],axis=1,inplace=True)\n",
    "\n",
    "df1.drop(columns=['Registration Year','Monthly EMI'],axis=1,inplace=True)\n",
    "\n",
    "df1.drop(columns=['last_service year'],axis=1,inplace=True)\n",
    "\n",
    "df1.drop(columns=['Full amount'],axis=1,inplace=True)"
   ]
  },
  {
   "cell_type": "code",
   "execution_count": null,
   "id": "becf801d",
   "metadata": {},
   "outputs": [],
   "source": [
    "cont_data = df1.select_dtypes(include=['int64','float64'])\n",
    "\n",
    "cat_data= df1.select_dtypes(include=['object'])\n",
    "\n",
    "cont_columns = cont_data.columns\n",
    "\n",
    "cat_columns = cat_data.columns\n",
    "\n",
    "print(cont_columns)\n",
    "\n",
    "print(cat_columns)"
   ]
  },
  {
   "cell_type": "code",
   "execution_count": null,
   "id": "27454d1c",
   "metadata": {},
   "outputs": [],
   "source": [
    "from statsmodels.stats.outliers_influence import variance_inflation_factor\n",
    "\n",
    "vif = pd.DataFrame()\n",
    "vif['vif'] = [variance_inflation_factor(df1[cont_columns],i) for i in range(df1[cont_columns].shape[1])]\n",
    "vif['features'] = df1[cont_columns].columns\n",
    "vif.sort_values(by='vif',ascending=False)"
   ]
  },
  {
   "cell_type": "code",
   "execution_count": null,
   "id": "f20456a4",
   "metadata": {},
   "outputs": [],
   "source": [
    "df1.columns"
   ]
  },
  {
   "cell_type": "code",
   "execution_count": null,
   "id": "604473a7",
   "metadata": {},
   "outputs": [],
   "source": [
    "# Splitting data into features and label:\n",
    "\n",
    "y = df1['Discounted amount']\n",
    "X = df1.drop('Discounted amount',axis=1)"
   ]
  },
  {
   "cell_type": "code",
   "execution_count": null,
   "id": "d15fbddf",
   "metadata": {},
   "outputs": [],
   "source": [
    "X.drop('Variant',axis=1,inplace=True)"
   ]
  },
  {
   "cell_type": "code",
   "execution_count": null,
   "id": "2944f5f0",
   "metadata": {},
   "outputs": [],
   "source": [
    "cont_X = X.select_dtypes(include=['int64','float64'])\n",
    "\n",
    "cat_X= X.select_dtypes(include=['object'])\n",
    "\n",
    "cont_Xcolumns = cont_X.columns\n",
    "\n",
    "cat_Xcolumns = cat_X.columns\n",
    "\n",
    "print(cont_Xcolumns)\n",
    "\n",
    "print(cat_Xcolumns)"
   ]
  },
  {
   "cell_type": "code",
   "execution_count": null,
   "id": "cdb47c81",
   "metadata": {},
   "outputs": [],
   "source": [
    "cat_X"
   ]
  },
  {
   "cell_type": "code",
   "execution_count": null,
   "id": "56a353f3",
   "metadata": {},
   "outputs": [],
   "source": [
    "X_Dums = pd.get_dummies(cat_X)"
   ]
  },
  {
   "cell_type": "code",
   "execution_count": null,
   "id": "5772501b",
   "metadata": {},
   "outputs": [],
   "source": [
    "X_Dums = X_Dums.join(var_dum)"
   ]
  },
  {
   "cell_type": "code",
   "execution_count": null,
   "id": "7d7d3150",
   "metadata": {},
   "outputs": [],
   "source": [
    "X_Dums.shape"
   ]
  },
  {
   "cell_type": "code",
   "execution_count": null,
   "id": "82f6c45c",
   "metadata": {},
   "outputs": [],
   "source": [
    "from sklearn.feature_selection import SelectKBest, chi2\n",
    "\n",
    "# Perform chi-squared test\n",
    "chi2_selector = SelectKBest(chi2, k=500)\n",
    "X_kbest = chi2_selector.fit_transform(X_Dums, y)\n",
    "\n",
    "# Get the scores for each feature\n",
    "scores = chi2_selector.scores_\n",
    "\n",
    "# Create a DataFrame with the scores and the feature names\n",
    "scores_df = pd.DataFrame({'Features': X_Dums.columns, 'Scores': scores})\n",
    "\n",
    "# Sort the scores in descending order\n",
    "scores_df = scores_df.sort_values(by='Scores', ascending=False)\n",
    "\n",
    "# Print the top k features with the highest scores\n",
    "print(scores_df.head(10))"
   ]
  },
  {
   "cell_type": "code",
   "execution_count": null,
   "id": "8bd6c0ef",
   "metadata": {},
   "outputs": [],
   "source": [
    "X = X.join(X_Dums)"
   ]
  },
  {
   "cell_type": "code",
   "execution_count": null,
   "id": "d8afc1f0",
   "metadata": {},
   "outputs": [],
   "source": [
    "top_500 = scores_df['Features'][0:500]\n",
    "v= top_500.values"
   ]
  },
  {
   "cell_type": "code",
   "execution_count": null,
   "id": "3f2ebd80",
   "metadata": {},
   "outputs": [],
   "source": [
    "X_dums = pd.get_dummies(X)"
   ]
  },
  {
   "cell_type": "code",
   "execution_count": null,
   "id": "acd72e70",
   "metadata": {},
   "outputs": [],
   "source": [
    "X_dums.shape"
   ]
  },
  {
   "cell_type": "code",
   "execution_count": null,
   "id": "5ad3ba74",
   "metadata": {},
   "outputs": [],
   "source": [
    "from sklearn.preprocessing import PowerTransformer\n",
    "\n",
    "pt = PowerTransformer()\n",
    "\n",
    "X_trans = pt.fit_transform(X_dums)"
   ]
  },
  {
   "cell_type": "code",
   "execution_count": null,
   "id": "e3947ec7",
   "metadata": {},
   "outputs": [],
   "source": [
    "from sklearn.decomposition import PCA\n",
    "# Using PCA i.e. Principal Component Analysis that is a diamensionallity reduction technique:\n",
    "\n",
    "pcaf = PCA()\n",
    "pcaf.fit_transform(X_trans)"
   ]
  },
  {
   "cell_type": "code",
   "execution_count": null,
   "id": "6b6c71ff",
   "metadata": {},
   "outputs": [],
   "source": [
    "# Using Scree Plot to identify best components:\n",
    "\n",
    "plt.figure()\n",
    "plt.plot(np.cumsum(pcaf.explained_variance_ratio_))\n",
    "plt.xlabel('Principal Components')\n",
    "plt.ylabel('Variance Covered')\n",
    "plt.title('PCA')\n",
    "plt.show()"
   ]
  },
  {
   "cell_type": "code",
   "execution_count": null,
   "id": "23a2833b",
   "metadata": {},
   "outputs": [],
   "source": [
    "pca = PCA(n_components=750)\n",
    "new_pcomp = pca.fit_transform(X_trans)"
   ]
  },
  {
   "cell_type": "code",
   "execution_count": null,
   "id": "3989078b",
   "metadata": {},
   "outputs": [],
   "source": [
    "princi_comp = pd.DataFrame(new_pcomp)"
   ]
  },
  {
   "cell_type": "code",
   "execution_count": null,
   "id": "9b8eb319",
   "metadata": {},
   "outputs": [],
   "source": [
    "princi_comp.shape"
   ]
  },
  {
   "cell_type": "code",
   "execution_count": null,
   "id": "af8c3860",
   "metadata": {},
   "outputs": [],
   "source": [
    "# Splitting our data to training data and testing data\n",
    "# x_train,x_test,y_train,y_test\n",
    "\n",
    "x_train,x_test,y_train,y_test = train_test_split(princi_comp,y,test_size=0.20,random_state=1)\n",
    "\n",
    "# Here we are keeping training data as our scalled data and testing data as our label or target."
   ]
  },
  {
   "cell_type": "code",
   "execution_count": null,
   "id": "049758ff",
   "metadata": {},
   "outputs": [],
   "source": [
    "from sklearn.linear_model import LinearRegression\n",
    "import xgboost as xgb\n",
    "\n",
    "# MOdel instantiating and training\n",
    "\n",
    "rm = LinearRegression()\n",
    "rm.fit(x_train,y_train) \n",
    "# here we will pass training data"
   ]
  },
  {
   "cell_type": "code",
   "execution_count": null,
   "id": "a5ab6c54",
   "metadata": {},
   "outputs": [],
   "source": [
    "# Testing our model with Adjusted R2 Square: \n",
    "\n",
    "# on training data\n",
    "\n",
    "rm.score(x_train,y_train)"
   ]
  },
  {
   "cell_type": "code",
   "execution_count": null,
   "id": "e0e3e3a5",
   "metadata": {},
   "outputs": [],
   "source": [
    "# PLotting and visualizing\n",
    "\n",
    "y_pred = rm.predict(x_test)"
   ]
  },
  {
   "cell_type": "code",
   "execution_count": null,
   "id": "51949f44",
   "metadata": {
    "scrolled": true
   },
   "outputs": [],
   "source": [
    "plt.scatter(y_test,y_pred)\n",
    "plt.xlabel('Actual Charges')\n",
    "plt.ylabel('Predicted Charges')\n",
    "plt.title('Actual vs Model Predicted')\n",
    "plt.show()"
   ]
  },
  {
   "cell_type": "code",
   "execution_count": null,
   "id": "b0df21f0",
   "metadata": {},
   "outputs": [],
   "source": [
    "# Model Evaluation: MAE , MSE , RMSE\n",
    "\n",
    "from sklearn.metrics import mean_absolute_error,mean_squared_error\n",
    "\n",
    "mean_absolute_error(y_test,y_pred) "
   ]
  },
  {
   "cell_type": "code",
   "execution_count": null,
   "id": "570aa3d5",
   "metadata": {},
   "outputs": [],
   "source": [
    "mean_squared_error(y_test,y_pred) # lesser the better"
   ]
  },
  {
   "cell_type": "code",
   "execution_count": null,
   "id": "0fed64e0",
   "metadata": {},
   "outputs": [],
   "source": [
    "# RMSE\n",
    "np.sqrt(mean_squared_error(y_test,y_pred))"
   ]
  },
  {
   "cell_type": "code",
   "execution_count": null,
   "id": "16334fde",
   "metadata": {},
   "outputs": [],
   "source": [
    "print(\"Score: \", rm.score(x_test, y_test))"
   ]
  },
  {
   "cell_type": "code",
   "execution_count": null,
   "id": "0cd2feb9",
   "metadata": {},
   "outputs": [],
   "source": [
    "from sklearn.linear_model import Ridge,Lasso,RidgeCV,LassoCV\n",
    "\n",
    "lassocv = LassoCV(alphas = None , max_iter = 100, normalize = True)\n",
    "lassocv.fit(x_train,y_train)"
   ]
  },
  {
   "cell_type": "code",
   "execution_count": null,
   "id": "7b5ec698",
   "metadata": {},
   "outputs": [],
   "source": [
    "# Best alpha parameter\n",
    "alpha = lassocv.alpha_ # Best alpha rate\n",
    "alpha"
   ]
  },
  {
   "cell_type": "code",
   "execution_count": null,
   "id": "b70dda6a",
   "metadata": {},
   "outputs": [],
   "source": [
    "# Now since we have the best parameter, lasso regression will be used:\n",
    "lasso_reg = Lasso(alpha)\n",
    "lasso_reg.fit(x_train,y_train)\n",
    "# i.e. when model is training it will learn at this speed 6...."
   ]
  },
  {
   "cell_type": "code",
   "execution_count": null,
   "id": "99fdd663",
   "metadata": {},
   "outputs": [],
   "source": [
    "lasso_reg.score(x_test,y_test)"
   ]
  },
  {
   "cell_type": "code",
   "execution_count": null,
   "id": "f2170854",
   "metadata": {},
   "outputs": [],
   "source": [
    "# Ridge Method:\n",
    "\n",
    "ridgecv = RidgeCV(alphas = np.arange(0.001,0.1,0.01),normalize = True)\n",
    "ridgecv.fit(x_train,y_train)"
   ]
  },
  {
   "cell_type": "code",
   "execution_count": null,
   "id": "85f45dbd",
   "metadata": {},
   "outputs": [],
   "source": [
    "ridgecv.alpha_ # Best alpha rate"
   ]
  },
  {
   "cell_type": "code",
   "execution_count": null,
   "id": "61363d61",
   "metadata": {},
   "outputs": [],
   "source": [
    "ridge_model = Ridge(alpha = ridgecv.alpha_)\n",
    "ridge_model.fit(x_train,y_train)"
   ]
  },
  {
   "cell_type": "code",
   "execution_count": null,
   "id": "d24b6039",
   "metadata": {},
   "outputs": [],
   "source": [
    "ridge_model.score(x_test,y_test)"
   ]
  },
  {
   "cell_type": "code",
   "execution_count": null,
   "id": "8d3be3fd",
   "metadata": {},
   "outputs": [],
   "source": [
    "#model performance\n",
    "\n",
    "import sklearn.metrics as metrics\n",
    "\n",
    "print(\"MAE: \", metrics.mean_absolute_error(y_test, y_pred))\n",
    "print(\"MSE: \", metrics.mean_squared_error(y_test, y_pred))\n",
    "print(\"RMSE: \", metrics.mean_squared_error(y_test, y_pred, squared=False))\n",
    "print(\"R2: \", metrics.r2_score(y_test, y_pred), \"\\n\")\n",
    "print(\"Score: \", ridge_model.score(x_test, y_test))"
   ]
  },
  {
   "cell_type": "code",
   "execution_count": null,
   "id": "b54fc3b3",
   "metadata": {},
   "outputs": [],
   "source": [
    "# Using decision tree:\n",
    "\n",
    "from sklearn.tree import DecisionTreeRegressor\n",
    "\n",
    "from sklearn import metrics\n",
    "from sklearn.metrics import r2_score,mean_squared_error\n",
    "\n",
    "model = DecisionTreeRegressor()\n",
    "\n",
    "model.fit(x_train, y_train)\n",
    "\n",
    "y_preddt = model.predict(x_test)\n",
    "\n",
    "r2_score(y_test,y_preddt)\n"
   ]
  },
  {
   "cell_type": "code",
   "execution_count": null,
   "id": "2987f057",
   "metadata": {},
   "outputs": [],
   "source": [
    "# Random forest:\n",
    "\n",
    "from sklearn.ensemble import RandomForestRegressor\n",
    "regressor_rf = RandomForestRegressor(n_estimators=1200,\n",
    "                          max_depth=15,\n",
    "                          min_samples_split=5,\n",
    "                          min_samples_leaf=5,\n",
    "                          max_features=None,\n",
    "                          oob_score=True,\n",
    "                          random_state=42)\n",
    "\n",
    "regressor_rf.fit(x_train, y_train)\n",
    "\n",
    "lr_normal_rf = regressor_rf.score(x_train, y_train)\n",
    "\n",
    "lr_normal_rf"
   ]
  },
  {
   "cell_type": "code",
   "execution_count": null,
   "id": "4de96edf",
   "metadata": {},
   "outputs": [],
   "source": [
    "y_predrf = regressor_rf.predict(x_test)\n",
    "\n",
    "lr_normal_rf_test = regressor_rf.score(x_test, y_test)\n",
    "\n",
    "lr_normal_rf_test\n",
    "\n",
    "mse_lr_normal_rf  = mean_absolute_error(y_test, y_predrf)\n",
    "\n",
    "mse_lr_normal_rf"
   ]
  },
  {
   "cell_type": "code",
   "execution_count": null,
   "id": "1bd34578",
   "metadata": {},
   "outputs": [],
   "source": [
    "# Model Evaluation: MAE , MSE , RMSE\n",
    "\n",
    "from sklearn.metrics import mean_absolute_error,mean_squared_error\n",
    "\n",
    "print(\"MAE: \", metrics.mean_absolute_error(y_test, y_predrf))\n",
    "print(\"MSE: \", metrics.mean_squared_error(y_test, y_predrf))\n",
    "print(\"RMSE: \", metrics.mean_squared_error(y_test, y_predrf, squared=False))\n",
    "print(\"R2: \", metrics.r2_score(y_test, y_predrf), \"\\n\")\n",
    "print(\"Score: \", regressor_rf.score(x_test, y_predrf))"
   ]
  },
  {
   "cell_type": "code",
   "execution_count": null,
   "id": "038e86ad",
   "metadata": {},
   "outputs": [],
   "source": [
    "# Using XGBoost:\n",
    "\n",
    "xgb_reg = xgb.XGBRegressor()\n",
    "xgb_reg.fit(x_train,y_train)\n",
    "y_predx = xgb_reg.predict(x_test)\n",
    "\n",
    "# Model Evaluation: MAE , MSE , RMSE\n",
    "\n",
    "from sklearn.metrics import mean_absolute_error,mean_squared_error\n",
    "print('tr accu',xgb_reg.score(x_train, y_train))\n",
    "print(\"MAE: \", metrics.mean_absolute_error(y_test, y_predx))\n",
    "print(\"MSE: \", metrics.mean_squared_error(y_test, y_predx))\n",
    "print(\"RMSE: \", metrics.mean_squared_error(y_test, y_predx, squared=False))\n",
    "print(\"R2: \", metrics.r2_score(y_test, y_predx), \"\\n\")\n",
    "print(\"Score: \", xgb_reg.score(x_test, y_predx))"
   ]
  },
  {
   "cell_type": "code",
   "execution_count": null,
   "id": "f57a019c",
   "metadata": {},
   "outputs": [],
   "source": [
    "# Hyperparameter tuning in XGBoost:\n",
    "\n",
    "xgb_reg1 = xgb.XGBRegressor(learning_rate=0.05,\n",
    "                       n_estimators=6000,\n",
    "                       max_depth=4,\n",
    "                       min_child_weight=0,\n",
    "                       gamma=0.6,\n",
    "                       subsample=0.7,\n",
    "                       colsample_bytree=0.7,\n",
    "                       objective='reg:linear',\n",
    "                       nthread=-1,\n",
    "                       scale_pos_weight=1,\n",
    "                       seed=27,\n",
    "                       reg_alpha=0.00006,\n",
    "                       random_state=42)\n",
    "xgb_reg1.fit(x_train,y_train)\n",
    "y_predx = xgb_reg1.predict(x_test)\n",
    "\n",
    "# Model Evaluation: MAE , MSE , RMSE\n",
    "\n",
    "from sklearn.metrics import mean_absolute_error,mean_squared_error\n",
    "print('tr accu',xgb_reg1.score(x_train, y_train))\n",
    "print(\"MAE: \", metrics.mean_absolute_error(y_test, y_predx))\n",
    "print(\"MSE: \", metrics.mean_squared_error(y_test, y_predx))\n",
    "print(\"RMSE: \", metrics.mean_squared_error(y_test, y_predx, squared=False))\n",
    "print(\"R2: \", metrics.r2_score(y_test, y_predx), \"\\n\")\n",
    "print(\"Score: \", xgb_reg1.score(x_test, y_predx))"
   ]
  },
  {
   "cell_type": "code",
   "execution_count": null,
   "id": "373886c5",
   "metadata": {},
   "outputs": [],
   "source": [
    "plt.scatter(y_test,y_predx)\n",
    "plt.xlabel('Actual Charges')\n",
    "plt.ylabel('Predicted Charges')\n",
    "plt.title('Actual vs Model Predicted')\n",
    "plt.show()"
   ]
  },
  {
   "cell_type": "code",
   "execution_count": null,
   "id": "639d01de",
   "metadata": {},
   "outputs": [],
   "source": [
    "from sklearn.model_selection import KFold , cross_val_score\n",
    "\n",
    "k_f = KFold(n_splits =3)\n",
    "k_f\n",
    "\n",
    "# Cross Validation score to check if model is overfitting:\n",
    "\n",
    "cross_val_score(xgb_reg,x_train,y_train,cv=5) # "
   ]
  },
  {
   "cell_type": "code",
   "execution_count": null,
   "id": "68324ae6",
   "metadata": {},
   "outputs": [],
   "source": [
    "# Innitiate k neighbour Regressor:\n",
    "\n",
    "from sklearn.neighbors import KNeighborsRegressor\n",
    "\n",
    "params = {'n_neighbors':[1,2,3,4,5,6,7,8,9]}\n",
    "\n",
    "knn = KNeighborsRegressor()\n",
    "\n",
    "knnmodel = GridSearchCV(knn, params, cv=5)\n",
    "knnmodel.fit(x_train,y_train)\n",
    "knnmodel.best_params_"
   ]
  },
  {
   "cell_type": "code",
   "execution_count": null,
   "id": "98c88567",
   "metadata": {},
   "outputs": [],
   "source": [
    "knn_best = KNeighborsRegressor(n_neighbors = 2)\n",
    "knn_best.fit(x_train,y_train)"
   ]
  },
  {
   "cell_type": "code",
   "execution_count": null,
   "id": "2b43fd02",
   "metadata": {},
   "outputs": [],
   "source": [
    "y_predknn = knn_best.predict(x_test)\n",
    "\n",
    "r2_score(y_test,y_predknn)"
   ]
  },
  {
   "cell_type": "code",
   "execution_count": null,
   "id": "003872d1",
   "metadata": {},
   "outputs": [],
   "source": [
    "# Using Support vector regressor:\n",
    "\n",
    "# Fit the model over the training data\n",
    "from sklearn.svm import SVR\n",
    "svr = SVR()\n",
    "svr.fit(x_train, y_train)\n",
    "\n",
    "y_predsvr = svr.predict(x_test)\n",
    "\n",
    "r2_score(y_test,y_predsvr)"
   ]
  },
  {
   "cell_type": "code",
   "execution_count": null,
   "id": "14be3aa4",
   "metadata": {},
   "outputs": [],
   "source": [
    "# Adaboost algo\n",
    "\n",
    "from sklearn.ensemble import AdaBoostRegressor\n",
    "\n",
    "adaboost_regressor = AdaBoostRegressor(n_estimators=1500, learning_rate = 0.001, loss='exponential')\n",
    "ada_model = adaboost_regressor.fit(x_train, y_train)\n",
    "y_pred_ada = ada_model.predict(x_test)\n",
    "r2_score(y_test,y_pred_ada)"
   ]
  },
  {
   "cell_type": "code",
   "execution_count": null,
   "id": "272defcb",
   "metadata": {},
   "outputs": [],
   "source": [
    "print('trining accuracy: ',adaboost_regressor.score(x_train, y_train))\n",
    "print(\"MAE: \", metrics.mean_absolute_error(y_test, y_pred_ada))\n",
    "print(\"MSE: \", metrics.mean_squared_error(y_test, y_pred_ada))\n",
    "print(\"RMSE: \", metrics.mean_squared_error(y_test, y_pred_ada, squared=False))\n",
    "print(\"R2: \", metrics.r2_score(y_test, y_pred_ada), \"\\n\")\n",
    "print(\"Score: \", adaboost_regressor.score(x_test, y_pred_ada))"
   ]
  },
  {
   "cell_type": "code",
   "execution_count": null,
   "id": "989ec957",
   "metadata": {},
   "outputs": [],
   "source": [
    "# Creating pipeline:\n",
    "\n",
    "from sklearn.pipeline import Pipeline\n",
    "\n",
    "pipe1 = Pipeline([('pt',PowerTransformer()),('pca1',PCA(n_components=675)),('base_model1',xgb.XGBRegressor(learning_rate=0.01,\n",
    "                       n_estimators=6000,\n",
    "                       max_depth=4,\n",
    "                       min_child_weight=0,\n",
    "                       gamma=0.6,\n",
    "                       subsample=0.7,\n",
    "                       colsample_bytree=0.7,\n",
    "                       objective='reg:linear',\n",
    "                       nthread=-1,\n",
    "                       scale_pos_weight=1,\n",
    "                       seed=27,\n",
    "                       reg_alpha=0.00006,\n",
    "                       random_state=42))])\n",
    "\n",
    "pipe1.fit(x_train,y_train)\n",
    "\n",
    "y_pred = pipe.predict(x_test)\n",
    "\n",
    "from sklearn.metrics import mean_absolute_error,mean_squared_error\n",
    "print('tr accu',pipe1.score(x_train, y_train))\n",
    "print(\"MAE: \", metrics.mean_absolute_error(y_test, y_pred))\n",
    "print(\"MSE: \", metrics.mean_squared_error(y_test, y_pred))\n",
    "print(\"RMSE: \", metrics.mean_squared_error(y_test, y_pred, squared=False))\n",
    "print(\"R2: \", metrics.r2_score(y_test, y_pred), \"\\n\")\n",
    "print(\"Score: \", pipe1.score(x_test, y_pred))\n",
    "# Saving regression model to pickle string\n",
    "\n",
    "import pickle \n",
    "saved_model1 = pickle.dumps(pipe1) \n",
    "pipe_pickle1 = pickle.loads(saved_model1)\n",
    "pipe_pickle1.predict(X_test) # predicting testing data\n",
    "\n"
   ]
  },
  {
   "cell_type": "code",
   "execution_count": null,
   "id": "856a7bbe",
   "metadata": {},
   "outputs": [],
   "source": []
  }
 ],
 "metadata": {
  "kernelspec": {
   "display_name": "Python 3 (ipykernel)",
   "language": "python",
   "name": "python3"
  },
  "language_info": {
   "codemirror_mode": {
    "name": "ipython",
    "version": 3
   },
   "file_extension": ".py",
   "mimetype": "text/x-python",
   "name": "python",
   "nbconvert_exporter": "python",
   "pygments_lexer": "ipython3",
   "version": "3.9.12"
  }
 },
 "nbformat": 4,
 "nbformat_minor": 5
}
