{
 "cells": [
  {
   "cell_type": "code",
   "execution_count": null,
   "id": "9df49536",
   "metadata": {},
   "outputs": [],
   "source": [
    "# Imp libs:\n",
    "import numpy as np\n",
    "import pandas as pd\n",
    "import matplotlib.pyplot as plt\n",
    "import seaborn as sns\n",
    "\n",
    "# Standardizing and Normalizing data:\n",
    "from sklearn.preprocessing import StandardScaler\n",
    "\n",
    "# Spliting data\n",
    "from sklearn.model_selection import train_test_split, GridSearchCV\n",
    "\n",
    "# Algorithms\n",
    "from sklearn.linear_model import LinearRegression\n",
    "import xgboost as xgb\n",
    "\n",
    "# Importing metrics\n",
    "from sklearn.metrics import accuracy_score,confusion_matrix,classification_report\n",
    "\n",
    "from statsmodels.stats.outliers_influence import variance_inflation_factor\n",
    "\n",
    "# Removing warnings\n",
    "import warnings\n",
    "warnings.filterwarnings('ignore')\n",
    "\n",
    "%matplotlib inline"
   ]
  },
  {
   "cell_type": "code",
   "execution_count": null,
   "id": "777dcf67",
   "metadata": {},
   "outputs": [],
   "source": [
    "df1 = pd.read_csv(r'C:\\Users\\Lenovo\\OneDrive\\Desktop\\Filp Robo worksheets and projects\\flight data\\dubai flight details\\dtdub1.csv')\n",
    "df2 = pd.read_csv(r'C:\\Users\\Lenovo\\OneDrive\\Desktop\\Filp Robo worksheets and projects\\flight data\\dubai flight details\\dtdub2.csv')\n",
    "df3 = pd.read_csv(r'C:\\Users\\Lenovo\\OneDrive\\Desktop\\Filp Robo worksheets and projects\\flight data\\dubai flight details\\dtdub3.csv')\n",
    "df4 = pd.read_csv(r'C:\\Users\\Lenovo\\OneDrive\\Desktop\\Filp Robo worksheets and projects\\flight data\\dubai flight details\\dtdub4.csv')\n",
    "df5 = pd.read_csv(r'C:\\Users\\Lenovo\\OneDrive\\Desktop\\Filp Robo worksheets and projects\\flight data\\dubai flight details\\dtdub5.csv')\n",
    "df6 = pd.read_csv(r'C:\\Users\\Lenovo\\OneDrive\\Desktop\\Filp Robo worksheets and projects\\flight data\\dubai flight details\\dtdub6.csv')\n",
    "df7 = pd.read_csv(r'C:\\Users\\Lenovo\\OneDrive\\Desktop\\Filp Robo worksheets and projects\\flight data\\dubai flight details\\dtdub7.csv')\n",
    "df8 = pd.read_csv(r'C:\\Users\\Lenovo\\OneDrive\\Desktop\\Filp Robo worksheets and projects\\flight data\\dubai flight details\\dtdub8.csv')\n",
    "\n",
    "list_a = [df1,df2,df3,df4,df5,df6,df7,df8]\n",
    "df = pd.concat(list_a,ignore_index=True)\n"
   ]
  },
  {
   "cell_type": "code",
   "execution_count": null,
   "id": "5ce492ed",
   "metadata": {},
   "outputs": [],
   "source": [
    "df"
   ]
  },
  {
   "cell_type": "code",
   "execution_count": null,
   "id": "bbeb2b4f",
   "metadata": {},
   "outputs": [],
   "source": [
    "df = df.rename(columns = {'dept':'Departure Time','arr':'Arrival Time','ex':'Extra','stops':'Stops','prices':'Prices','airlines':'Airlines'})\n",
    "\n",
    "df.drop(columns=['Unnamed: 0'],inplace=True)"
   ]
  },
  {
   "cell_type": "code",
   "execution_count": null,
   "id": "2abdbe2a",
   "metadata": {},
   "outputs": [],
   "source": [
    "df.head(5)"
   ]
  },
  {
   "cell_type": "code",
   "execution_count": null,
   "id": "3d6bb2a4",
   "metadata": {},
   "outputs": [],
   "source": [
    "df.dtypes"
   ]
  },
  {
   "cell_type": "code",
   "execution_count": null,
   "id": "8ac643b4",
   "metadata": {},
   "outputs": [],
   "source": [
    "df.shape"
   ]
  },
  {
   "cell_type": "code",
   "execution_count": null,
   "id": "abeb306f",
   "metadata": {},
   "outputs": [],
   "source": [
    "len(df['Prices'])"
   ]
  },
  {
   "cell_type": "code",
   "execution_count": null,
   "id": "2a375918",
   "metadata": {},
   "outputs": [],
   "source": [
    "# Feature Engineering"
   ]
  },
  {
   "cell_type": "code",
   "execution_count": null,
   "id": "1155d0f2",
   "metadata": {},
   "outputs": [],
   "source": [
    "# Prices column:\n",
    "\n",
    "df['Prices'] = df['Prices'].str.lstrip('₹ ')\n",
    "\n",
    "pr = []\n",
    "for i in df['Prices']:\n",
    "    pr.append((i.translate({ord(i): None for i in ','})))\n",
    "\n",
    "df['Prices'] = pr\n",
    "\n",
    "df['Prices'] = df['Prices'].astype('float64')"
   ]
  },
  {
   "cell_type": "code",
   "execution_count": null,
   "id": "4f59006a",
   "metadata": {},
   "outputs": [],
   "source": [
    "# Total time taken by flight\n",
    "\n",
    "t = []\n",
    "for i in df['Total time taken']:\n",
    "    t.append(i.split(' '))\n",
    "t\n",
    "\n",
    "time_taken_in_hours = []\n",
    "for i in t:\n",
    "    time_taken_in_hours.append(i[0].rstrip('h'))\n",
    "\n",
    "\n",
    "df['time_taken_in_hours'] = time_taken_in_hours\n",
    "df['time_taken_in_hours'] = df['time_taken_in_hours'].astype('int64')\n",
    "\n",
    "\n",
    "extra_time_taken_in_minutes = []\n",
    "for i in t:\n",
    "    if len(i) == 1:\n",
    "        extra_time_taken_in_minutes.append('0')\n",
    "    else:\n",
    "        extra_time_taken_in_minutes.append(i[1])\n",
    "\n",
    "df['extra_time_taken_in_minutes'] = extra_time_taken_in_minutes\n",
    "df['extra_time_taken_in_minutes'] = df['extra_time_taken_in_minutes'].astype('int64')\n",
    "\n",
    "total_time_taken_in_minutes = df['time_taken_in_hours']*60 + df['extra_time_taken_in_minutes']\n",
    "\n",
    "df['total_time_taken_in_hours'] = total_time_taken_in_minutes/60"
   ]
  },
  {
   "cell_type": "code",
   "execution_count": null,
   "id": "9fa020ef",
   "metadata": {},
   "outputs": [],
   "source": [
    "# Date column:\n",
    "\n",
    "day = []\n",
    "for i in df['Date']:\n",
    "    day.append(i.split(',')[0])\n",
    "df['Day of flight'] = day\n",
    "\n",
    "date = []\n",
    "month = []\n",
    "for i in df['Date']:\n",
    "    date.append(i.split(' ')[1].rstrip('th'))\n",
    "    month.append(i.split(' ')[2])\n",
    "    \n",
    "df['date of flight'] = date\n",
    "df['date of flight'] = df['date of flight'].astype('int64')\n",
    "\n",
    "df['date of flight'] = df['date of flight'].astype('int64')\n",
    "df['month of flight'] = month"
   ]
  },
  {
   "cell_type": "code",
   "execution_count": null,
   "id": "731e6b6e",
   "metadata": {},
   "outputs": [],
   "source": [
    "# Departure column:\n",
    "\n",
    "dept= []\n",
    "for i in df['Departure Time']:\n",
    "    dept.append(i.replace(':','.'))\n",
    "df['Departure Time'] = dept\n",
    "df['Departure Time'] = df['Departure Time'].astype('float64')\n",
    "art= []\n",
    "for i in df['Arrival Time']:\n",
    "    art.append(i.replace(':','.'))\n",
    "df['Arrival Time'] = art\n",
    "df['Arrival Time'] = df['Arrival Time'].astype('float64')"
   ]
  },
  {
   "cell_type": "code",
   "execution_count": null,
   "id": "7696fbca",
   "metadata": {},
   "outputs": [],
   "source": [
    "# Dropping columns:\n",
    "\n",
    "df.drop(columns = ['time_taken_in_hours','Total time taken','extra_time_taken_in_minutes'],axis=1,inplace=True)\n",
    "\n",
    "df.drop(columns = ['Date'],axis=0,inplace=True)"
   ]
  },
  {
   "cell_type": "code",
   "execution_count": null,
   "id": "045279e4",
   "metadata": {},
   "outputs": [],
   "source": [
    "# Stop column feature engineering\n",
    "\n",
    "stopz = []\n",
    "stop_details = []\n",
    "first_stop = []\n",
    "second_stop = []\n",
    "third_stop = []\n",
    "fourth_stop = []\n",
    "fifth_stop = []\n",
    "\n",
    "\n",
    "for i in df['Stops']:\n",
    "    stopz.append(i.split('\\n'))\n",
    "    \n",
    "for i in stopz:\n",
    "    if ',' in i:\n",
    "        i.remove(',')\n",
    "\n",
    "for i in stopz:\n",
    "    if ' ' in i:\n",
    "        i.remove(' ')\n",
    "\n",
    "for i in stopz:\n",
    "    stop_details.append(i[0])\n",
    "\n",
    "for i in stopz:\n",
    "    if len(i)>=2:\n",
    "        first_stop.append(i[1])\n",
    "    else:\n",
    "        first_stop.append('NA')\n",
    "    \n",
    "for i in stopz:\n",
    "    if len(i)>=3:\n",
    "        second_stop.append(i[2])\n",
    "    else:\n",
    "        second_stop.append('NA')\n",
    "        \n",
    "        \n",
    "for i in stopz:\n",
    "    if len(i)>=5:\n",
    "        third_stop.append(i[4])\n",
    "    else:\n",
    "        third_stop.append('NA')\n",
    "        \n",
    "for i in stopz:\n",
    "    if len(i)>=7:\n",
    "        fourth_stop.append(i[6])\n",
    "    else:\n",
    "        fourth_stop.append('NA')\n",
    "        \n",
    "        \n",
    "\n",
    "df['stop_details'] = stop_details\n",
    "df['first_stop'] = first_stop\n",
    "df['second_stop'] = second_stop\n",
    "df['third_stop'] = third_stop\n",
    "df['fourth_stop'] = fourth_stop\n"
   ]
  },
  {
   "cell_type": "code",
   "execution_count": null,
   "id": "c080bcc1",
   "metadata": {},
   "outputs": [],
   "source": [
    "# Removing stop column\n",
    "\n",
    "df.drop(columns=['Stops'],axis=0,inplace=True)"
   ]
  },
  {
   "cell_type": "code",
   "execution_count": null,
   "id": "75b5e484",
   "metadata": {},
   "outputs": [],
   "source": [
    "# Airlines\n",
    "\n",
    "airlinez = []\n",
    "for i in df['Airlines']:\n",
    "    if '+' not in i:\n",
    "        airlinez.append(i)\n",
    "    elif '+' in i:\n",
    "        airlinez.append(i.split('+'))\n",
    "\n",
    "df['Airlines'] = airlinez\n",
    "\n",
    "airline1 = []\n",
    "airline2 = []\n",
    "airline3 = []\n",
    "\n",
    "\n",
    "for i in airlinez:\n",
    "    if len(i)==2 or len(i)==3:\n",
    "        airline1.append(i[0])\n",
    "    else:\n",
    "        airline1.append(i)\n",
    "    \n",
    "for i in airlinez:\n",
    "    if len(i)==2 or len(i)==3:\n",
    "        airline2.append(i[1])\n",
    "    else:\n",
    "        airline2.append('Na')\n",
    "        \n",
    "for i in airlinez:\n",
    "    if len(i)==3:\n",
    "        airline3.append(i[2])\n",
    "    else:\n",
    "        airline3.append('Na')\n",
    "\n",
    "df['airline1'] = airline1\n",
    "df['airline2'] = airline2\n",
    "df['airline3'] = airline3\n",
    "\n",
    "df.drop(columns = ['Airlines'],axis=1,inplace=True)"
   ]
  },
  {
   "cell_type": "code",
   "execution_count": null,
   "id": "462fd87c",
   "metadata": {},
   "outputs": [],
   "source": [
    "# Price range\n",
    "\n",
    "prRange = []\n",
    "for i in df['Prices']:\n",
    "    if i > 12187 and i < 23554:\n",
    "        prRange.append('Lower than average')\n",
    "    elif i > 23554 and i < 55665:\n",
    "        prRange.append('Average priced')\n",
    "    else:\n",
    "        prRange.append('Expensive')\n",
    "\n",
    "df['Price Range'] = prRange \n",
    "        "
   ]
  },
  {
   "cell_type": "code",
   "execution_count": null,
   "id": "70177ef6",
   "metadata": {},
   "outputs": [],
   "source": [
    "print('First 10 rows')\n",
    "df.head(10)"
   ]
  },
  {
   "cell_type": "code",
   "execution_count": null,
   "id": "d6182bbe",
   "metadata": {},
   "outputs": [],
   "source": [
    "df.tail(20)"
   ]
  },
  {
   "cell_type": "code",
   "execution_count": null,
   "id": "1005b425",
   "metadata": {},
   "outputs": [],
   "source": [
    "df.dtypes"
   ]
  },
  {
   "cell_type": "code",
   "execution_count": null,
   "id": "56b6ef01",
   "metadata": {},
   "outputs": [],
   "source": [
    "df.shape"
   ]
  },
  {
   "cell_type": "code",
   "execution_count": null,
   "id": "9b91b3ff",
   "metadata": {},
   "outputs": [],
   "source": [
    "null_data = df.isnull().sum()\n",
    "null_data.sort_values(ascending=0)"
   ]
  },
  {
   "cell_type": "code",
   "execution_count": null,
   "id": "0040873b",
   "metadata": {},
   "outputs": [],
   "source": [
    "df.columns"
   ]
  },
  {
   "cell_type": "code",
   "execution_count": null,
   "id": "e3a65901",
   "metadata": {},
   "outputs": [],
   "source": [
    "desc = df.describe().T\n",
    "desc['range']=desc['max']-desc['min']\n",
    "desc"
   ]
  },
  {
   "cell_type": "code",
   "execution_count": null,
   "id": "85198a5e",
   "metadata": {},
   "outputs": [],
   "source": [
    "df.describe(include='object').T"
   ]
  },
  {
   "cell_type": "code",
   "execution_count": null,
   "id": "6b999849",
   "metadata": {},
   "outputs": [],
   "source": [
    "desc[['min','mean','max','range']]"
   ]
  },
  {
   "cell_type": "code",
   "execution_count": null,
   "id": "922558b9",
   "metadata": {},
   "outputs": [],
   "source": [
    "cont_data = df.select_dtypes(include=['int64','float64'])\n",
    "\n",
    "cat_data= df.select_dtypes(include=['object'])\n",
    "\n",
    "cont_columns = cont_data.columns\n",
    "\n",
    "cat_columns = cat_data.columns"
   ]
  },
  {
   "cell_type": "code",
   "execution_count": null,
   "id": "94906537",
   "metadata": {},
   "outputs": [],
   "source": [
    "cont_columns"
   ]
  },
  {
   "cell_type": "code",
   "execution_count": null,
   "id": "4fe16e9f",
   "metadata": {},
   "outputs": [],
   "source": [
    "cat_columns"
   ]
  },
  {
   "cell_type": "code",
   "execution_count": null,
   "id": "780b0542",
   "metadata": {},
   "outputs": [],
   "source": [
    "from scipy import stats\n",
    "\n",
    "for i in cat_columns:\n",
    "    print('For',i,', most frequent value is: ',stats.mode(df[i]),'\\n')"
   ]
  },
  {
   "cell_type": "code",
   "execution_count": null,
   "id": "834117ff",
   "metadata": {},
   "outputs": [],
   "source": [
    "for i in cat_columns:\n",
    "    print('For column',i,'unique values are: ',df[i].unique())\n",
    "    print('For column',i,'count of unique values are: ',df[i].nunique(),'\\n\\n')"
   ]
  },
  {
   "cell_type": "code",
   "execution_count": null,
   "id": "dee94dc2",
   "metadata": {
    "scrolled": false
   },
   "outputs": [],
   "source": [
    "for i in cat_columns:\n",
    "    print('For column --',i,'-- value counts are: \\n',df[i].value_counts(),'\\n\\n')"
   ]
  },
  {
   "cell_type": "code",
   "execution_count": null,
   "id": "dc9a7b77",
   "metadata": {},
   "outputs": [],
   "source": [
    "# Univariate analysis:"
   ]
  },
  {
   "cell_type": "code",
   "execution_count": null,
   "id": "5c433a45",
   "metadata": {
    "scrolled": false
   },
   "outputs": [],
   "source": [
    "for i in cat_columns:\n",
    "    f= plt.figure(figsize=(12,5))\n",
    "    ax = sns.countplot(x=df[i],data=df)\n",
    "    plt.xticks(rotation=90)"
   ]
  },
  {
   "cell_type": "code",
   "execution_count": null,
   "id": "7481715b",
   "metadata": {
    "scrolled": false
   },
   "outputs": [],
   "source": [
    "# Pie chart:\n",
    "\n",
    "for i in cat_columns:\n",
    "    plt.figure(figsize=(15,15))\n",
    "    df.groupby(i).size().plot(kind='pie',autopct='%.2f')\n",
    "    plt.xlabel(i)\n",
    "    plt.xticks(rotation=90)\n",
    "    plt.show()"
   ]
  },
  {
   "cell_type": "code",
   "execution_count": null,
   "id": "d15eed1e",
   "metadata": {},
   "outputs": [],
   "source": [
    "cat_columns"
   ]
  },
  {
   "cell_type": "code",
   "execution_count": null,
   "id": "308d297d",
   "metadata": {},
   "outputs": [],
   "source": [
    "cont_columns"
   ]
  },
  {
   "cell_type": "code",
   "execution_count": null,
   "id": "d3d49004",
   "metadata": {},
   "outputs": [],
   "source": [
    "df['Prices'].describe()"
   ]
  },
  {
   "cell_type": "code",
   "execution_count": null,
   "id": "0d9320ef",
   "metadata": {},
   "outputs": [],
   "source": [
    "# Univariate Summary plots"
   ]
  },
  {
   "cell_type": "code",
   "execution_count": null,
   "id": "947686b3",
   "metadata": {},
   "outputs": [],
   "source": [
    "# Scatterplot\n",
    "\n",
    "for i in cont_columns:\n",
    "    plt.figure(figsize=(12,8))\n",
    "    sns.scatterplot(x = df.index, y = i, data = df)\n",
    "    plt.xticks(rotation=90)\n",
    "    plt.show()"
   ]
  },
  {
   "cell_type": "code",
   "execution_count": null,
   "id": "28dd3bf3",
   "metadata": {},
   "outputs": [],
   "source": [
    "# Lineplot\n",
    "\n",
    "for i in cont_columns:\n",
    "    plt.figure(figsize=(12,8))\n",
    "    sns.lineplot(x = df.index, y = i, data = df)\n",
    "    plt.xticks(rotation=90)\n",
    "    plt.show()"
   ]
  },
  {
   "cell_type": "code",
   "execution_count": null,
   "id": "629c8891",
   "metadata": {},
   "outputs": [],
   "source": [
    "# Stripplot\n",
    "\n",
    "for i in cont_columns:\n",
    "    plt.figure(figsize=(12,8))\n",
    "    sns.stripplot(x = i, data = df)\n",
    "    plt.xticks(rotation=90)\n",
    "    plt.show()"
   ]
  },
  {
   "cell_type": "code",
   "execution_count": null,
   "id": "7da8b0d8",
   "metadata": {},
   "outputs": [],
   "source": [
    "# SwarmPlot\n",
    "\n",
    "for i in cont_columns:\n",
    "    plt.figure(figsize=(12,8))\n",
    "    sns.swarmplot(x = i, data = df)\n",
    "    plt.xticks(rotation=90)\n",
    "    plt.show()"
   ]
  },
  {
   "cell_type": "code",
   "execution_count": null,
   "id": "76d52eb9",
   "metadata": {},
   "outputs": [],
   "source": [
    "# Univariate Summary plots"
   ]
  },
  {
   "cell_type": "code",
   "execution_count": null,
   "id": "7562f2c5",
   "metadata": {
    "scrolled": true
   },
   "outputs": [],
   "source": [
    "# Histogram plot:\n",
    "\n",
    "for i in cont_columns:\n",
    "    plt.figure(figsize=(10,6),facecolor='orange')\n",
    "    plt.hist(df[i],bins=10)\n",
    "    plt.xlabel(i)\n",
    "    plt.show()"
   ]
  },
  {
   "cell_type": "code",
   "execution_count": null,
   "id": "94302251",
   "metadata": {},
   "outputs": [],
   "source": [
    "# Densityplot\n",
    "\n",
    "for i in cont_columns:\n",
    "    plt.figure(figsize=(10,6),facecolor='orange')\n",
    "    sns.kdeplot(df[i], shade=True)\n",
    "    plt.xlabel(i)\n",
    "    plt.show()"
   ]
  },
  {
   "cell_type": "code",
   "execution_count": null,
   "id": "954fa2a2",
   "metadata": {
    "scrolled": true
   },
   "outputs": [],
   "source": [
    "# Boxplots\n",
    "\n",
    "for i in cont_columns:\n",
    "    plt.figure(figsize=(10,6),facecolor='orange')\n",
    "    sns.boxplot(df[i])\n",
    "    plt.xlabel(i)\n",
    "    plt.show()"
   ]
  },
  {
   "cell_type": "code",
   "execution_count": null,
   "id": "1dcd7a79",
   "metadata": {
    "scrolled": true
   },
   "outputs": [],
   "source": [
    "# Distplot\n",
    "\n",
    "for i in cont_columns:\n",
    "    plt.figure(figsize=(10,6),facecolor='orange')\n",
    "    sns.distplot(df[i])\n",
    "    plt.xlabel(i)\n",
    "    plt.show()"
   ]
  },
  {
   "cell_type": "code",
   "execution_count": null,
   "id": "2939f558",
   "metadata": {
    "scrolled": true
   },
   "outputs": [],
   "source": [
    "# Violinplot\n",
    "\n",
    "for i in cont_columns:\n",
    "    plt.figure(figsize=(10,6),facecolor='skyblue')\n",
    "    sns.violinplot(df[i],showmedians=True)\n",
    "    plt.xlabel(i)\n",
    "    plt.show()"
   ]
  },
  {
   "cell_type": "code",
   "execution_count": null,
   "id": "4022ce49",
   "metadata": {},
   "outputs": [],
   "source": [
    "cont_columns"
   ]
  },
  {
   "cell_type": "code",
   "execution_count": null,
   "id": "8dd7682f",
   "metadata": {},
   "outputs": [],
   "source": [
    "# Bivariate analysis"
   ]
  },
  {
   "cell_type": "code",
   "execution_count": null,
   "id": "9a8087e0",
   "metadata": {},
   "outputs": [],
   "source": [
    "plt.figure(figsize=(12,8))\n",
    "sns.lineplot(x = df['Departure Time'], y = 'Prices', data = df)\n",
    "plt.xticks(rotation=90)\n",
    "plt.show()"
   ]
  },
  {
   "cell_type": "code",
   "execution_count": null,
   "id": "b76332b2",
   "metadata": {},
   "outputs": [],
   "source": [
    "plt.figure(figsize=(12,8))\n",
    "sns.lineplot(x = df['Arrival Time'], y = 'Prices', data = df)\n",
    "plt.xticks(rotation=90)\n",
    "plt.show()"
   ]
  },
  {
   "cell_type": "code",
   "execution_count": null,
   "id": "f728547e",
   "metadata": {},
   "outputs": [],
   "source": [
    "plt.figure(figsize=(12,8))\n",
    "sns.lineplot(x = df['total_time_taken_in_hours'], y = 'Prices', data = df)\n",
    "plt.xticks(rotation=90)\n",
    "plt.show()"
   ]
  },
  {
   "cell_type": "code",
   "execution_count": null,
   "id": "d3decb6d",
   "metadata": {
    "scrolled": true
   },
   "outputs": [],
   "source": [
    "# Catplot\n",
    "\n",
    "for i in cat_columns:\n",
    "    plt.figure(figsize=(15,15))\n",
    "    sns.catplot(x=i, kind=\"count\",hue = 'Price Range', data=df)\n",
    "    plt.xlabel(i)\n",
    "    plt.xticks(rotation=90)\n",
    "    plt.show()"
   ]
  },
  {
   "cell_type": "code",
   "execution_count": null,
   "id": "ac99f15f",
   "metadata": {},
   "outputs": [],
   "source": [
    "# Scatterplot\n",
    "\n",
    "for i in cont_columns:\n",
    "    for j in cat_columns:\n",
    "            plt.figure(figsize=(12,8))\n",
    "            sns.scatterplot(x = i,y=j, data = df,hue='Price Range')\n",
    "            plt.xticks(rotation=90)\n",
    "            plt.show()"
   ]
  },
  {
   "cell_type": "code",
   "execution_count": null,
   "id": "6af46a8b",
   "metadata": {
    "scrolled": true
   },
   "outputs": [],
   "source": [
    "# Lineplot\n",
    "\n",
    "for i in cont_columns:\n",
    "    for j in cat_columns:\n",
    "            plt.figure(figsize=(12,8))\n",
    "            sns.lineplot(x = i,y=j, data = df,hue='Price Range')\n",
    "            plt.xticks(rotation=90)\n",
    "            plt.show()"
   ]
  },
  {
   "cell_type": "code",
   "execution_count": null,
   "id": "578dd11b",
   "metadata": {},
   "outputs": [],
   "source": [
    "cont_columns"
   ]
  },
  {
   "cell_type": "code",
   "execution_count": null,
   "id": "137c7371",
   "metadata": {},
   "outputs": [],
   "source": [
    "cat_columns"
   ]
  },
  {
   "cell_type": "code",
   "execution_count": null,
   "id": "3773cf38",
   "metadata": {},
   "outputs": [],
   "source": [
    "# Boxplots"
   ]
  },
  {
   "cell_type": "code",
   "execution_count": null,
   "id": "2370e7f6",
   "metadata": {},
   "outputs": [],
   "source": [
    "plt.figure(figsize=(15,10))\n",
    "sns.boxplot(x ='airline1', y = 'Departure Time', data = df, hue ='Price Range')\n",
    "plt.xticks(rotation=90)\n",
    "plt.show()"
   ]
  },
  {
   "cell_type": "code",
   "execution_count": null,
   "id": "20dd5b32",
   "metadata": {
    "scrolled": false
   },
   "outputs": [],
   "source": [
    "for i in cont_columns:\n",
    "    plt.figure(figsize=(15,10))\n",
    "    sns.boxplot(x ='airline3', y = i, data = df, hue ='Price Range')\n",
    "    plt.xticks(rotation=90)\n"
   ]
  },
  {
   "cell_type": "code",
   "execution_count": null,
   "id": "0a592401",
   "metadata": {
    "scrolled": false
   },
   "outputs": [],
   "source": [
    "for i in cont_columns:\n",
    "    plt.figure(figsize=(15,10))\n",
    "    sns.boxplot(x ='airline2', y = i, data = df, hue ='Price Range')\n",
    "    plt.xticks(rotation=90)\n"
   ]
  },
  {
   "cell_type": "code",
   "execution_count": null,
   "id": "00e62b03",
   "metadata": {
    "scrolled": false
   },
   "outputs": [],
   "source": [
    "for i in cont_columns:\n",
    "    plt.figure(figsize=(15,10))\n",
    "    sns.boxplot(x ='airline1', y = i, data = df, hue ='Price Range')\n",
    "    plt.xticks(rotation=90)\n"
   ]
  },
  {
   "cell_type": "code",
   "execution_count": null,
   "id": "79a434b6",
   "metadata": {},
   "outputs": [],
   "source": [
    "for i in cont_columns:\n",
    "    plt.figure(figsize=(15,10))\n",
    "    sns.boxplot(x ='fourth_stop', y = i, data = df, hue ='Price Range')\n",
    "    plt.xticks(rotation=90)\n"
   ]
  },
  {
   "cell_type": "code",
   "execution_count": null,
   "id": "881355db",
   "metadata": {},
   "outputs": [],
   "source": [
    "for i in cont_columns:\n",
    "    plt.figure(figsize=(15,10))\n",
    "    sns.boxplot(x ='third_stop', y = i, data = df, hue ='Price Range')\n",
    "    plt.xticks(rotation=90)"
   ]
  },
  {
   "cell_type": "code",
   "execution_count": null,
   "id": "fe1b3999",
   "metadata": {},
   "outputs": [],
   "source": [
    "for i in cont_columns:\n",
    "    plt.figure(figsize=(15,10))\n",
    "    sns.boxplot(x ='second_stop', y = i, data = df, hue ='Price Range')\n",
    "    plt.xticks(rotation=90)"
   ]
  },
  {
   "cell_type": "code",
   "execution_count": null,
   "id": "dabbc2e2",
   "metadata": {},
   "outputs": [],
   "source": [
    "for i in cont_columns:\n",
    "    plt.figure(figsize=(15,10))\n",
    "    sns.boxplot(x ='first_stop', y = i, data = df, hue ='Price Range')"
   ]
  },
  {
   "cell_type": "code",
   "execution_count": null,
   "id": "422fe450",
   "metadata": {},
   "outputs": [],
   "source": [
    "for i in cont_columns:\n",
    "    plt.figure(figsize=(15,10))\n",
    "    sns.boxplot(x ='stop_details', y = i, data = df, hue ='Price Range')"
   ]
  },
  {
   "cell_type": "code",
   "execution_count": null,
   "id": "184d04bf",
   "metadata": {},
   "outputs": [],
   "source": [
    "for i in cont_columns:\n",
    "    plt.figure(figsize=(15,10))\n",
    "    sns.boxplot(x ='month of flight', y = i, data = df, hue ='Price Range')"
   ]
  },
  {
   "cell_type": "code",
   "execution_count": null,
   "id": "f609a8f8",
   "metadata": {},
   "outputs": [],
   "source": [
    "for i in cont_columns:\n",
    "    plt.figure(figsize=(15,10))\n",
    "    sns.boxplot(x ='Day of flight', y = i, data = df, hue ='Price Range')"
   ]
  },
  {
   "cell_type": "code",
   "execution_count": null,
   "id": "ac79327f",
   "metadata": {
    "scrolled": true
   },
   "outputs": [],
   "source": [
    "for i in cont_columns:\n",
    "    plt.figure(figsize=(15,10))\n",
    "    sns.boxplot(x ='To', y = i, data = df, hue ='Price Range')"
   ]
  },
  {
   "cell_type": "code",
   "execution_count": null,
   "id": "01f037e6",
   "metadata": {},
   "outputs": [],
   "source": [
    "for i in cont_columns:\n",
    "    plt.figure(figsize=(15,10))\n",
    "    sns.boxplot(x ='From', y = i, data = df, hue ='Price Range')"
   ]
  },
  {
   "cell_type": "code",
   "execution_count": null,
   "id": "cdfae92d",
   "metadata": {},
   "outputs": [],
   "source": [
    "for i in cont_columns:\n",
    "    plt.figure(figsize=(15,10))\n",
    "    sns.boxplot(x ='Extra', y = i, data = df, hue ='Price Range')"
   ]
  },
  {
   "cell_type": "code",
   "execution_count": null,
   "id": "cdfab1d0",
   "metadata": {},
   "outputs": [],
   "source": [
    "# Swarmplot"
   ]
  },
  {
   "cell_type": "code",
   "execution_count": null,
   "id": "59d0ec28",
   "metadata": {
    "scrolled": true
   },
   "outputs": [],
   "source": [
    "for i in cat_columns:\n",
    "    plt.figure(figsize=(12,8))\n",
    "    sns.swarmplot(x = i, y = \"Prices\", palette = \"Set2\", data = df)    \n",
    "    plt.xlabel(i)\n",
    "    plt.xticks(rotation=90)\n",
    "    plt.show()"
   ]
  },
  {
   "cell_type": "code",
   "execution_count": null,
   "id": "8638cccd",
   "metadata": {},
   "outputs": [],
   "source": [
    "for i in cat_columns:\n",
    "    plt.figure(figsize=(12,8))\n",
    "    sns.swarmplot(x = i, y = \"Price Range\", palette = \"Set2\", data = df)    \n",
    "    plt.xlabel(i)\n",
    "    plt.xticks(rotation=90)\n",
    "    # plt.legend()\n",
    "    plt.show()\n"
   ]
  },
  {
   "cell_type": "code",
   "execution_count": null,
   "id": "2c7d81fc",
   "metadata": {},
   "outputs": [],
   "source": [
    "cont_columns"
   ]
  },
  {
   "cell_type": "code",
   "execution_count": null,
   "id": "560d9e3a",
   "metadata": {},
   "outputs": [],
   "source": [
    "cat_columns"
   ]
  },
  {
   "cell_type": "code",
   "execution_count": null,
   "id": "97afb35d",
   "metadata": {
    "scrolled": true
   },
   "outputs": [],
   "source": [
    "# Scatter plot btw columns and fraud: \n",
    "\n",
    "for a in ['Extra', 'From', 'To', 'Day of flight', 'month of flight',\n",
    "       'stop_details', 'first_stop']:\n",
    "    for b in [ 'second_stop', 'third_stop',\n",
    "       'fourth_stop', 'airline1', 'airline2', 'airline3']:\n",
    "        sns.scatterplot(x = a, y = 'Prices',hue=b, data=df, palette='Set2')\n",
    "        plt.xticks(rotation=90)\n",
    "        plt.show()"
   ]
  },
  {
   "cell_type": "code",
   "execution_count": null,
   "id": "6ce6bd1d",
   "metadata": {
    "scrolled": true
   },
   "outputs": [],
   "source": [
    "# Lmplot\n",
    "\n",
    "for i in cont_columns:\n",
    "    sns.lmplot(x = i, y = j,hue='Price Range', data=df, palette='Set2', height=8, aspect=1.2)\n",
    "    plt.show()"
   ]
  },
  {
   "cell_type": "code",
   "execution_count": null,
   "id": "848216e6",
   "metadata": {
    "scrolled": true
   },
   "outputs": [],
   "source": [
    "for i in cont_columns:\n",
    "    sns.lmplot(x = i, y = 'Prices', data=df, palette='Set2', height=8, aspect=1.2)\n",
    "    plt.show()"
   ]
  },
  {
   "cell_type": "code",
   "execution_count": null,
   "id": "2ad193b1",
   "metadata": {
    "scrolled": true
   },
   "outputs": [],
   "source": [
    "# Rel plot\n",
    "\n",
    "for i in cont_columns:\n",
    "    sns.relplot(x = i, y = 'Prices', data=df,hue = 'Price Range', palette='Set2', height=8, aspect=1.2)\n",
    "    plt.show()"
   ]
  },
  {
   "cell_type": "code",
   "execution_count": null,
   "id": "405d0e6b",
   "metadata": {
    "scrolled": false
   },
   "outputs": [],
   "source": [
    "# Multivariate analysis\n",
    "\n",
    "sns.pairplot(df)"
   ]
  },
  {
   "cell_type": "code",
   "execution_count": null,
   "id": "6a1d3da1",
   "metadata": {},
   "outputs": [],
   "source": [
    "sns.pairplot(df,hue = 'Price Range')"
   ]
  },
  {
   "cell_type": "code",
   "execution_count": null,
   "id": "3b9b45c0",
   "metadata": {},
   "outputs": [],
   "source": [
    "cont_columns"
   ]
  },
  {
   "cell_type": "code",
   "execution_count": null,
   "id": "076d351d",
   "metadata": {},
   "outputs": [],
   "source": [
    "cat_columns"
   ]
  },
  {
   "cell_type": "code",
   "execution_count": null,
   "id": "620098b6",
   "metadata": {},
   "outputs": [],
   "source": [
    "df['stop_details']"
   ]
  },
  {
   "cell_type": "code",
   "execution_count": null,
   "id": "b5663277",
   "metadata": {},
   "outputs": [],
   "source": [
    "df['stop_details'].unique()"
   ]
  },
  {
   "cell_type": "code",
   "execution_count": null,
   "id": "2a9c4329",
   "metadata": {},
   "outputs": [],
   "source": [
    "\"\"\"# Import label encoder\n",
    "from sklearn import preprocessing\n",
    "  \n",
    "# label_encoder object knows how to understand word labels.\n",
    "label_encoder = preprocessing.LabelEncoder()\n",
    "  \n",
    "# Encode labels in column 'stop_details'.\n",
    "df['stop_details']= label_encoder.fit_transform(df['stop_details'])\n",
    "  \n",
    "df['stop_details'].unique()\"\"\""
   ]
  },
  {
   "cell_type": "code",
   "execution_count": null,
   "id": "1d0a23fe",
   "metadata": {},
   "outputs": [],
   "source": [
    "# Grouped data analysis:"
   ]
  },
  {
   "cell_type": "code",
   "execution_count": null,
   "id": "2781ba4a",
   "metadata": {},
   "outputs": [],
   "source": [
    "pd.set_option('display.max_rows', None)\n",
    "df.groupby('airline1').mean().sort_values(by='Prices',ascending=False)"
   ]
  },
  {
   "cell_type": "code",
   "execution_count": null,
   "id": "dd80a4eb",
   "metadata": {},
   "outputs": [],
   "source": [
    "pd.set_option('display.max_rows', None)\n",
    "df.groupby('airline2').mean().sort_values(by='Prices',ascending=False)"
   ]
  },
  {
   "cell_type": "code",
   "execution_count": null,
   "id": "ea56d5b1",
   "metadata": {},
   "outputs": [],
   "source": [
    "pd.set_option('display.max_rows', None)\n",
    "df.groupby('airline3').mean().sort_values(by='Prices',ascending=False)"
   ]
  },
  {
   "cell_type": "code",
   "execution_count": null,
   "id": "503310b4",
   "metadata": {},
   "outputs": [],
   "source": [
    "pd.set_option('display.max_rows', None)\n",
    "df.groupby('fourth_stop').mean().sort_values(by='Prices',ascending=False)"
   ]
  },
  {
   "cell_type": "code",
   "execution_count": null,
   "id": "3cdde94f",
   "metadata": {},
   "outputs": [],
   "source": [
    "pd.set_option('display.max_rows', None)\n",
    "df.groupby('third_stop').mean().sort_values(by='Prices',ascending=False)"
   ]
  },
  {
   "cell_type": "code",
   "execution_count": null,
   "id": "8a6e0e90",
   "metadata": {},
   "outputs": [],
   "source": [
    "pd.set_option('display.max_rows', None)\n",
    "df.groupby('second_stop').mean().sort_values(by='Prices',ascending=False)"
   ]
  },
  {
   "cell_type": "code",
   "execution_count": null,
   "id": "127e866e",
   "metadata": {},
   "outputs": [],
   "source": [
    "pd.set_option('display.max_rows', None)\n",
    "df.groupby('first_stop').mean().sort_values(by='Prices',ascending=False)"
   ]
  },
  {
   "cell_type": "code",
   "execution_count": null,
   "id": "22b820fa",
   "metadata": {},
   "outputs": [],
   "source": [
    "pd.set_option('display.max_rows', None)\n",
    "df.groupby('To').mean().sort_values(by='Prices',ascending=False)"
   ]
  },
  {
   "cell_type": "code",
   "execution_count": null,
   "id": "d33103da",
   "metadata": {},
   "outputs": [],
   "source": [
    "pd.set_option('display.max_rows', None)\n",
    "df.groupby('total_time_taken_in_hours').mean().sort_values(by='Prices',ascending=False)"
   ]
  },
  {
   "cell_type": "code",
   "execution_count": null,
   "id": "54a4ac6d",
   "metadata": {},
   "outputs": [],
   "source": [
    "pd.set_option('display.max_rows', None)\n",
    "df.groupby('stop_details').mean().sort_values(by='Prices',ascending=False)"
   ]
  },
  {
   "cell_type": "code",
   "execution_count": null,
   "id": "f2bb0c42",
   "metadata": {
    "scrolled": false
   },
   "outputs": [],
   "source": [
    "pd.set_option('display.max_rows', None)\n",
    "df.groupby('Arrival Time').mean().sort_values(by='Prices',ascending=False)"
   ]
  },
  {
   "cell_type": "code",
   "execution_count": null,
   "id": "cde16cda",
   "metadata": {
    "scrolled": true
   },
   "outputs": [],
   "source": [
    "pd.set_option('display.max_rows', None)\n",
    "df.groupby('Departure Time').mean().sort_values(by='Prices',ascending=False)"
   ]
  },
  {
   "cell_type": "code",
   "execution_count": null,
   "id": "a6d41f85",
   "metadata": {
    "scrolled": true
   },
   "outputs": [],
   "source": [
    "for i in cont_columns:\n",
    "    for j in cat_columns:\n",
    "        print('Grouped data by',j, 'on',i,':\\n\\n',df.groupby(j)[i].mean().sort_values(ascending = False),'\\n\\n')\n",
    "\n"
   ]
  },
  {
   "cell_type": "code",
   "execution_count": null,
   "id": "6bfbbdff",
   "metadata": {},
   "outputs": [],
   "source": [
    "for i in cont_columns:\n",
    "    for j in cat_columns:\n",
    "        print('Grouped data by',j, 'on',i,':\\n\\n',df.groupby(j)[i].median().sort_values(ascending = False),'\\n\\n')"
   ]
  },
  {
   "cell_type": "code",
   "execution_count": null,
   "id": "05f3f16e",
   "metadata": {},
   "outputs": [],
   "source": [
    "# Skewness"
   ]
  },
  {
   "cell_type": "code",
   "execution_count": null,
   "id": "4c8b39c4",
   "metadata": {},
   "outputs": [],
   "source": [
    "df.skew()"
   ]
  },
  {
   "cell_type": "code",
   "execution_count": null,
   "id": "0a3e65e3",
   "metadata": {},
   "outputs": [],
   "source": [
    "# Correlation between features and label:\n",
    "\n",
    "# Replacing attrition column values:\n",
    "\n",
    "df.drop(columns = 'Prices',axis = 1).corrwith(df['Prices']).plot(kind='bar',grid=True,figsize=(10,7),title='corelation between features and labels')\n",
    "plt.show()"
   ]
  },
  {
   "cell_type": "code",
   "execution_count": null,
   "id": "d1e171f1",
   "metadata": {},
   "outputs": [],
   "source": [
    "df_corr = df.corr().abs()\n",
    "plt.figure(figsize=(25,22))\n",
    "sns.heatmap(df_corr,annot=True,annot_kws={'size':10})\n",
    "plt.show()"
   ]
  },
  {
   "cell_type": "code",
   "execution_count": null,
   "id": "aba6e0a7",
   "metadata": {},
   "outputs": [],
   "source": [
    "from statsmodels.stats.outliers_influence import variance_inflation_factor\n",
    "\n",
    "\n",
    "vif = pd.DataFrame()\n",
    "vif['vif'] = [variance_inflation_factor(df[cont_columns],i) for i in range(df[cont_columns].shape[1])]\n",
    "vif['features'] = df[cont_columns].columns\n",
    "vif.sort_values(by='vif',ascending=False)"
   ]
  },
  {
   "cell_type": "code",
   "execution_count": null,
   "id": "adb7ee35",
   "metadata": {},
   "outputs": [],
   "source": [
    "cont_columns"
   ]
  },
  {
   "cell_type": "code",
   "execution_count": null,
   "id": "f8257b8f",
   "metadata": {},
   "outputs": [],
   "source": [
    "df.drop(columns=['Price Range'],axis=0,inplace=True)"
   ]
  },
  {
   "cell_type": "code",
   "execution_count": null,
   "id": "76992a81",
   "metadata": {},
   "outputs": [],
   "source": [
    "df1 = df.copy()"
   ]
  },
  {
   "cell_type": "code",
   "execution_count": null,
   "id": "6623e20e",
   "metadata": {},
   "outputs": [],
   "source": [
    "# Using Z Statistics to check and remove any more outliers:\n",
    "\n",
    "from scipy.stats import zscore\n",
    "\n",
    "z_score = zscore(df1[cont_columns])\n",
    "\n",
    "abs_z_score = np.abs(z_score)\n",
    "\n",
    "filtering_entry = (abs_z_score < 3).all(axis=1) \n",
    "\n",
    "df1 = df1[filtering_entry]\n",
    "\n",
    "df1.describe()"
   ]
  },
  {
   "cell_type": "code",
   "execution_count": null,
   "id": "593cee66",
   "metadata": {},
   "outputs": [],
   "source": [
    "df_encoded = pd.get_dummies(df)\n",
    "\n",
    "df_encoded"
   ]
  },
  {
   "cell_type": "code",
   "execution_count": null,
   "id": "2f5ed812",
   "metadata": {},
   "outputs": [],
   "source": [
    "# Splitting data into features and label:\n",
    "\n",
    "y = df_encoded['Prices']\n",
    "X = df_encoded.drop('Prices',axis=1)"
   ]
  },
  {
   "cell_type": "code",
   "execution_count": null,
   "id": "27a6602b",
   "metadata": {},
   "outputs": [],
   "source": [
    "# Applying standard scaler\n",
    "\n",
    "scaler = StandardScaler()\n",
    "X_scaled = scaler.fit_transform(X)"
   ]
  },
  {
   "cell_type": "code",
   "execution_count": null,
   "id": "88c5baca",
   "metadata": {},
   "outputs": [],
   "source": [
    "from sklearn.decomposition import PCA\n",
    "# Using PCA i.e. Principal Component Analysis that is a diamensionallity reduction technique:\n",
    "\n",
    "pcaf = PCA()\n",
    "pcaf.fit_transform(X_scaled)\n"
   ]
  },
  {
   "cell_type": "code",
   "execution_count": null,
   "id": "5876ba23",
   "metadata": {},
   "outputs": [],
   "source": [
    "# Using Scree Plot to identify best components:\n",
    "\n",
    "plt.figure()\n",
    "plt.plot(np.cumsum(pcaf.explained_variance_ratio_))\n",
    "plt.xlabel('Principal Components')\n",
    "plt.ylabel('Variance Covered')\n",
    "plt.title('PCA')\n",
    "plt.show()\n"
   ]
  },
  {
   "cell_type": "code",
   "execution_count": null,
   "id": "c92ec3b5",
   "metadata": {},
   "outputs": [],
   "source": [
    "from sklearn.decomposition import PCA\n",
    "\n",
    "pcaf = PCA(n_components=110)\n",
    "new_pcompf = pcaf.fit_transform(X_scaled)\n",
    "princi_compf = pd.DataFrame(new_pcompf)\n",
    "princi_compf"
   ]
  },
  {
   "cell_type": "code",
   "execution_count": null,
   "id": "8de9740e",
   "metadata": {},
   "outputs": [],
   "source": [
    "# Splitting our data to training data and testing data\n",
    "# x_train,x_test,y_train,y_test\n",
    "\n",
    "x_train,x_test,y_train,y_test = train_test_split(princi_compf,y,test_size=0.30,random_state=1)\n",
    "\n",
    "# Here we are keeping training data as our scalled data and testing data as our label or target."
   ]
  },
  {
   "cell_type": "code",
   "execution_count": null,
   "id": "23dd9b76",
   "metadata": {},
   "outputs": [],
   "source": [
    "# MOdel instantiating and training\n",
    "\n",
    "rm = LinearRegression()\n",
    "rm.fit(x_train,y_train) \n",
    "# here we will pass training data\n",
    "\n",
    "# Testing our model with Adjusted R2 Square: \n",
    "\n",
    "# on training data\n",
    "\n",
    "print('Training dataset score: ',rm.score(x_train,y_train))\n",
    "\n",
    "# PLotting and visualizing\n",
    "\n",
    "y_pred = rm.predict(x_test)\n",
    "\n",
    "plt.scatter(y_test,y_pred)\n",
    "plt.xlabel('Actual Charges')\n",
    "plt.ylabel('Predicted Charges')\n",
    "plt.title('Actual vs Model Predicted')\n",
    "plt.show()"
   ]
  },
  {
   "cell_type": "code",
   "execution_count": null,
   "id": "7cb9807e",
   "metadata": {},
   "outputs": [],
   "source": [
    "import sklearn.metrics as metrics\n",
    "from sklearn.metrics import mean_absolute_error\n",
    "from sklearn.metrics import mean_squared_error\n",
    "\n",
    "\n",
    "#model performance\n",
    "\n",
    "print(\"MAE: \", mean_absolute_error(y_test, y_pred))\n",
    "print(\"MSE: \", mean_squared_error(y_test, y_pred))\n",
    "print(\"RMSE: \", mean_squared_error(y_test, y_pred, squared=False))\n",
    "print(\"R2: \", metrics.r2_score(y_test, y_pred), \"\\n\")\n",
    "print(\"Score: \", rm.score(x_test, y_test))"
   ]
  },
  {
   "cell_type": "code",
   "execution_count": null,
   "id": "ea494b3b",
   "metadata": {},
   "outputs": [],
   "source": [
    "from sklearn.linear_model import Ridge,Lasso,RidgeCV,LassoCV\n",
    "\n",
    "lassocv = LassoCV(alphas = None , max_iter = 100, normalize = True)\n",
    "lassocv.fit(x_train,y_train)"
   ]
  },
  {
   "cell_type": "code",
   "execution_count": null,
   "id": "b214cfa8",
   "metadata": {},
   "outputs": [],
   "source": [
    "# Best alpha parameter\n",
    "alpha = lassocv.alpha_ # Best alpha rate\n",
    "alpha"
   ]
  },
  {
   "cell_type": "code",
   "execution_count": null,
   "id": "817094e9",
   "metadata": {},
   "outputs": [],
   "source": [
    "# Now since we have the best parameter, lasso regression will be used:\n",
    "lasso_reg = Lasso(alpha)\n",
    "lasso_reg.fit(x_train,y_train)\n",
    "# i.e. when model is training it will learn at this speed 6...."
   ]
  },
  {
   "cell_type": "code",
   "execution_count": null,
   "id": "69497152",
   "metadata": {},
   "outputs": [],
   "source": [
    "lasso_reg.score(x_test,y_test)"
   ]
  },
  {
   "cell_type": "code",
   "execution_count": null,
   "id": "eab02298",
   "metadata": {},
   "outputs": [],
   "source": [
    "#model performance\n",
    "\n",
    "print(\"MAE: \", metrics.mean_absolute_error(y_test, y_pred))\n",
    "print(\"MSE: \", metrics.mean_squared_error(y_test, y_pred))\n",
    "print(\"RMSE: \", metrics.mean_squared_error(y_test, y_pred, squared=False))\n",
    "print(\"R2: \", metrics.r2_score(y_test, y_pred), \"\\n\")\n",
    "print(\"Score: \", lasso_reg.score(x_test, y_test))"
   ]
  },
  {
   "cell_type": "code",
   "execution_count": null,
   "id": "2b8888ff",
   "metadata": {},
   "outputs": [],
   "source": [
    "# Ridge Method:\n",
    "\n",
    "ridgecv = RidgeCV(alphas = np.arange(0.001,0.1,0.01),normalize = True)\n",
    "ridgecv.fit(x_train,y_train)"
   ]
  },
  {
   "cell_type": "code",
   "execution_count": null,
   "id": "bdaeff25",
   "metadata": {},
   "outputs": [],
   "source": [
    "ridgecv.alpha_ # Best alpha rate"
   ]
  },
  {
   "cell_type": "code",
   "execution_count": null,
   "id": "a5212aec",
   "metadata": {},
   "outputs": [],
   "source": [
    "ridge_model = Ridge(alpha = ridgecv.alpha_)\n",
    "ridge_model.fit(x_train,y_train)"
   ]
  },
  {
   "cell_type": "code",
   "execution_count": null,
   "id": "6f73c961",
   "metadata": {},
   "outputs": [],
   "source": [
    "ridge_model.score(x_test,y_test)"
   ]
  },
  {
   "cell_type": "code",
   "execution_count": null,
   "id": "0097e820",
   "metadata": {},
   "outputs": [],
   "source": [
    "#model performance\n",
    "\n",
    "print(\"MAE: \", metrics.mean_absolute_error(y_test, y_pred))\n",
    "print(\"MSE: \", metrics.mean_squared_error(y_test, y_pred))\n",
    "print(\"RMSE: \", metrics.mean_squared_error(y_test, y_pred, squared=False))\n",
    "print(\"R2: \", metrics.r2_score(y_test, y_pred), \"\\n\")\n",
    "print(\"Score: \", ridge_model.score(x_test, y_test))"
   ]
  },
  {
   "cell_type": "code",
   "execution_count": null,
   "id": "a8dbdbe7",
   "metadata": {},
   "outputs": [],
   "source": [
    "# Using decision tree:\n",
    "\n",
    "from sklearn.tree import DecisionTreeRegressor\n",
    "\n",
    "from sklearn.metrics import r2_score\n",
    "\n",
    "model = DecisionTreeRegressor()\n",
    "\n",
    "model.fit(x_train, y_train)\n",
    "\n",
    "y_preddt = model.predict(x_test)\n",
    "\n",
    "r2_score(y_test,y_preddt)\n"
   ]
  },
  {
   "cell_type": "code",
   "execution_count": null,
   "id": "7652ad5c",
   "metadata": {},
   "outputs": [],
   "source": [
    "# Random forest:\n",
    "\n",
    "from sklearn.ensemble import RandomForestRegressor\n",
    "regressor_rf = RandomForestRegressor(n_estimators = 200)\n",
    "\n",
    "regressor_rf.fit(x_train, y_train)\n",
    "\n",
    "lr_normal_rf = regressor_rf.score(x_train, y_train)\n",
    "\n",
    "lr_normal_rf"
   ]
  },
  {
   "cell_type": "code",
   "execution_count": null,
   "id": "f04b43ff",
   "metadata": {},
   "outputs": [],
   "source": [
    "y_predrf = regressor_rf.predict(x_test)\n",
    "\n",
    "lr_normal_rf_test = regressor_rf.score(x_test, y_test)\n",
    "\n",
    "lr_normal_rf_test\n",
    "\n",
    "mse_lr_normal_rf  = mean_absolute_error(y_test, y_predrf)\n",
    "\n",
    "mse_lr_normal_rf"
   ]
  },
  {
   "cell_type": "code",
   "execution_count": null,
   "id": "44c955f4",
   "metadata": {},
   "outputs": [],
   "source": [
    "# Model Evaluation: MAE , MSE , RMSE\n",
    "\n",
    "from sklearn.metrics import mean_absolute_error,mean_squared_error\n",
    "\n",
    "print(\"MAE: \", metrics.mean_absolute_error(y_test, y_predrf))\n",
    "print(\"MSE: \", metrics.mean_squared_error(y_test, y_predrf))\n",
    "print(\"RMSE: \", metrics.mean_squared_error(y_test, y_predrf, squared=False))\n",
    "print(\"R2: \", metrics.r2_score(y_test, y_predrf), \"\\n\")\n",
    "print(\"Score: \", regressor_rf.score(x_test, y_predrf))"
   ]
  },
  {
   "cell_type": "code",
   "execution_count": null,
   "id": "a9effe7c",
   "metadata": {},
   "outputs": [],
   "source": [
    "from sklearn.model_selection import KFold , cross_val_score\n",
    "k_f = KFold(n_splits =3)\n",
    "k_f\n",
    "\n",
    "# Cross Validation score to check if model is overfitting:\n",
    "\n",
    "cross_val_score(regressor_rf,x_train,y_train,cv=3) # "
   ]
  },
  {
   "cell_type": "code",
   "execution_count": null,
   "id": "69ea4f17",
   "metadata": {},
   "outputs": [],
   "source": [
    "# Tuning parameters using GridSearchCV:\n",
    "\n",
    "params = {'n_estimators':[100],\n",
    "          'max_depth':[10,20],\n",
    "          'min_samples_split':[11,12],\n",
    "          'min_samples_leaf':[5,6]}\n",
    "\n",
    "grd = GridSearchCV(regressor_rf,param_grid=params)\n",
    "\n",
    "grd.fit(x_train,y_train)"
   ]
  },
  {
   "cell_type": "code",
   "execution_count": null,
   "id": "4f5d7a95",
   "metadata": {},
   "outputs": [],
   "source": [
    "# Getting best parameters:\n",
    "\n",
    "print('Best parameters: ',grd.best_params_)"
   ]
  },
  {
   "cell_type": "code",
   "execution_count": null,
   "id": "a95c834d",
   "metadata": {},
   "outputs": [],
   "source": [
    "# Reinstantiating:\n",
    "\n",
    "rf_boosted = RandomForestRegressor(n_estimators=100,max_depth=20,\n",
    "                                    min_samples_split=11,min_samples_leaf=5)\n",
    "                                    \n",
    "rf_boosted.fit(x_train, y_train)\n",
    "\n",
    "rf_boo_score = rf_boosted.score(x_train, y_train)\n",
    "\n",
    "print('Training score: ',rf_boo_score)\n",
    "\n",
    "print('Testing score: ',rf_boosted.score(x_test,y_test))\n",
    "\n",
    "y_predrfb = rf_boosted.predict(x_test)\n",
    "\n",
    "print(\"MAE: \", metrics.mean_absolute_error(y_test, y_predrfb))\n",
    "print(\"MSE: \", metrics.mean_squared_error(y_test, y_predrfb))\n",
    "print(\"RMSE: \", metrics.mean_squared_error(y_test, y_predrfb, squared=False))\n",
    "print(\"R2: \", metrics.r2_score(y_test, y_predrfb), \"\\n\")\n",
    "print(\"Score: \", rf_boosted.score(x_test, y_predrfb))"
   ]
  },
  {
   "cell_type": "code",
   "execution_count": null,
   "id": "8298e3eb",
   "metadata": {},
   "outputs": [],
   "source": [
    "from sklearn.model_selection import KFold , cross_val_score\n",
    "k_f = KFold(n_splits =3)\n",
    "k_f\n",
    "\n",
    "# Cross Validation score to check if model is overfitting:\n",
    "\n",
    "cross_val_score(rf_boosted,x_train,y_train,cv=5) # "
   ]
  },
  {
   "cell_type": "code",
   "execution_count": null,
   "id": "409ddc6c",
   "metadata": {},
   "outputs": [],
   "source": [
    "# Using Support vector regressor:\n",
    "\n",
    "# Fit the model over the training data\n",
    "from sklearn.svm import SVR\n",
    "svr = SVR()\n",
    "svr.fit(x_train, y_train)\n",
    "\n",
    "y_predsvr = svr.predict(x_test)\n",
    "\n",
    "r2_score(y_test,y_predsvr)"
   ]
  },
  {
   "cell_type": "code",
   "execution_count": null,
   "id": "b5242382",
   "metadata": {},
   "outputs": [],
   "source": [
    "\"\"\"# Finding best random state for logistic regression model:\n",
    "\n",
    "maxscore = 0\n",
    "maxRS = 0\n",
    "\n",
    "for i in range(1,200):\n",
    "    rf_boosted = RandomForestRegressor(n_estimators=100,max_depth=10,\n",
    "                                    min_samples_split=11,min_samples_leaf=5,random_state=i)\n",
    "    rf_boosted.fit(x_train, y_train) \n",
    "    y_pred = rf_boosted.predict(x_test)\n",
    "    score = r2_score(y_test,y_pred)\n",
    "    print('Testing accuracy: ', score, 'at random state', i)\n",
    "    \n",
    "    if score > maxscore:\n",
    "        maxscore = score\n",
    "        maxRS = i\n",
    "        print('Max score',maxscore,'max random state',maxRS)\"\"\""
   ]
  },
  {
   "cell_type": "code",
   "execution_count": null,
   "id": "aa9fedf5",
   "metadata": {},
   "outputs": [],
   "source": [
    "# Using XGBoost:\n",
    "\n",
    "xgb_reg = xgb.XGBRegressor()\n",
    "xgb_reg.fit(x_train,y_train)\n",
    "xgb_reg_score = xgb_reg.score(x_train, y_train)\n",
    "\n",
    "print('Training score: ',xgb_reg.score(x_train, y_train))\n",
    "\n",
    "print('Testing score: ',xgb_reg.score(x_test,y_test))\n",
    "\n",
    "y_predxb = xgb_reg.predict(x_test)\n",
    "\n",
    "print(\"MAE: \", metrics.mean_absolute_error(y_test, y_predxb))\n",
    "print(\"MSE: \", metrics.mean_squared_error(y_test, y_predxb))\n",
    "print(\"RMSE: \", metrics.mean_squared_error(y_test, y_predxb, squared=False))\n",
    "print(\"R2: \", metrics.r2_score(y_test, y_predxb), \"\\n\")\n",
    "print(\"Score: \", xgb_reg.score(x_test, y_predxb))\n",
    "\n",
    "r2_score(y_test,y_predxb)"
   ]
  },
  {
   "cell_type": "code",
   "execution_count": null,
   "id": "f083740b",
   "metadata": {},
   "outputs": [],
   "source": [
    "from sklearn.model_selection import KFold , cross_val_score\n",
    "k_f = KFold(n_splits =3)\n",
    "k_f\n",
    "\n",
    "# Cross Validation score to check if model is overfitting:\n",
    "\n",
    "cross_val_score(xgb_reg,x_train,y_train,cv=5) # "
   ]
  },
  {
   "cell_type": "code",
   "execution_count": null,
   "id": "88d16fcf",
   "metadata": {},
   "outputs": [],
   "source": [
    "# Hyperparameter tuning for xgboost model\n",
    "\n",
    "params = {\"learning_rate\"    : [0.10,0.2,0.3] ,\n",
    "         \"max_depth\"        : [ 1,2,3]}\n",
    "\n",
    "grd = GridSearchCV(xgb_reg,param_grid=params)\n",
    "\n",
    "xgb_boosted = grd.fit(x_train,y_train)\n",
    "\n",
    "y_predxx = xgb_boosted.predict(x_test)\n",
    "\n",
    "r2_score(y_test,y_predxx)"
   ]
  },
  {
   "cell_type": "code",
   "execution_count": null,
   "id": "17cbdf01",
   "metadata": {},
   "outputs": [],
   "source": [
    "grd.best_params_"
   ]
  },
  {
   "cell_type": "code",
   "execution_count": null,
   "id": "379f8e4c",
   "metadata": {},
   "outputs": [],
   "source": [
    "xgb_boosted = xgb.XGBRegressor(max_depth=3,learning_rate=0.2,n_estimators=200)\n",
    "\n",
    "xgb_boosted.fit(x_train,y_train)\n",
    "\n",
    "y_predxx = xgb_boosted.predict(x_test)\n",
    "\n",
    "r2_score(y_test,y_predxx)"
   ]
  },
  {
   "cell_type": "code",
   "execution_count": null,
   "id": "16d4721a",
   "metadata": {},
   "outputs": [],
   "source": [
    "# Model Evaluation: MAE , MSE , RMSE\n",
    "\n",
    "from sklearn.metrics import mean_absolute_error,mean_squared_error\n",
    "\n",
    "print(\"MAE: \", metrics.mean_absolute_error(y_test, y_predxx))\n",
    "print(\"MSE: \", metrics.mean_squared_error(y_test, y_predxx))\n",
    "print(\"RMSE: \", metrics.mean_squared_error(y_test, y_predxx, squared=False))\n",
    "print(\"R2: \", metrics.r2_score(y_test, y_predxx), \"\\n\")\n",
    "print(\"Score: \", xgb_boosted.score(x_test, y_predxx))"
   ]
  },
  {
   "cell_type": "code",
   "execution_count": null,
   "id": "6d2bc34c",
   "metadata": {},
   "outputs": [],
   "source": [
    "from sklearn.model_selection import KFold , cross_val_score\n",
    "k_f = KFold(n_splits =3)\n",
    "k_f\n",
    "\n",
    "# Cross Validation score to check if model is overfitting:\n",
    "\n",
    "cross_val_score(xgb_boosted,x_train,y_train,cv=5) # "
   ]
  },
  {
   "cell_type": "code",
   "execution_count": null,
   "id": "31663cfd",
   "metadata": {},
   "outputs": [],
   "source": [
    "# Innitiate k neighbour Regressor:\n",
    "\n",
    "from sklearn.neighbors import KNeighborsRegressor\n",
    "\n",
    "params = {'n_neighbors':[0,1,2,3,4,5,6,7,8,9]}\n",
    "\n",
    "knn = KNeighborsRegressor()\n",
    "\n",
    "knnmodel = GridSearchCV(knn, params, cv=5)\n",
    "knnmodel.fit(x_train,y_train)\n",
    "knnmodel.best_params_"
   ]
  },
  {
   "cell_type": "code",
   "execution_count": null,
   "id": "974e6823",
   "metadata": {},
   "outputs": [],
   "source": [
    "knn_best = KNeighborsRegressor(n_neighbors = 1)\n",
    "knn_best.fit(x_train,y_train)"
   ]
  },
  {
   "cell_type": "code",
   "execution_count": null,
   "id": "80b7983b",
   "metadata": {},
   "outputs": [],
   "source": [
    "y_predknn = knn_best.predict(x_test)\n",
    "\n",
    "r2_score(y_test,y_predknn)"
   ]
  },
  {
   "cell_type": "code",
   "execution_count": null,
   "id": "23749f6b",
   "metadata": {},
   "outputs": [],
   "source": [
    "# Adaboost\n",
    "\n",
    "from sklearn.ensemble import AdaBoostRegressor\n",
    "\n",
    "regr = AdaBoostRegressor(random_state=0, n_estimators=100)\n",
    "\n",
    "regr.fit(x_train,y_train)\n",
    "\n",
    "ypredada = regr.predict(x_test)\n",
    "\n",
    "r2_score(y_test,ypredada)"
   ]
  },
  {
   "cell_type": "code",
   "execution_count": null,
   "id": "9bbb9ded",
   "metadata": {},
   "outputs": [],
   "source": [
    "# Model Evaluation: MAE , MSE , RMSE\n",
    "\n",
    "from sklearn.metrics import mean_absolute_error,mean_squared_error\n",
    "\n",
    "print(\"MAE: \", metrics.mean_absolute_error(y_test, ypredada))\n",
    "print(\"MSE: \", metrics.mean_squared_error(y_test, ypredada))\n",
    "print(\"RMSE: \", metrics.mean_squared_error(y_test, ypredada, squared=False))\n",
    "print(\"R2: \", metrics.r2_score(y_test, ypredada), \"\\n\")\n",
    "print(\"Score: \", regr.score(x_test, ypredada))"
   ]
  },
  {
   "cell_type": "code",
   "execution_count": null,
   "id": "b67edc8c",
   "metadata": {},
   "outputs": [],
   "source": [
    "# Gradient Boosting regressor\n",
    "\n",
    "from sklearn.ensemble import GradientBoostingRegressor\n",
    "\n",
    "reg = GradientBoostingRegressor(random_state=0)\n",
    "reg.fit(x_train,y_train)\n",
    "\n",
    "ypredgbr = regr.predict(x_test)\n",
    "\n",
    "r2_score(y_test,ypredgbr)"
   ]
  },
  {
   "cell_type": "code",
   "execution_count": null,
   "id": "aa8829d8",
   "metadata": {},
   "outputs": [],
   "source": [
    "# Model Evaluation: MAE , MSE , RMSE\n",
    "\n",
    "from sklearn.metrics import mean_absolute_error,mean_squared_error\n",
    "\n",
    "print(\"MAE: \", metrics.mean_absolute_error(y_test, ypredgbr))\n",
    "print(\"MSE: \", metrics.mean_squared_error(y_test, ypredgbr))\n",
    "print(\"RMSE: \", metrics.mean_squared_error(y_test, ypredgbr, squared=False))\n",
    "print(\"R2: \", metrics.r2_score(y_test, ypredgbr), \"\\n\")\n",
    "print(\"Score: \", reg.score(x_test, ypredgbr))"
   ]
  },
  {
   "cell_type": "code",
   "execution_count": null,
   "id": "e0ea89d1",
   "metadata": {},
   "outputs": [],
   "source": [
    "from sklearn.model_selection import KFold , cross_val_score\n",
    "k_f = KFold(n_splits =3)\n",
    "k_f\n",
    "\n",
    "# Cross Validation score to check if model is overfitting:\n",
    "\n",
    "cross_val_score(reg,x_train,y_train,cv=5) # "
   ]
  },
  {
   "cell_type": "code",
   "execution_count": null,
   "id": "dccb34fc",
   "metadata": {},
   "outputs": [],
   "source": [
    "# Creating pipeline:\n",
    "from sklearn import metrics\n",
    "\n",
    "from sklearn.ensemble import RandomForestRegressor\n",
    "\n",
    "from sklearn.metrics import mean_absolute_error,mean_squared_error\n",
    "\n",
    "\n",
    "\n",
    "from sklearn.pipeline import Pipeline\n",
    "\n",
    "pipe1 = Pipeline([('scaler',StandardScaler()),\n",
    "                  ('pca',PCA(n_components=110)),('base_model1',RandomForestRegressor(n_estimators=100,max_depth=20,\n",
    "                                    min_samples_split=11,min_samples_leaf=5))])\n",
    "\n",
    "pipe1.fit(x_train,y_train)\n",
    "\n",
    "y_pred = pipe1.predict(x_test)\n",
    "\n",
    "print(\"MAE: \", metrics.mean_absolute_error(y_test, y_pred))\n",
    "print(\"MSE: \", metrics.mean_squared_error(y_test, y_pred))\n",
    "print(\"RMSE: \", metrics.mean_squared_error(y_test, y_pred, squared=False))\n",
    "print(\"R2: \", metrics.r2_score(y_test, y_pred), \"\\n\")\n",
    "print(\"Score: \", pipe1.score(x_test, y_pred))\n",
    "\n",
    "\n",
    "# Saving regression model to pickle string\n",
    "\n",
    "\n",
    "import pickle \n",
    "saved_model1 = pickle.dumps(pipe1) \n",
    "pipe_pickle1 = pickle.loads(saved_model1)\n",
    "pipe_pickle1.predict(x_test) # predicting testing data\n",
    "\n"
   ]
  },
  {
   "cell_type": "code",
   "execution_count": null,
   "id": "fe700540",
   "metadata": {},
   "outputs": [],
   "source": []
  }
 ],
 "metadata": {
  "kernelspec": {
   "display_name": "Python 3 (ipykernel)",
   "language": "python",
   "name": "python3"
  },
  "language_info": {
   "codemirror_mode": {
    "name": "ipython",
    "version": 3
   },
   "file_extension": ".py",
   "mimetype": "text/x-python",
   "name": "python",
   "nbconvert_exporter": "python",
   "pygments_lexer": "ipython3",
   "version": "3.9.12"
  }
 },
 "nbformat": 4,
 "nbformat_minor": 5
}
