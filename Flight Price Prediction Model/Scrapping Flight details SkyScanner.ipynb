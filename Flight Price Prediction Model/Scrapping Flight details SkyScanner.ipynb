{
 "cells": [
  {
   "cell_type": "code",
   "execution_count": null,
   "id": "e3d89dec",
   "metadata": {},
   "outputs": [],
   "source": [
    "import pandas as pd\n",
    "from selenium import webdriver\n",
    "from selenium.webdriver.common.by import By\n",
    "import time\n",
    "from time import sleep\n",
    "\n",
    "import warnings\n",
    "warnings.filterwarnings('ignore')"
   ]
  },
  {
   "cell_type": "code",
   "execution_count": null,
   "id": "6df35f27",
   "metadata": {},
   "outputs": [],
   "source": [
    "# First (a) batch scrap"
   ]
  },
  {
   "cell_type": "code",
   "execution_count": null,
   "id": "6217eb4d",
   "metadata": {},
   "outputs": [],
   "source": [
    "path ='C:\\Program Files\\Chromedriver\\chromedriver.exe'\n",
    "\n",
    "browser_1 = webdriver.Chrome(executable_path=path)\n",
    "\n",
    "# Load webpage:\n",
    "\n",
    "url1 = 'https://www.skyscanner.co.in/transport/flights/del/dxba/230117/?adults=1&adultsv2=1&cabinclass=economy&children=0&childrenv2=&destinationentityid=27540839&inboundaltsenabled=false&infants=0&originentityid=27540706&outboundaltsenabled=false&preferdirects=false&ref=home&rtn=0'\n",
    "\n",
    "browser_1.get(url1)\n",
    "\n",
    "browser_1.maximize_window()\n"
   ]
  },
  {
   "cell_type": "code",
   "execution_count": null,
   "id": "d6ee117e",
   "metadata": {},
   "outputs": [],
   "source": [
    "browser_1.execute_script(\"window.scrollBy(0,document.body.scrollHeight)\")"
   ]
  },
  {
   "cell_type": "code",
   "execution_count": null,
   "id": "67e644b4",
   "metadata": {},
   "outputs": [],
   "source": [
    "more_button = browser_1.find_element(By.XPATH,\"//button[@class='BpkButtonBase_bpk-button__MmIzZ BpkButtonSecondary_bpk-button--secondary__NjIwM']\")\n",
    "more_button.click()\n",
    "\n",
    "time.sleep(4)\n",
    "\n",
    "close_button = browser_1.find_element(By.XPATH,\"//button[@class='BpkCloseButton_bpk-close-button__ZWZhM BpkModalInner_bpk-modal__close-button__ZWU3N BpkNavigationBar_bpk-navigation-bar__trailing-item__ZThiZ']\")\n",
    "close_button.click()\n"
   ]
  },
  {
   "cell_type": "code",
   "execution_count": null,
   "id": "7da74bff",
   "metadata": {},
   "outputs": [],
   "source": [
    "browser_1.execute_script(\"window.scrollBy(0,document.body.scrollHeight)\")"
   ]
  },
  {
   "cell_type": "code",
   "execution_count": null,
   "id": "e5389242",
   "metadata": {},
   "outputs": [],
   "source": [
    "# extracting initial details2: \n",
    "\n",
    "time = []\n",
    "t1 = browser_1.find_elements(By.XPATH,\"//span[@class='BpkText_bpk-text__ZWIzZ BpkText_bpk-text--subheading__MDhjZ']\")\n",
    "for i in t1:\n",
    "    time.append(i.text)\n",
    "    \n",
    "dept=[]\n",
    "for i in range(0,len(time),2):\n",
    "    dept.append(time[i])\n",
    "    \n",
    "arr=[]\n",
    "for i in range(1,len(time),2):\n",
    "    arr.append(time[i])\n",
    "    \n",
    "ext = []\n",
    "ex = browser_1.find_elements(By.XPATH,\"//span[@class='BpkText_bpk-text__ZWIzZ BpkText_bpk-text--lg__Nzk0N LegInfo_routePartialTime__OTFkN']\")\n",
    "for i in ex:\n",
    "    ext.append(i.text)\n",
    "    \n",
    "exttime = []\n",
    "for i in range(1,len(ext),2):\n",
    "    exttime.append(ext[i].split('\\n'))\n",
    "\n",
    "ex = []\n",
    "for i in range(0,len(exttime)):\n",
    "    if len(exttime[i])==2:\n",
    "        ex.append(exttime[i][1])\n",
    "    else:\n",
    "        ex.append('Nill')\n",
    "    \n",
    "from_to = []\n",
    "frto = browser_1.find_elements(By.XPATH,\"//span[@class='BpkText_bpk-text__ZWIzZ BpkText_bpk-text--body-default__MzkyN LegInfo_routePartialCityTooltip__NTE4Z']\")\n",
    "for i in frto:\n",
    "    from_to.append(i.text)\n",
    "    \n",
    "fr= []\n",
    "for i in range(0,len(from_to),2):\n",
    "    fr.append(from_to[i])\n",
    "    \n",
    "    \n",
    "to= []\n",
    "for i in range(1,len(from_to),2):\n",
    "    to.append(from_to[i])\n",
    "    \n",
    "    \n",
    "totj = []\n",
    "tj = browser_1.find_elements(By.XPATH,\"//span[@class='BpkText_bpk-text__ZWIzZ BpkText_bpk-text--xs__MTAxY Duration_duration__NmUyM']\")\n",
    "for i in tj:\n",
    "    totj.append(i.text)\n",
    "    \n",
    "stops = []\n",
    "st = browser_1.find_elements(By.XPATH,\"//div[@class='LegInfo_stopsLabelContainer__MmM0Z']\")\n",
    "for i in st:\n",
    "    stops.append(i.text)  \n",
    "    \n",
    "prices = []\n",
    "pr = browser_1.find_elements(By.XPATH,\"//span[@class='BpkText_bpk-text__ZWIzZ BpkText_bpk-text--lg__Nzk0N']\")\n",
    "for i in pr:\n",
    "    prices.append(i.text)\n",
    "pricez=prices[3:]\n",
    "    \n",
    "airdet = []\n",
    "ardt = browser_1.find_elements(By.XPATH,\"//div[@class='LogoImage_container__MDU0Z UpperTicketBody_ticketLogo__Nzc1Z']\")\n",
    "for i in ardt:\n",
    "    airdet.append(i.text)  \n",
    "    \n",
    "date = 'Mon, 16 Jan'\n",
    "\n",
    "dtdub2 = pd.DataFrame()\n",
    "dtdub2['dept'] = dept\n",
    "dtdub2['arr'] = arr\n",
    "dtdub2['ex'] = ex\n",
    "dtdub2['From'] = fr\n",
    "dtdub2['To'] = to\n",
    "dtdub2['Total time taken'] = totj\n",
    "dtdub2['stops'] = stops\n",
    "dtdub2['prices'] = pricez\n",
    "dtdub2['airlines'] = airdet\n",
    "dtdub2['Date'] = date\n",
    "\n",
    "filepath = 'C:/Users/Lenovo/OneDrive/Desktop/Filp Robo worksheets and projects/flight data/dtdub2.csv'\n",
    "dtdub2.to_csv(filepath)\n",
    "\n",
    "dtdub2"
   ]
  },
  {
   "cell_type": "code",
   "execution_count": null,
   "id": "bd96d82d",
   "metadata": {},
   "outputs": [],
   "source": [
    "next_button = browser_1.find_element(By.XPATH,\"//button[@class='BpkButtonBase_bpk-button__Yzg4N BpkButtonBase_bpk-button--icon-only__ZThlN BpkButtonSecondary_bpk-button--secondary__NWMxN DateNudgers_button__MDFiM']\")\n",
    "next_button.click()"
   ]
  },
  {
   "cell_type": "code",
   "execution_count": null,
   "id": "79a92ded",
   "metadata": {},
   "outputs": [],
   "source": []
  }
 ],
 "metadata": {
  "kernelspec": {
   "display_name": "Python 3 (ipykernel)",
   "language": "python",
   "name": "python3"
  },
  "language_info": {
   "codemirror_mode": {
    "name": "ipython",
    "version": 3
   },
   "file_extension": ".py",
   "mimetype": "text/x-python",
   "name": "python",
   "nbconvert_exporter": "python",
   "pygments_lexer": "ipython3",
   "version": "3.9.12"
  }
 },
 "nbformat": 4,
 "nbformat_minor": 5
}
