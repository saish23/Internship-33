{
 "cells": [
  {
   "cell_type": "code",
   "execution_count": null,
   "id": "d5f17fb3",
   "metadata": {},
   "outputs": [],
   "source": [
    "\"\"\"About Dataset\n",
    "Context\n",
    "A straightforward way to assess the health status of a population is to focus on mortality – or concepts like child mortality or life expectancy, which are based on mortality estimates. A focus on mortality, however, does not take into account that the burden of diseases is not only that they kill people, but that they cause suffering to people who live with them. Assessing health outcomes by both mortality and morbidity (the prevalent diseases) provides a more encompassing view on health outcomes. This is the topic of this entry. The sum of mortality and morbidity is referred to as the ‘burden of disease’ and can be measured by a metric called ‘Disability Adjusted Life Years‘ (DALYs). DALYs are measuring lost health and are a standardized metric that allow for direct comparisons of disease burdens of different diseases across countries, between different populations, and over time. Conceptually, one DALY is the equivalent of losing one year in good health because of either premature death or disease or disability. One DALY represents one lost year of healthy life. The first ‘Global Burden of Disease’ (GBD) was GBD 1990 and the DALY metric was prominently featured in the World Bank’s 1993 World Development Report. Today it is published by both the researchers at the Institute of Health Metrics and Evaluation (IHME) and the ‘Disease Burden Unit’ at the World Health Organization (WHO), which was created in 1998. The IHME continues the work that was started in the early 1990s and publishes the Global Burden of Disease study.\n",
    "Content\n",
    "In this Dataset, we have Historical Data of different cause of deaths for all ages around the World. The key features of this Dataset are: Meningitis, Alzheimer's Disease and Other Dementias, Parkinson's Disease, Nutritional Deficiencies, Malaria, Drowning, Interpersonal Violence, Maternal Disorders, HIV/AIDS, Drug Use Disorders, Tuberculosis, Cardiovascular Diseases, Lower Respiratory Infections, Neonatal Disorders, Alcohol Use Disorders, Self-harm, Exposure to Forces of Nature, Diarrheal Diseases, Environmental Heat and Cold Exposure, Neoplasms, Conflict and Terrorism, Diabetes Mellitus, Chronic Kidney Disease, Poisonings, Protein-Energy Malnutrition, Road Injuries, Chronic Respiratory Diseases, Cirrhosis and Other Chronic Liver Diseases, Digestive Diseases, Fire, Heat, and Hot Substances, Acute Hepatitis.\n",
    "Dataset Glossary (Column-wise)\n",
    "•\t01. Country/Territory - Name of the Country/Territory\n",
    "•\t02. Code - Country/Territory Code\n",
    "•\t03. Year - Year of the Incident\n",
    "•\t04. Meningitis - No. of People died from Meningitis\n",
    "•\t05. Alzheimer's Disease and Other Dementias - No. of People died from Alzheimer's Disease and Other Dementias\n",
    "•\t06. Parkinson's Disease - No. of People died from Parkinson's Disease\n",
    "•\t07. Nutritional Deficiencies - No. of People died from Nutritional Deficiencies\n",
    "•\t08. Malaria - No. of People died from Malaria\n",
    "•\t09. Drowning - No. of People died from Drowning\n",
    "•\t10. Interpersonal Violence - No. of People died from Interpersonal Violence\n",
    "•\t11. Maternal Disorders - No. of People died from Maternal Disorders\n",
    "•\t12. Drug Use Disorders - No. of People died from Drug Use Disorders\n",
    "•\t13. Tuberculosis - No. of People died from Tuberculosis\n",
    "•\t14. Cardiovascular Diseases - No. of People died from Cardiovascular Diseases\n",
    "•\t15. Lower Respiratory Infections - No. of People died from Lower Respiratory Infections\n",
    "•\t16. Neonatal Disorders - No. of People died from Neonatal Disorders\n",
    "•\t17. Alcohol Use Disorders - No. of People died from Alcohol Use Disorders\n",
    "•\t18. Self-harm - No. of People died from Self-harm\n",
    "•\t19. Exposure to Forces of Nature - No. of People died from Exposure to Forces of Nature\n",
    "•\t20. Diarrheal Diseases - No. of People died from Diarrheal Diseases\n",
    "•\t21. Environmental Heat and Cold Exposure - No. of People died from Environmental Heat and Cold Exposure\n",
    "•\t22. Neoplasms - No. of People died from Neoplasms\n",
    "•\t23. Conflict and Terrorism - No. of People died from Conflict and Terrorism\n",
    "•\t24. Diabetes Mellitus - No. of People died from Diabetes Mellitus\n",
    "•\t25. Chronic Kidney Disease - No. of People died from Chronic Kidney Disease\n",
    "•\t26. Poisonings - No. of People died from Poisoning\n",
    "•\t27. Protein-Energy Malnutrition - No. of People died from Protein-Energy Malnutrition\n",
    "•\t28. Chronic Respiratory Diseases - No. of People died from Chronic Respiratory Diseases\n",
    "•\t29. Cirrhosis and Other Chronic Liver Diseases - No. of People died from Cirrhosis and Other Chronic Liver Diseases\n",
    "•\t30. Digestive Diseases - No. of People died from Digestive Diseases\n",
    "•\t31. Fire, Heat, and Hot Substances - No. of People died from Fire or Heat or any Hot Substances\n",
    "•\t32. Acute Hepatitis - No. of People died from Acute Hepatitis\n",
    "\n",
    "Steps to Follow\n",
    "https://www.kaggle.com/code/spscientist/a-simple-tutorial-on-exploratory-data-analysis\n",
    "https://en.wikipedia.org/wiki/Exploratory_data_analysis#:~:text=In%20statistics%2C%20exploratory%20data%20analysis,and%20other%20data%20visualization%20methods.\n",
    "\n",
    "Note : Data Scientists have to apply their analytical skills to give findings and conclusions in detailed data analysis written in jupyter notebook . Only data analysis is required.   \n",
    "Need not to create machine learning models /but still if anybody comes with it that is welcome.\n",
    "\n",
    "\"\"\""
   ]
  },
  {
   "cell_type": "code",
   "execution_count": null,
   "id": "6366959e",
   "metadata": {},
   "outputs": [],
   "source": [
    "# Imp libs:\n",
    "import numpy as np\n",
    "import pandas as pd\n",
    "import matplotlib.pyplot as plt\n",
    "import seaborn as sns\n",
    "\n",
    "from statsmodels.stats.outliers_influence import variance_inflation_factor\n",
    "\n",
    "# Removing warnings\n",
    "import warnings\n",
    "warnings.filterwarnings('ignore')\n",
    "\n",
    "%matplotlib inline"
   ]
  },
  {
   "cell_type": "code",
   "execution_count": null,
   "id": "3a8c4611",
   "metadata": {},
   "outputs": [],
   "source": [
    "file_loc = r'C:\\Users\\Lenovo\\OneDrive\\Desktop\\Filp Robo worksheets and projects\\cod\\cause_of_deaths dataset.csv'\n",
    "df = pd.read_csv(file_loc)"
   ]
  },
  {
   "cell_type": "code",
   "execution_count": null,
   "id": "472fe7f1",
   "metadata": {},
   "outputs": [],
   "source": [
    "print('First 10 rows')\n",
    "df.head(10)"
   ]
  },
  {
   "cell_type": "code",
   "execution_count": null,
   "id": "d15080b6",
   "metadata": {},
   "outputs": [],
   "source": [
    "print('Last 10 rows')\n",
    "df.tail(10)"
   ]
  },
  {
   "cell_type": "code",
   "execution_count": null,
   "id": "0dfeec0d",
   "metadata": {},
   "outputs": [],
   "source": [
    "df.shape"
   ]
  },
  {
   "cell_type": "code",
   "execution_count": null,
   "id": "c3949f85",
   "metadata": {},
   "outputs": [],
   "source": [
    "df.columns"
   ]
  },
  {
   "cell_type": "code",
   "execution_count": null,
   "id": "fb52664c",
   "metadata": {},
   "outputs": [],
   "source": [
    "df.dtypes"
   ]
  },
  {
   "cell_type": "code",
   "execution_count": null,
   "id": "b63f0bdb",
   "metadata": {},
   "outputs": [],
   "source": [
    "null_data = df.isnull().sum()\n",
    "null_data.sort_values(ascending=0)"
   ]
  },
  {
   "cell_type": "code",
   "execution_count": null,
   "id": "6f611d64",
   "metadata": {},
   "outputs": [],
   "source": [
    "desc = df.describe().T\n",
    "desc['range']=desc['max']-desc['min']\n",
    "desc"
   ]
  },
  {
   "cell_type": "code",
   "execution_count": null,
   "id": "71e47ba5",
   "metadata": {},
   "outputs": [],
   "source": [
    "df.describe(include='object').T"
   ]
  },
  {
   "cell_type": "code",
   "execution_count": null,
   "id": "50925546",
   "metadata": {},
   "outputs": [],
   "source": [
    "desc[['min','mean','max']]"
   ]
  },
  {
   "cell_type": "code",
   "execution_count": null,
   "id": "d19e4bad",
   "metadata": {},
   "outputs": [],
   "source": [
    "cont_data = df.select_dtypes(include=['int64','float64'])\n",
    "\n",
    "cat_data= df.select_dtypes(include=['object'])\n",
    "\n",
    "cont_columns = cont_data.columns\n",
    "\n",
    "cat_columns = cat_data.columns"
   ]
  },
  {
   "cell_type": "code",
   "execution_count": null,
   "id": "6d85a1d6",
   "metadata": {},
   "outputs": [],
   "source": [
    "cont_columns"
   ]
  },
  {
   "cell_type": "code",
   "execution_count": null,
   "id": "02d4a8cc",
   "metadata": {},
   "outputs": [],
   "source": [
    "cat_columns"
   ]
  },
  {
   "cell_type": "code",
   "execution_count": null,
   "id": "6f36e4aa",
   "metadata": {},
   "outputs": [],
   "source": [
    "from scipy import stats\n",
    "\n",
    "for i in cat_columns:\n",
    "    print('For',i,', most frequent value is: ',stats.mode(df[i]),'\\n')"
   ]
  },
  {
   "cell_type": "code",
   "execution_count": null,
   "id": "8a8fb6e0",
   "metadata": {},
   "outputs": [],
   "source": [
    "for i in cat_columns:\n",
    "    print('For column',i,'unique values are: ',df[i].unique())\n",
    "    print('For column',i,'count of unique values are: ',df[i].nunique(),'\\n\\n')\n",
    "    "
   ]
  },
  {
   "cell_type": "code",
   "execution_count": null,
   "id": "9ef8f9a2",
   "metadata": {},
   "outputs": [],
   "source": [
    "for i in cat_columns:\n",
    "    print('For column --',i,'-- value counts are: \\n',df[i].value_counts(),'\\n\\n')"
   ]
  },
  {
   "cell_type": "code",
   "execution_count": null,
   "id": "18a2e861",
   "metadata": {},
   "outputs": [],
   "source": [
    "df.columns"
   ]
  },
  {
   "cell_type": "code",
   "execution_count": null,
   "id": "defc2989",
   "metadata": {},
   "outputs": [],
   "source": [
    "diseases = df.columns[3:]"
   ]
  },
  {
   "cell_type": "code",
   "execution_count": null,
   "id": "ae2039c9",
   "metadata": {},
   "outputs": [],
   "source": [
    "total_deaths=[]\n",
    "for i in diseases:\n",
    "    total_deaths.append(df[i].sum())\n",
    "total_deaths"
   ]
  },
  {
   "cell_type": "code",
   "execution_count": null,
   "id": "18cec17e",
   "metadata": {},
   "outputs": [],
   "source": [
    "len(total_deaths)"
   ]
  },
  {
   "cell_type": "code",
   "execution_count": null,
   "id": "1bcdbd95",
   "metadata": {},
   "outputs": [],
   "source": [
    "diseases = df.columns[3:]"
   ]
  },
  {
   "cell_type": "code",
   "execution_count": null,
   "id": "918e60b5",
   "metadata": {},
   "outputs": [],
   "source": [
    "diseases"
   ]
  },
  {
   "cell_type": "code",
   "execution_count": null,
   "id": "0c4db573",
   "metadata": {},
   "outputs": [],
   "source": [
    "df_diseasesum = pd.DataFrame({'Diseases':diseases,'total_deaths':total_deaths})"
   ]
  },
  {
   "cell_type": "code",
   "execution_count": null,
   "id": "99054c34",
   "metadata": {},
   "outputs": [],
   "source": [
    "df_diseasesum['total_deaths'] = df_diseasesum['total_deaths'].astype('float64')"
   ]
  },
  {
   "cell_type": "code",
   "execution_count": null,
   "id": "13100c8d",
   "metadata": {},
   "outputs": [],
   "source": [
    "df_diseasesum.sort_values(by='total_deaths',ascending=False)"
   ]
  },
  {
   "cell_type": "code",
   "execution_count": null,
   "id": "272b7085",
   "metadata": {},
   "outputs": [],
   "source": [
    "plt.figure(figsize=(20,15))\n",
    "plt.pie(df_diseasesum['total_deaths'], labels=df_diseasesum['Diseases'], autopct='%1.0f%%')\n",
    "plt.xticks(rotation=90)\n",
    "plt.show()"
   ]
  },
  {
   "cell_type": "code",
   "execution_count": null,
   "id": "0bd63f05",
   "metadata": {},
   "outputs": [],
   "source": [
    "# Univariate analysis:\n",
    "\n",
    "for i in cat_columns:\n",
    "    f= plt.figure(figsize=(12,5))\n",
    "    ax = sns.countplot(x=df[i],data=df)\n",
    "    plt.xticks(rotation=90)"
   ]
  },
  {
   "cell_type": "code",
   "execution_count": null,
   "id": "78c8a4cf",
   "metadata": {},
   "outputs": [],
   "source": [
    "plt.figure(figsize=(12,5))\n",
    "plt.plot('total_deaths',data=df_diseasesum)\n",
    "plt.xlabel('total_deaths')\n",
    "plt.xticks(ticks=np.arange(3225,32,1) , labels=diseases,rotation=90)\n",
    "plt.show()"
   ]
  },
  {
   "cell_type": "code",
   "execution_count": null,
   "id": "5067fa14",
   "metadata": {},
   "outputs": [],
   "source": [
    "for i in cont_columns:\n",
    "    plt.figure(figsize=(30,15))\n",
    "    sns.scatterplot(x = 'Country/Territory', y = i, data = df)\n",
    "    plt.xticks(rotation=90)\n",
    "    plt.show()"
   ]
  },
  {
   "cell_type": "code",
   "execution_count": null,
   "id": "bdbb7eda",
   "metadata": {},
   "outputs": [],
   "source": [
    "# Histogram plot:\n",
    "\n",
    "for i in cont_columns:\n",
    "    plt.figure(figsize=(10,6),facecolor='orange')\n",
    "    plt.hist(df[i])\n",
    "    plt.xlabel(i)\n",
    "    plt.show()"
   ]
  },
  {
   "cell_type": "code",
   "execution_count": null,
   "id": "ff701391",
   "metadata": {},
   "outputs": [],
   "source": [
    "plt.figure(figsize=(50,50))\n",
    "ax = sns.catplot(x=\"Country/Territory\",y='Meningitis', kind=\"box\", data=df)\n",
    "plt.xticks(rotation=90)\n",
    "plt.show()"
   ]
  },
  {
   "cell_type": "code",
   "execution_count": null,
   "id": "d1d60e4b",
   "metadata": {},
   "outputs": [],
   "source": [
    "df.columns"
   ]
  },
  {
   "cell_type": "code",
   "execution_count": null,
   "id": "b6b0c0b9",
   "metadata": {},
   "outputs": [],
   "source": []
  },
  {
   "cell_type": "code",
   "execution_count": null,
   "id": "f3b2f533",
   "metadata": {},
   "outputs": [],
   "source": [
    "# Checking the distribution of continuous variables:\n",
    "\n",
    "for i in cont_columns:\n",
    "    plt.figure(figsize=(12,7),facecolor='orange')\n",
    "    sns.distplot(df[i])\n",
    "    plt.show()"
   ]
  },
  {
   "cell_type": "code",
   "execution_count": null,
   "id": "59834d24",
   "metadata": {
    "scrolled": false
   },
   "outputs": [],
   "source": [
    "# Checking the outliers in continuous variables:\n",
    "\n",
    "for i in cont_columns:\n",
    "    plt.figure(figsize=(12,7),facecolor='orange')\n",
    "    sns.boxplot(df[i])\n",
    "    plt.show()"
   ]
  },
  {
   "cell_type": "code",
   "execution_count": null,
   "id": "24d2b4b0",
   "metadata": {},
   "outputs": [],
   "source": [
    "df.columns"
   ]
  },
  {
   "cell_type": "code",
   "execution_count": null,
   "id": "c4af95c3",
   "metadata": {},
   "outputs": [],
   "source": [
    "for i in df['Country/Territory']:\n",
    "    print('For country:',i)\n",
    "    df_c = df[df['Country/Territory']==i]\n",
    "    print(df_c.describe().T)\n",
    "    print('\\n\\n\\n')"
   ]
  },
  {
   "cell_type": "code",
   "execution_count": null,
   "id": "edfc9092",
   "metadata": {},
   "outputs": [],
   "source": [
    "#Violin plots"
   ]
  },
  {
   "cell_type": "code",
   "execution_count": null,
   "id": "e9ed02bd",
   "metadata": {},
   "outputs": [],
   "source": [
    "for i in diseases:\n",
    "    plt.figure(figsize=(30,30),facecolor='orange')\n",
    "    sns.violinplot(x=\"Country/Territory\",y=i,data=df)\n",
    "    plt.xticks(rotation=90)\n",
    "    plt.show()"
   ]
  },
  {
   "cell_type": "code",
   "execution_count": null,
   "id": "60a9628a",
   "metadata": {},
   "outputs": [],
   "source": [
    "# Strip plots"
   ]
  },
  {
   "cell_type": "code",
   "execution_count": null,
   "id": "eff50320",
   "metadata": {},
   "outputs": [],
   "source": [
    "for i in diseases:\n",
    "    plt.figure(figsize=(30,30),facecolor='orange')\n",
    "    sns.stripplot(x = 'Country/Territory', y =i, data = df)\n",
    "    plt.xticks(rotation=90)\n",
    "    plt.show()"
   ]
  },
  {
   "cell_type": "code",
   "execution_count": null,
   "id": "939469d5",
   "metadata": {},
   "outputs": [],
   "source": [
    "# Analysing numerical data"
   ]
  },
  {
   "cell_type": "code",
   "execution_count": null,
   "id": "ff956714",
   "metadata": {},
   "outputs": [],
   "source": [
    "for i in diseases:\n",
    "    for j in ['Country/Territory', 'Year']:\n",
    "        plt.figure(figsize=(30,30),facecolor='red')\n",
    "        sns.scatterplot(x = df.index, y = i, data = df,hue=j)\n",
    "        plt.xticks(rotation=90)\n",
    "        plt.show()"
   ]
  },
  {
   "cell_type": "code",
   "execution_count": null,
   "id": "dd358b18",
   "metadata": {},
   "outputs": [],
   "source": [
    "# Furthur analysing relationships"
   ]
  },
  {
   "cell_type": "code",
   "execution_count": null,
   "id": "be79b078",
   "metadata": {},
   "outputs": [],
   "source": [
    "for i in diseases:\n",
    "    for j in ['Year']:\n",
    "        plt.figure(figsize=(30,30),facecolor='red')\n",
    "        sns.lmplot(x=i,y = j, data = df)\n",
    "        plt.xticks(rotation=90)\n",
    "        plt.show()"
   ]
  },
  {
   "cell_type": "code",
   "execution_count": null,
   "id": "7885d8f0",
   "metadata": {},
   "outputs": [],
   "source": [
    "for i in diseases:\n",
    "    for j in ['Year']:\n",
    "        plt.figure(figsize=(30,30),facecolor='red')\n",
    "        sns.lmplot(x=i,y = j, data = df,hue='Country/Territory')\n",
    "        plt.xticks(rotation=90)\n",
    "        plt.show()"
   ]
  },
  {
   "cell_type": "code",
   "execution_count": null,
   "id": "fccbe2f0",
   "metadata": {},
   "outputs": [],
   "source": [
    "sns.pairplot(df,hue='Country/Territory')"
   ]
  },
  {
   "cell_type": "code",
   "execution_count": null,
   "id": "53962e87",
   "metadata": {},
   "outputs": [],
   "source": [
    "for i in diseases:\n",
    "    print(df.groupby(['Country/Territory'])[i].count())"
   ]
  },
  {
   "cell_type": "code",
   "execution_count": null,
   "id": "eeef5125",
   "metadata": {},
   "outputs": [],
   "source": [
    "for i in diseases:\n",
    "    grouped_mean = df.groupby(['Country/Territory'])[i].mean()"
   ]
  },
  {
   "cell_type": "code",
   "execution_count": null,
   "id": "97f9f036",
   "metadata": {},
   "outputs": [],
   "source": [
    "grouped_mean.sort_values(ascending=False)"
   ]
  },
  {
   "cell_type": "code",
   "execution_count": null,
   "id": "dd0538af",
   "metadata": {},
   "outputs": [],
   "source": [
    "pd.set_option('display.max_rows',None)\n",
    "grouped_sum = df.groupby(['Country/Territory'])[diseases].sum()"
   ]
  },
  {
   "cell_type": "code",
   "execution_count": null,
   "id": "7d750117",
   "metadata": {},
   "outputs": [],
   "source": [
    "grouped_sum.max().sort_values(ascending=False)"
   ]
  },
  {
   "cell_type": "code",
   "execution_count": null,
   "id": "8383201b",
   "metadata": {},
   "outputs": [],
   "source": [
    "grouped_sum.min().sort_values(ascending=False)"
   ]
  },
  {
   "cell_type": "code",
   "execution_count": null,
   "id": "b4f4b9de",
   "metadata": {},
   "outputs": [],
   "source": [
    "grouped_sum_df = pd.DataFrame(grouped_sum)"
   ]
  },
  {
   "cell_type": "code",
   "execution_count": null,
   "id": "31e51f97",
   "metadata": {},
   "outputs": [],
   "source": [
    "grouped_sum_df"
   ]
  },
  {
   "cell_type": "code",
   "execution_count": null,
   "id": "5e4e9b41",
   "metadata": {},
   "outputs": [],
   "source": [
    "grouped_sum_df['Meningitis'].sum()"
   ]
  },
  {
   "cell_type": "code",
   "execution_count": null,
   "id": "617e920c",
   "metadata": {},
   "outputs": [],
   "source": [
    "grouped_f = df.groupby(['Country/Territory'])[diseases].agg([\"mean\"])"
   ]
  },
  {
   "cell_type": "code",
   "execution_count": null,
   "id": "6d0dc0ba",
   "metadata": {},
   "outputs": [],
   "source": [
    "pd.set_option('display.max_rows',None)\n",
    "grouped_f.T"
   ]
  },
  {
   "cell_type": "code",
   "execution_count": null,
   "id": "69cd8329",
   "metadata": {},
   "outputs": [],
   "source": [
    "grouped_max = df.groupby(['Country/Territory'])[diseases].agg([\"max\",'min'])\n",
    "pd.set_option('display.max_rows',None)\n",
    "grouped_max.describe().T.sort_values(by='max',ascending=False)"
   ]
  },
  {
   "cell_type": "code",
   "execution_count": null,
   "id": "4f398d70",
   "metadata": {},
   "outputs": [],
   "source": [
    "grouped_max.describe().T.sort_values(by='min',ascending=False)"
   ]
  },
  {
   "cell_type": "code",
   "execution_count": null,
   "id": "44460116",
   "metadata": {},
   "outputs": [],
   "source": [
    "grouped_years = df.groupby(['Year'])[diseases].agg([\"max\",'min'])\n",
    "pd.set_option('display.max_rows',None)\n",
    "grouped_years.describe().T.sort_values(by='max',ascending=False)"
   ]
  },
  {
   "cell_type": "code",
   "execution_count": null,
   "id": "95cb10a8",
   "metadata": {},
   "outputs": [],
   "source": [
    "grouped_years.describe().T.sort_values(by='min',ascending=False)"
   ]
  },
  {
   "cell_type": "code",
   "execution_count": null,
   "id": "f103e77e",
   "metadata": {},
   "outputs": [],
   "source": [
    "grouped_sum_df"
   ]
  },
  {
   "cell_type": "code",
   "execution_count": null,
   "id": "0733016f",
   "metadata": {},
   "outputs": [],
   "source": [
    "df.columns"
   ]
  },
  {
   "cell_type": "code",
   "execution_count": null,
   "id": "ff232a95",
   "metadata": {},
   "outputs": [],
   "source": [
    "# Checking correlations"
   ]
  },
  {
   "cell_type": "code",
   "execution_count": null,
   "id": "b110d77f",
   "metadata": {},
   "outputs": [],
   "source": [
    "# Correlation between features and label:\n",
    "\n",
    "# Replacing attrition column values:\n",
    "\n",
    "df.drop(columns = 'Year',axis = 1).corrwith(df.Year).plot(kind='bar',grid=True,figsize=(10,7),title='corelation between features and labels')\n",
    "plt.show()"
   ]
  },
  {
   "cell_type": "code",
   "execution_count": null,
   "id": "72948705",
   "metadata": {},
   "outputs": [],
   "source": []
  },
  {
   "cell_type": "code",
   "execution_count": null,
   "id": "f879fd67",
   "metadata": {},
   "outputs": [],
   "source": [
    "# Checking relationship between independent and dependent variable:\n",
    "\n",
    "df_corr = df.corr().abs()\n",
    "plt.figure(figsize=(18,14))\n",
    "sns.heatmap(df_corr,annot=True,annot_kws={'size':10})\n",
    "plt.show()"
   ]
  },
  {
   "cell_type": "code",
   "execution_count": null,
   "id": "4effe64b",
   "metadata": {},
   "outputs": [],
   "source": [
    "# Checking relationship between independent and dependent variable:\n",
    "\n",
    "df_corr = grouped_sum_df.corr().abs()\n",
    "plt.figure(figsize=(18,14))\n",
    "sns.heatmap(df_corr,annot=True,annot_kws={'size':10})\n",
    "plt.show()"
   ]
  },
  {
   "cell_type": "code",
   "execution_count": null,
   "id": "50e91209",
   "metadata": {},
   "outputs": [],
   "source": [
    "# Checking skewness in data:\n",
    "\n",
    "df.skew().sort_values(ascending=False)"
   ]
  },
  {
   "cell_type": "code",
   "execution_count": null,
   "id": "499c06d5",
   "metadata": {},
   "outputs": [],
   "source": [
    "df['Country/Territory'].nunique()"
   ]
  },
  {
   "cell_type": "code",
   "execution_count": null,
   "id": "80d6c8ef",
   "metadata": {},
   "outputs": [],
   "source": [
    "df['Total number of deaths'] = df[diseases].sum(axis=1)"
   ]
  },
  {
   "cell_type": "code",
   "execution_count": null,
   "id": "8596a5ac",
   "metadata": {},
   "outputs": [],
   "source": [
    "# countries having most deaths:\n",
    "\n",
    "deathsbycountry = df.sort_values(by='Total number of deaths',ascending=False)[['Total number of deaths','Country/Territory']]"
   ]
  },
  {
   "cell_type": "code",
   "execution_count": null,
   "id": "325e7a4b",
   "metadata": {},
   "outputs": [],
   "source": [
    "pd.set_option('display.max_rows',None)\n",
    "deathsbycountry"
   ]
  },
  {
   "cell_type": "code",
   "execution_count": null,
   "id": "236a83ee",
   "metadata": {},
   "outputs": [],
   "source": [
    "deathsbycountry[0:10]"
   ]
  },
  {
   "cell_type": "code",
   "execution_count": null,
   "id": "692477b8",
   "metadata": {},
   "outputs": [],
   "source": [
    "# Country dfs"
   ]
  },
  {
   "cell_type": "code",
   "execution_count": null,
   "id": "38ac876a",
   "metadata": {},
   "outputs": [],
   "source": [
    "df_India = df[df['Country/Territory']=='India'].sort_values(by='Total number of deaths',ascending=False)"
   ]
  },
  {
   "cell_type": "code",
   "execution_count": null,
   "id": "db4ade26",
   "metadata": {},
   "outputs": [],
   "source": [
    "# Scatterplot\n",
    "\n",
    "for i in diseases:\n",
    "    plt.figure(figsize=(7,5),facecolor='red')\n",
    "    sns.scatterplot(x = 'Year', y = i, data = df_India)\n",
    "    plt.xticks(rotation=90)\n",
    "    plt.show()"
   ]
  },
  {
   "cell_type": "code",
   "execution_count": null,
   "id": "48f70680",
   "metadata": {},
   "outputs": [],
   "source": [
    "# barplot\n",
    "\n",
    "for i in diseases:\n",
    "    plt.figure(figsize=(7,5),facecolor='red')\n",
    "    sns.barplot(y = i,x='Year', data = df_china)\n",
    "    plt.xticks(rotation=90)\n",
    "    plt.show()"
   ]
  },
  {
   "cell_type": "code",
   "execution_count": null,
   "id": "d0ed4a3e",
   "metadata": {},
   "outputs": [],
   "source": [
    "# Russia\n",
    "\n",
    "df_russia = df[df['Country/Territory']=='Russia'].sort_values(by='Total number of deaths',ascending=False)\n",
    "\n",
    "# Scatterplot\n",
    "\n",
    "print('\\n\\n Scatterplot: ')\n",
    "\n",
    "for i in diseases:\n",
    "    plt.figure(figsize=(7,5),facecolor='red')\n",
    "    sns.scatterplot(x = 'Year', y = i, data = df_russia)\n",
    "    plt.xticks(rotation=90)\n",
    "    plt.show()\n",
    "     \n",
    "print('\\n\\nBarplot')\n",
    "    \n",
    "# Barplot\n",
    "\n",
    "for i in diseases:\n",
    "    plt.figure(figsize=(7,5),facecolor='red')\n",
    "    sns.barplot(y = i,x='Year', data = df_russia)\n",
    "    plt.xticks(rotation=90)\n",
    "    plt.show()"
   ]
  },
  {
   "cell_type": "code",
   "execution_count": null,
   "id": "c1943259",
   "metadata": {},
   "outputs": [],
   "source": [
    "# USA\n",
    "\n",
    "df_USA = df[df['Country/Territory']=='United States'].sort_values(by='Total number of deaths',ascending=False)\n",
    "\n",
    "# Scatterplot\n",
    "\n",
    "for i in diseases:\n",
    "    plt.figure(figsize=(7,5),facecolor='red')\n",
    "    sns.scatterplot(x = 'Year', y = i, data = df_USA)\n",
    "    plt.xticks(rotation=90)\n",
    "    plt.show()\n",
    "    \n",
    "print('\\n\\nBarplot')\n",
    "    \n",
    "# Barplot\n",
    "\n",
    "for i in diseases:\n",
    "    plt.figure(figsize=(7,5),facecolor='red')\n",
    "    sns.barplot(y = i,x='Year', data = df_USA)\n",
    "    plt.xticks(rotation=90)\n",
    "    plt.show()"
   ]
  },
  {
   "cell_type": "code",
   "execution_count": null,
   "id": "6662c3e2",
   "metadata": {},
   "outputs": [],
   "source": [
    "# China\n",
    "\n",
    "df_china = df[df['Country/Territory']=='China'].sort_values(by='Total number of deaths',ascending=False)"
   ]
  },
  {
   "cell_type": "code",
   "execution_count": null,
   "id": "51c347b8",
   "metadata": {},
   "outputs": [],
   "source": [
    "df_china"
   ]
  },
  {
   "cell_type": "code",
   "execution_count": null,
   "id": "f2c547c6",
   "metadata": {},
   "outputs": [],
   "source": [
    "# Scatterplot\n",
    "\n",
    "for i in diseases:\n",
    "    plt.figure(figsize=(7,5),facecolor='red')\n",
    "    sns.scatterplot(x = 'Year', y = i, data = df_china)\n",
    "    plt.xticks(rotation=90)\n",
    "    plt.show()"
   ]
  },
  {
   "cell_type": "code",
   "execution_count": null,
   "id": "2963c6be",
   "metadata": {},
   "outputs": [],
   "source": [
    "# Densityplot\n",
    "\n",
    "for i in diseases:\n",
    "    plt.figure(figsize=(7,5),facecolor='red')\n",
    "    sns.barplot(y = i,x='Year', data = df_china)\n",
    "    plt.xticks(rotation=90)\n",
    "    plt.show()"
   ]
  },
  {
   "cell_type": "code",
   "execution_count": null,
   "id": "86a16b9d",
   "metadata": {},
   "outputs": [],
   "source": [
    "# indonesia\n",
    "\n",
    "df_indonesia = df[df['Country/Territory']=='Indonesia'].sort_values(by='Total number of deaths',ascending=False)\n",
    "\n",
    "# Scatterplot\n",
    "\n",
    "print('\\n\\n Scatterplot: ')\n",
    "\n",
    "for i in diseases:\n",
    "    plt.figure(figsize=(7,5),facecolor='red')\n",
    "    sns.scatterplot(x = 'Year', y = i, data = df_indonesia)\n",
    "    plt.xticks(rotation=90)\n",
    "    plt.show()\n",
    "     \n",
    "print('\\n\\nBarplot')\n",
    "    \n",
    "# Barplot\n",
    "\n",
    "for i in diseases:\n",
    "    plt.figure(figsize=(7,5),facecolor='red')\n",
    "    sns.barplot(y = i,x='Year', data = df_indonesia)\n",
    "    plt.xticks(rotation=90)\n",
    "    plt.show()"
   ]
  },
  {
   "cell_type": "code",
   "execution_count": null,
   "id": "3e7a7dfe",
   "metadata": {},
   "outputs": [],
   "source": [
    "cause_of_deaths = ['Meningitis',\n",
    "       'Alzheimer\\'s Disease and Other Dementias', 'Parkinson\\'s Disease',\n",
    "       'Nutritional Deficiencies', 'Malaria', 'Drowning',\n",
    "       'Interpersonal Violence', 'Maternal Disorders', 'HIV/AIDS',\n",
    "       'Drug Use Disorders', 'Tuberculosis', 'Cardiovascular Diseases',\n",
    "       'Lower Respiratory Infections', 'Neonatal Disorders',\n",
    "       'Alcohol Use Disorders', 'Self-harm', 'Exposure to Forces of Nature',\n",
    "       'Diarrheal Diseases', 'Environmental Heat and Cold Exposure',\n",
    "       'Neoplasms', 'Conflict and Terrorism', 'Diabetes Mellitus',\n",
    "       'Chronic Kidney Disease', 'Poisonings', 'Protein-Energy Malnutrition',\n",
    "       'Road Injuries', 'Chronic Respiratory Diseases',\n",
    "       'Cirrhosis and Other Chronic Liver Diseases', 'Digestive Diseases',\n",
    "       'Fire, Heat, and Hot Substances', 'Acute Hepatitis']"
   ]
  },
  {
   "cell_type": "code",
   "execution_count": null,
   "id": "bb58549e",
   "metadata": {},
   "outputs": [],
   "source": [
    "df['Total deaths'] = df[cause_of_deaths].sum(axis=1)"
   ]
  },
  {
   "cell_type": "code",
   "execution_count": null,
   "id": "72a40e08",
   "metadata": {},
   "outputs": [],
   "source": [
    "df['Total deaths']"
   ]
  },
  {
   "cell_type": "code",
   "execution_count": null,
   "id": "9ce8714c",
   "metadata": {},
   "outputs": [],
   "source": [
    "# Top 10 Total_no_of_Deaths\n",
    "\n",
    "top10_Total_no_of_Deaths = df.sort_values(by='Total deaths',ascending=False)[:10][['Total deaths','Country/Territory']]\n",
    "\n",
    "top10_Total_no_of_Deaths"
   ]
  },
  {
   "cell_type": "code",
   "execution_count": null,
   "id": "5ad96af1",
   "metadata": {},
   "outputs": [],
   "source": [
    "cuz_of_death = df.groupby('Country/Territory').sum()"
   ]
  },
  {
   "cell_type": "code",
   "execution_count": null,
   "id": "74b6023d",
   "metadata": {},
   "outputs": [],
   "source": [
    "cuz_of_death.drop('Year',axis=1,inplace=True)"
   ]
  },
  {
   "cell_type": "code",
   "execution_count": null,
   "id": "edf31af3",
   "metadata": {},
   "outputs": [],
   "source": [
    "cuz_of_death.sort_values(by='Total deaths',ascending=False)"
   ]
  },
  {
   "cell_type": "code",
   "execution_count": null,
   "id": "f6457ebf",
   "metadata": {},
   "outputs": [],
   "source": [
    "#Top reasons of death countrywise:"
   ]
  },
  {
   "cell_type": "code",
   "execution_count": null,
   "id": "49bacdc1",
   "metadata": {},
   "outputs": [],
   "source": [
    "china_10 = cuz_of_death.sort_values(by='Total deaths',ascending =False)[:1]"
   ]
  },
  {
   "cell_type": "code",
   "execution_count": null,
   "id": "8429e332",
   "metadata": {},
   "outputs": [],
   "source": [
    "china_10.iloc[0].sort_values(ascending=False)[1:11]"
   ]
  },
  {
   "cell_type": "code",
   "execution_count": null,
   "id": "c6e92946",
   "metadata": {},
   "outputs": [],
   "source": [
    "plt.figure(figsize=(8,4),dpi=200)\n",
    "china_10.iloc[0].sort_values(ascending=False)[1:11].plot(kind='barh')\n",
    "plt.xlabel(\"Total no.of Deaths\")\n",
    "plt.ylabel(\"Causes of Deaths\")\n",
    "plt.title(\"Top 10 Causes of Deaths in China\")\n",
    "plt.show();"
   ]
  },
  {
   "cell_type": "code",
   "execution_count": null,
   "id": "345ed6c6",
   "metadata": {},
   "outputs": [],
   "source": [
    "India_10 = cuz_of_death.sort_values(by='Total deaths',ascending =False)[1:2]\n",
    "India_10.iloc[0].sort_values(ascending=False)[1:11]"
   ]
  },
  {
   "cell_type": "code",
   "execution_count": null,
   "id": "df0e0ec8",
   "metadata": {},
   "outputs": [],
   "source": [
    "plt.figure(figsize=(8,4),dpi=200)\n",
    "India_10.iloc[0].sort_values(ascending=False)[1:11].plot(kind='barh')\n",
    "plt.xlabel(\"Total no.of Deaths\")\n",
    "plt.ylabel(\"Causes of Deaths\")\n",
    "plt.title(\"Top 10 Causes of Deaths in India\")\n",
    "plt.show();"
   ]
  },
  {
   "cell_type": "code",
   "execution_count": null,
   "id": "3187b60f",
   "metadata": {},
   "outputs": [],
   "source": [
    "usa_10 = cuz_of_death.sort_values(by='Total deaths',ascending =False)[2:3]\n",
    "usa_10.iloc[0].sort_values(ascending=False)[1:11]"
   ]
  },
  {
   "cell_type": "code",
   "execution_count": null,
   "id": "d5d8a1d2",
   "metadata": {},
   "outputs": [],
   "source": [
    "plt.figure(figsize=(8,4),dpi=200)\n",
    "usa_10.iloc[0].sort_values(ascending=False)[1:11].plot(kind='barh')\n",
    "plt.xlabel(\"Total no.of Deaths\")\n",
    "plt.ylabel(\"Causes of Deaths\")\n",
    "plt.title(\"Top 10 Causes of Deaths in United States\")\n",
    "plt.show();"
   ]
  },
  {
   "cell_type": "code",
   "execution_count": null,
   "id": "35eaae05",
   "metadata": {},
   "outputs": [],
   "source": [
    "# PCA analysis:\n",
    "\n",
    "from sklearn.decomposition import PCA\n",
    "# Using PCA i.e. Principal Component Analysis that is a diamensionallity reduction technique:\n",
    "\n",
    "pca = PCA()\n",
    "pca.fit_transform(grouped_sum_df)"
   ]
  },
  {
   "cell_type": "code",
   "execution_count": null,
   "id": "e1cea563",
   "metadata": {},
   "outputs": [],
   "source": [
    "# Using Scree Plot to identify best components:\n",
    "\n",
    "plt.figure()\n",
    "plt.plot(np.cumsum(pca.explained_variance_ratio_))\n",
    "plt.xlabel('Principal Components')\n",
    "plt.ylabel('Variance Covered')\n",
    "plt.title('PCA')\n",
    "plt.show()"
   ]
  },
  {
   "cell_type": "code",
   "execution_count": null,
   "id": "d9360ab3",
   "metadata": {},
   "outputs": [],
   "source": []
  }
 ],
 "metadata": {
  "kernelspec": {
   "display_name": "Python 3 (ipykernel)",
   "language": "python",
   "name": "python3"
  },
  "language_info": {
   "codemirror_mode": {
    "name": "ipython",
    "version": 3
   },
   "file_extension": ".py",
   "mimetype": "text/x-python",
   "name": "python",
   "nbconvert_exporter": "python",
   "pygments_lexer": "ipython3",
   "version": "3.9.12"
  }
 },
 "nbformat": 4,
 "nbformat_minor": 5
}
