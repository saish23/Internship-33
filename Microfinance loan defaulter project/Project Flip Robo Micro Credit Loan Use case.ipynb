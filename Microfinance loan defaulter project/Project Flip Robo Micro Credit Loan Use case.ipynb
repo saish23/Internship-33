{
 "cells": [
  {
   "cell_type": "code",
   "execution_count": null,
   "id": "57be6359",
   "metadata": {},
   "outputs": [],
   "source": [
    "# Imp libs:\n",
    "import numpy as np\n",
    "import pandas as pd\n",
    "import matplotlib.pyplot as plt\n",
    "import seaborn as sns\n",
    "\n",
    "# Standardizing and Normalizing data:\n",
    "from sklearn.preprocessing import StandardScaler\n",
    "\n",
    "# Spliting data\n",
    "from sklearn.model_selection import train_test_split, GridSearchCV\n",
    "\n",
    "# Algorithms\n",
    "from sklearn import linear_model\n",
    "from sklearn.linear_model import LogisticRegression\n",
    "from sklearn.ensemble import RandomForestClassifier\n",
    "from sklearn.metrics import confusion_matrix\n",
    "import itertools\n",
    "from sklearn.linear_model import SGDClassifier\n",
    "from sklearn.tree import DecisionTreeClassifier\n",
    "from sklearn.neighbors import KNeighborsClassifier\n",
    "from sklearn.svm import SVC, LinearSVC\n",
    "from sklearn.naive_bayes import GaussianNB\n",
    "# Importing metrics\n",
    "from sklearn.metrics import accuracy_score,confusion_matrix,classification_report\n",
    "\n",
    "from statsmodels.stats.outliers_influence import variance_inflation_factor\n",
    "\n",
    "# Removing warnings\n",
    "import warnings\n",
    "warnings.filterwarnings('ignore')\n",
    "\n",
    "%matplotlib inline"
   ]
  },
  {
   "cell_type": "code",
   "execution_count": null,
   "id": "da4ccbe3",
   "metadata": {},
   "outputs": [],
   "source": [
    "df = pd.read_csv(r'C:\\Users\\Lenovo\\OneDrive\\Desktop\\Filp Robo worksheets and projects\\Micro Credit Project\\Data File.csv')"
   ]
  },
  {
   "cell_type": "code",
   "execution_count": null,
   "id": "28373fa1",
   "metadata": {},
   "outputs": [],
   "source": [
    "df"
   ]
  },
  {
   "cell_type": "code",
   "execution_count": null,
   "id": "214c1068",
   "metadata": {},
   "outputs": [],
   "source": [
    "df.columns"
   ]
  },
  {
   "cell_type": "code",
   "execution_count": null,
   "id": "e3254264",
   "metadata": {},
   "outputs": [],
   "source": [
    "print('First 10 rows')\n",
    "df.head(10)"
   ]
  },
  {
   "cell_type": "code",
   "execution_count": null,
   "id": "f8fb2310",
   "metadata": {},
   "outputs": [],
   "source": [
    "print('Last 10 rows')\n",
    "df.tail(10)"
   ]
  },
  {
   "cell_type": "code",
   "execution_count": null,
   "id": "def816eb",
   "metadata": {},
   "outputs": [],
   "source": [
    "df.shape"
   ]
  },
  {
   "cell_type": "code",
   "execution_count": null,
   "id": "a75009f9",
   "metadata": {},
   "outputs": [],
   "source": [
    "df.columns"
   ]
  },
  {
   "cell_type": "code",
   "execution_count": null,
   "id": "a044afbf",
   "metadata": {},
   "outputs": [],
   "source": [
    "df.dtypes"
   ]
  },
  {
   "cell_type": "code",
   "execution_count": null,
   "id": "c276dce4",
   "metadata": {},
   "outputs": [],
   "source": [
    "null_data = df.isnull().sum()\n",
    "null_data.sort_values(ascending=0)"
   ]
  },
  {
   "cell_type": "code",
   "execution_count": null,
   "id": "a5d10760",
   "metadata": {},
   "outputs": [],
   "source": [
    "df.drop(columns=['Unnamed: 0'],axis=0,inplace=True)"
   ]
  },
  {
   "cell_type": "code",
   "execution_count": null,
   "id": "a8c56444",
   "metadata": {},
   "outputs": [],
   "source": [
    "# Feature Engineering\n",
    "\n",
    "# spliting pdate into dd/mm/yy and changing dtype:\n",
    "\n",
    "date = []\n",
    "month = []\n",
    "year = []\n",
    "\n",
    "for i in df['pdate']:\n",
    "    year.append( i.split('-')[0])\n",
    "    \n",
    "for i in df['pdate']:\n",
    "    month.append( i.split('-')[1])\n",
    "\n",
    "for i in df['pdate']:\n",
    "    date.append( i.split('-')[2])\n",
    "        \n",
    "df['Date'] = date\n",
    "df['Month'] = month\n",
    "df['Year'] = year\n",
    "\n",
    "df['Date'] = df['Date'].astype('int64')\n",
    "df['Month'] = df['Month'].astype('int64')\n",
    "df['Year'] = df['Year'].astype('int64')\n",
    "\n",
    "df.drop(columns = ['pdate'],axis=0,inplace=True)"
   ]
  },
  {
   "cell_type": "code",
   "execution_count": null,
   "id": "7197ff21",
   "metadata": {},
   "outputs": [],
   "source": [
    "new_msisdn = []\n",
    "\n",
    "for i in df['msisdn']:\n",
    "    new_msisdn.append(i[0:5]+i[6:11])\n",
    "    \n",
    "df['msisdn'] = new_msisdn\n",
    "\n",
    "df['msisdn'] = df['msisdn'].astype('int64')"
   ]
  },
  {
   "cell_type": "code",
   "execution_count": null,
   "id": "d797f864",
   "metadata": {},
   "outputs": [],
   "source": [
    "new_cols = ['Flag indicating whether the user paid back the credit amount within 5 days of issuing the loan{1:success, 0:failure}',\n",
    "'mobile number of user',\n",
    "'age on cellular network in days',\n",
    "'Daily amount spent from main account, averaged over last 30 days (in Indonesian Rupiah)',\n",
    "'Daily amount spent from main account, averaged over last 90 days (in Indonesian Rupiah)',\n",
    "'Average main account balance over last 30 days',\n",
    "'Average main account balance over last 90 days',\n",
    "'Number of days till last recharge of main account',\n",
    "'Number of days till last recharge of data account',\n",
    "'Amount of last recharge of main account (in Indonesian Rupiah)',\n",
    "'Number of times main account got recharged in last 30 days',\n",
    "'Frequency of main account recharged in last 30 days',\n",
    "'Total amount of recharge in main account over last 30 days (in Indonesian Rupiah)',\n",
    "'Median of amount of recharges done in main account over last 30 days at user level (in Indonesian Rupiah)',\n",
    "'Median of main account balance just before recharge in last 30 days at user level (in Indonesian Rupiah)',\n",
    "'Number of times main account got recharged in last 90 days',\n",
    "'Frequency of main account recharged in last 90 days',\n",
    "'Total amount of recharge in main account over last 90 days (in Indonasian Rupiah)',\n",
    "'Median of amount of recharges done in main account over last 90 days at user level (in Indonasian Rupiah)',\n",
    "'Median of main account balance just before recharge in last 90 days at user level (in Indonasian Rupiah)',\n",
    "'Number of times data account got recharged in last 30 days',\n",
    "'Frequency of data account recharged in last 30 days',\n",
    "'Number of times data account got recharged in last 90 days',\n",
    "'Frequency of data account recharged in last 90 days',\n",
    "'Number of loans taken by user in last 30 days',\n",
    "'Total amount of loans taken by user in last 30 days',\n",
    "'maximum amount of loan taken by the user in last 30 days',\n",
    "'Median of amounts of loan taken by the user in last 30 days',\n",
    "'Number of loans taken by user in last 90 days',\n",
    "'Total amount of loans taken by user in last 90 days',\n",
    "'maximum amount of loan taken by the user in last 90 days',\n",
    "'Median of amounts of loan taken by the user in last 90 days',\n",
    "'Average payback time in days over last 30 days',\n",
    "'Average payback time in days over last 90 days',\n",
    "'telecom circle',\n",
    "'Date', 'Month', 'Year']\n",
    "\n",
    "df.columns = new_cols"
   ]
  },
  {
   "cell_type": "code",
   "execution_count": null,
   "id": "81408d65",
   "metadata": {},
   "outputs": [],
   "source": [
    "desc = df.describe().T\n",
    "desc['range']=desc['max']-desc['min']\n",
    "desc"
   ]
  },
  {
   "cell_type": "code",
   "execution_count": null,
   "id": "309e9ba0",
   "metadata": {},
   "outputs": [],
   "source": [
    "df.describe(include='object').T"
   ]
  },
  {
   "cell_type": "code",
   "execution_count": null,
   "id": "6b65adb2",
   "metadata": {},
   "outputs": [],
   "source": [
    "cont_data = df.select_dtypes(include=['int64','float64'])\n",
    "\n",
    "cat_data= df.select_dtypes(include=['object'])\n",
    "\n",
    "cont_columns = cont_data.columns\n",
    "\n",
    "cat_columns = cat_data.columns"
   ]
  },
  {
   "cell_type": "code",
   "execution_count": null,
   "id": "61140fa2",
   "metadata": {},
   "outputs": [],
   "source": [
    "cont_columns"
   ]
  },
  {
   "cell_type": "code",
   "execution_count": null,
   "id": "8a1044ed",
   "metadata": {},
   "outputs": [],
   "source": [
    "cat_columns"
   ]
  },
  {
   "cell_type": "code",
   "execution_count": null,
   "id": "5679c7ec",
   "metadata": {},
   "outputs": [],
   "source": [
    "\"\"\"from scipy import stats\n",
    "\n",
    "for i in cat_columns:\n",
    "    print('For',i,', most frequent value is: ',stats.mode(df[i]),'\\n')\"\"\""
   ]
  },
  {
   "cell_type": "code",
   "execution_count": null,
   "id": "c4524822",
   "metadata": {},
   "outputs": [],
   "source": [
    "for i in cat_columns:\n",
    "    print('For column',i,'unique values are: ',df[i].unique())\n",
    "    print('For column',i,'count of unique values are: ',df[i].nunique(),'\\n\\n')"
   ]
  },
  {
   "cell_type": "code",
   "execution_count": null,
   "id": "8df4c844",
   "metadata": {},
   "outputs": [],
   "source": [
    "for i in cat_columns:\n",
    "    print('For column --',i,'-- value counts are: \\n',df[i].value_counts(),'\\n\\n')"
   ]
  },
  {
   "cell_type": "code",
   "execution_count": null,
   "id": "b364b74a",
   "metadata": {
    "scrolled": false
   },
   "outputs": [],
   "source": [
    "df['Date'].value_counts()"
   ]
  },
  {
   "cell_type": "code",
   "execution_count": null,
   "id": "776cb864",
   "metadata": {},
   "outputs": [],
   "source": [
    "df['Month'].value_counts()"
   ]
  },
  {
   "cell_type": "code",
   "execution_count": null,
   "id": "9cfda7b9",
   "metadata": {},
   "outputs": [],
   "source": [
    "df['Year'].value_counts()"
   ]
  },
  {
   "cell_type": "code",
   "execution_count": null,
   "id": "54f5cbcc",
   "metadata": {},
   "outputs": [],
   "source": [
    "print(len(date))\n",
    "print(len(month))\n",
    "print(len(year))"
   ]
  },
  {
   "cell_type": "code",
   "execution_count": null,
   "id": "943ad81c",
   "metadata": {},
   "outputs": [],
   "source": [
    "df['mobile number of user'][0:5]"
   ]
  },
  {
   "cell_type": "code",
   "execution_count": null,
   "id": "09757cad",
   "metadata": {},
   "outputs": [],
   "source": [
    "df.dtypes"
   ]
  },
  {
   "cell_type": "code",
   "execution_count": null,
   "id": "0d554954",
   "metadata": {},
   "outputs": [],
   "source": [
    "df_success = df[df['Flag indicating whether the user paid back the credit amount within 5 days of issuing the loan{1:success, 0:failure}']==1]\n",
    "\n",
    "df_failure = df[df['Flag indicating whether the user paid back the credit amount within 5 days of issuing the loan{1:success, 0:failure}']==0]"
   ]
  },
  {
   "cell_type": "code",
   "execution_count": null,
   "id": "bb989d21",
   "metadata": {},
   "outputs": [],
   "source": [
    "df_success.head()"
   ]
  },
  {
   "cell_type": "code",
   "execution_count": null,
   "id": "57a530a7",
   "metadata": {},
   "outputs": [],
   "source": [
    "df_success.describe().T"
   ]
  },
  {
   "cell_type": "code",
   "execution_count": null,
   "id": "f758b708",
   "metadata": {},
   "outputs": [],
   "source": [
    "cont_data1 = df_success.select_dtypes(include=['int64','float64'])\n",
    "\n",
    "cat_data1= df_success.select_dtypes(include=['object'])\n",
    "\n",
    "cont_columns1 = cont_data1.columns\n",
    "\n",
    "cat_columns1 = cat_data1.columns"
   ]
  },
  {
   "cell_type": "code",
   "execution_count": null,
   "id": "ff446814",
   "metadata": {},
   "outputs": [],
   "source": [
    "for i in cont_columns1:\n",
    "    print('For column',i,'unique values are: ',df_success[i].unique())\n",
    "    print('For column',i,'count of unique values are: ',df_success[i].nunique(),'\\n\\n')"
   ]
  },
  {
   "cell_type": "code",
   "execution_count": null,
   "id": "3669e17f",
   "metadata": {},
   "outputs": [],
   "source": [
    "for i in cat_columns1:\n",
    "    print('For column --',i,'-- value counts are: \\n',df_success[i].value_counts(),'\\n\\n')"
   ]
  },
  {
   "cell_type": "code",
   "execution_count": null,
   "id": "702727c7",
   "metadata": {
    "scrolled": true
   },
   "outputs": [],
   "source": [
    "# Univariate analysis:\n",
    "\n",
    "# Histogram plot:\n",
    "\n",
    "for i in cont_columns1:\n",
    "    plt.figure(figsize=(10,6),facecolor='orange')\n",
    "    plt.hist(df_success[i],bins=10)\n",
    "    plt.xlabel(i)\n",
    "    plt.show()"
   ]
  },
  {
   "cell_type": "code",
   "execution_count": null,
   "id": "f41ccf5e",
   "metadata": {},
   "outputs": [],
   "source": [
    "# Densityplot\n",
    "\n",
    "for i in cont_columns1:\n",
    "    plt.figure(figsize=(10,6),facecolor='orange')\n",
    "    sns.kdeplot(df_success[i], shade=True)\n",
    "    plt.xlabel(i)\n",
    "    plt.show()"
   ]
  },
  {
   "cell_type": "code",
   "execution_count": null,
   "id": "5aa91885",
   "metadata": {},
   "outputs": [],
   "source": [
    "# Boxplots\n",
    "\n",
    "for i in cont_columns1:\n",
    "    plt.figure(figsize=(10,6),facecolor='orange')\n",
    "    sns.boxplot(df_success[i])\n",
    "    plt.xlabel(i)\n",
    "    plt.show()"
   ]
  },
  {
   "cell_type": "code",
   "execution_count": null,
   "id": "72d37746",
   "metadata": {
    "scrolled": true
   },
   "outputs": [],
   "source": [
    "# Distplot\n",
    "\n",
    "for i in cont_columns1:\n",
    "    plt.figure(figsize=(10,6),facecolor='orange')\n",
    "    sns.distplot(df_success[i])\n",
    "    plt.xlabel(i)\n",
    "    plt.show()"
   ]
  },
  {
   "cell_type": "code",
   "execution_count": null,
   "id": "1548e78f",
   "metadata": {},
   "outputs": [],
   "source": [
    "# Violinplot\n",
    "\n",
    "for i in cont_columns1:\n",
    "    plt.figure(figsize=(10,6),facecolor='skyblue')\n",
    "    sns.violinplot(df_success[i],showmedians=True)\n",
    "    plt.xlabel(i)\n",
    "    plt.show()"
   ]
  },
  {
   "cell_type": "code",
   "execution_count": null,
   "id": "7fd96273",
   "metadata": {
    "scrolled": true
   },
   "outputs": [],
   "source": [
    "# Scatterplot\n",
    "\n",
    "for i in cont_columns1:\n",
    "    plt.figure(figsize=(12,8))\n",
    "    sns.scatterplot(x = df_success.index, y = i, data = df_success)\n",
    "    plt.xticks(rotation=90)\n",
    "    plt.show()"
   ]
  },
  {
   "cell_type": "code",
   "execution_count": null,
   "id": "5a712004",
   "metadata": {
    "scrolled": true
   },
   "outputs": [],
   "source": [
    "# Lineplot\n",
    "\n",
    "for i in cont_columns1:\n",
    "    plt.figure(figsize=(12,8))\n",
    "    sns.lineplot(x = df_success.index, y = i, data = df_success)\n",
    "    plt.xticks(rotation=90)\n",
    "    plt.show()"
   ]
  },
  {
   "cell_type": "code",
   "execution_count": null,
   "id": "2188f4d1",
   "metadata": {
    "scrolled": true
   },
   "outputs": [],
   "source": [
    "# Stripplot\n",
    "\n",
    "for i in cont_columns1:\n",
    "    plt.figure(figsize=(12,8))\n",
    "    sns.stripplot(x = i, data = df_success)\n",
    "    plt.xticks(rotation=90)\n",
    "    plt.show()"
   ]
  },
  {
   "cell_type": "code",
   "execution_count": null,
   "id": "cf1e3701",
   "metadata": {},
   "outputs": [],
   "source": [
    "\"\"\"# SwarmPlot\n",
    "\n",
    "for i in cont_columns1:\n",
    "    plt.figure(figsize=(12,8))\n",
    "    sns.swarmplot(x = i, data = df_success)\n",
    "    plt.xticks(rotation=90)\n",
    "    plt.show()\"\"\""
   ]
  },
  {
   "cell_type": "code",
   "execution_count": null,
   "id": "8224d543",
   "metadata": {},
   "outputs": [],
   "source": [
    "# Now inspecting falure df"
   ]
  },
  {
   "cell_type": "code",
   "execution_count": null,
   "id": "c51e416c",
   "metadata": {
    "scrolled": true
   },
   "outputs": [],
   "source": [
    "df_failure.head()"
   ]
  },
  {
   "cell_type": "code",
   "execution_count": null,
   "id": "41aacf1f",
   "metadata": {},
   "outputs": [],
   "source": [
    "df_failure.describe().T"
   ]
  },
  {
   "cell_type": "code",
   "execution_count": null,
   "id": "13b7c729",
   "metadata": {},
   "outputs": [],
   "source": [
    "cont_data0 = df_failure.select_dtypes(include=['int64','float64'])\n",
    "\n",
    "cat_data0= df_failure.select_dtypes(include=['object'])\n",
    "\n",
    "cont_columns0 = cont_data0.columns\n",
    "\n",
    "cat_columns0 = cat_data0.columns"
   ]
  },
  {
   "cell_type": "code",
   "execution_count": null,
   "id": "3931bc7d",
   "metadata": {},
   "outputs": [],
   "source": [
    "for i in cont_columns0:\n",
    "    print('For column',i,'unique values are: ',df_failure[i].unique())\n",
    "    print('For column',i,'count of unique values are: ',df_failure[i].nunique(),'\\n\\n')"
   ]
  },
  {
   "cell_type": "code",
   "execution_count": null,
   "id": "00ccac65",
   "metadata": {},
   "outputs": [],
   "source": [
    "for i in cat_columns0:\n",
    "    print('For column --',i,'-- value counts are: \\n',df_failure[i].value_counts(),'\\n\\n')"
   ]
  },
  {
   "cell_type": "code",
   "execution_count": null,
   "id": "6af3c2cc",
   "metadata": {},
   "outputs": [],
   "source": [
    "# Univariate analysis:\n",
    "\n",
    "# Histogram plot:\n",
    "\n",
    "for i in cont_columns0:\n",
    "    plt.figure(figsize=(10,6),facecolor='orange')\n",
    "    plt.hist(df_failure[i],bins=10)\n",
    "    plt.xlabel(i)\n",
    "    plt.show()"
   ]
  },
  {
   "cell_type": "code",
   "execution_count": null,
   "id": "354be648",
   "metadata": {},
   "outputs": [],
   "source": [
    "# Densityplot\n",
    "\n",
    "for i in cont_columns0:\n",
    "    plt.figure(figsize=(10,6),facecolor='orange')\n",
    "    sns.kdeplot(df_failure[i], shade=True)\n",
    "    plt.xlabel(i)\n",
    "    plt.show()"
   ]
  },
  {
   "cell_type": "code",
   "execution_count": null,
   "id": "9ff1f78e",
   "metadata": {},
   "outputs": [],
   "source": [
    "# Boxplots\n",
    "\n",
    "for i in cont_columns0:\n",
    "    plt.figure(figsize=(10,6),facecolor='orange')\n",
    "    sns.boxplot(df_failure[i])\n",
    "    plt.xlabel(i)\n",
    "    plt.show()"
   ]
  },
  {
   "cell_type": "code",
   "execution_count": null,
   "id": "7d140bbb",
   "metadata": {
    "scrolled": true
   },
   "outputs": [],
   "source": [
    "# Distplot\n",
    "\n",
    "for i in cont_columns0:\n",
    "    plt.figure(figsize=(10,6),facecolor='orange')\n",
    "    sns.distplot(df_failure[i])\n",
    "    plt.xlabel(i)\n",
    "    plt.show()"
   ]
  },
  {
   "cell_type": "code",
   "execution_count": null,
   "id": "e87540c5",
   "metadata": {},
   "outputs": [],
   "source": [
    "# Violinplot\n",
    "\n",
    "for i in cont_columns0:\n",
    "    plt.figure(figsize=(10,6),facecolor='skyblue')\n",
    "    sns.violinplot(df_failure[i],showmedians=True)\n",
    "    plt.xlabel(i)\n",
    "    plt.show()"
   ]
  },
  {
   "cell_type": "code",
   "execution_count": null,
   "id": "92eaa242",
   "metadata": {},
   "outputs": [],
   "source": [
    "# Scatterplot\n",
    "\n",
    "for i in cont_columns0:\n",
    "    plt.figure(figsize=(12,8))\n",
    "    sns.scatterplot(x = df_failure.index, y = i, data = df_failure)\n",
    "    plt.xticks(rotation=90)\n",
    "    plt.show()"
   ]
  },
  {
   "cell_type": "code",
   "execution_count": null,
   "id": "27ad830c",
   "metadata": {},
   "outputs": [],
   "source": [
    "# Stripplot\n",
    "\n",
    "for i in cont_columns0:\n",
    "    plt.figure(figsize=(12,8))\n",
    "    sns.stripplot(x = i, data = df_failure)\n",
    "    plt.xticks(rotation=90)\n",
    "    plt.show()"
   ]
  },
  {
   "cell_type": "code",
   "execution_count": null,
   "id": "11d8c1b9",
   "metadata": {},
   "outputs": [],
   "source": [
    "# Now analysing complete dataset:"
   ]
  },
  {
   "cell_type": "code",
   "execution_count": null,
   "id": "d3af4679",
   "metadata": {
    "scrolled": true
   },
   "outputs": [],
   "source": [
    "# Histogram plot:\n",
    "\n",
    "for i in cont_columns:\n",
    "    plt.figure(figsize=(10,6),facecolor='orange')\n",
    "    plt.hist(df[i],bins=10)\n",
    "    plt.xlabel(i)\n",
    "    plt.show()"
   ]
  },
  {
   "cell_type": "code",
   "execution_count": null,
   "id": "96abf4ac",
   "metadata": {
    "scrolled": true
   },
   "outputs": [],
   "source": [
    "# Distplot\n",
    "\n",
    "for i in cont_columns:\n",
    "    plt.figure(figsize=(10,6),facecolor='orange')\n",
    "    sns.distplot(df[i])\n",
    "    plt.xlabel(i)\n",
    "    plt.show()"
   ]
  },
  {
   "cell_type": "code",
   "execution_count": null,
   "id": "7e8c922b",
   "metadata": {
    "scrolled": true
   },
   "outputs": [],
   "source": [
    "# Boxplots\n",
    "\n",
    "for i in cont_columns:\n",
    "    plt.figure(figsize=(10,6),facecolor='orange')\n",
    "    sns.boxplot(df[i])\n",
    "    plt.xlabel(i)\n",
    "    plt.show()"
   ]
  },
  {
   "cell_type": "code",
   "execution_count": null,
   "id": "bc548ef1",
   "metadata": {},
   "outputs": [],
   "source": [
    "# Bivariate analysis"
   ]
  },
  {
   "cell_type": "code",
   "execution_count": null,
   "id": "60d64c0f",
   "metadata": {},
   "outputs": [],
   "source": [
    "for i in cat_columns:\n",
    "    plt.figure(figsize=(12,50))\n",
    "    sns.catplot(x=i, kind=\"count\",hue = df.columns[0], data=df)\n",
    "    plt.xticks(rotation=90)\n",
    "    plt.show()"
   ]
  },
  {
   "cell_type": "code",
   "execution_count": null,
   "id": "1ca66e4a",
   "metadata": {},
   "outputs": [],
   "source": [
    "# Scatterplot\n",
    "\n",
    "for i in cont_columns:\n",
    "    plt.figure(figsize=(12,8))\n",
    "    sns.scatterplot(x = df.index,y=i, data = df,hue=df.columns[0])\n",
    "    plt.xticks(rotation=90)\n",
    "    plt.show()"
   ]
  },
  {
   "cell_type": "code",
   "execution_count": null,
   "id": "67c4b581",
   "metadata": {},
   "outputs": [],
   "source": [
    "# Boxplots"
   ]
  },
  {
   "cell_type": "code",
   "execution_count": null,
   "id": "5f5f2237",
   "metadata": {},
   "outputs": [],
   "source": [
    "plt.figure(figsize=(15,10))\n",
    "sns.boxplot(x = df['Month'], y = df['Average payback time in days over last 90 days'], data = df, hue = df.columns[0])"
   ]
  },
  {
   "cell_type": "code",
   "execution_count": null,
   "id": "10ac3132",
   "metadata": {},
   "outputs": [],
   "source": [
    "plt.figure(figsize=(15,10))\n",
    "sns.boxplot(x = df['Year'], y = df['Average payback time in days over last 90 days'], data = df, hue = df.columns[0])"
   ]
  },
  {
   "cell_type": "code",
   "execution_count": null,
   "id": "c28c8dbf",
   "metadata": {},
   "outputs": [],
   "source": [
    "plt.figure(figsize=(15,10))\n",
    "sns.boxplot(x = df['Date'], y = df['Average payback time in days over last 90 days'], data = df, hue = df.columns[0])"
   ]
  },
  {
   "cell_type": "code",
   "execution_count": null,
   "id": "fc750713",
   "metadata": {},
   "outputs": [],
   "source": [
    "# Grouped data analysis:"
   ]
  },
  {
   "cell_type": "code",
   "execution_count": null,
   "id": "58b6cbc6",
   "metadata": {},
   "outputs": [],
   "source": [
    "pd.set_option('display.max_rows', None)\n",
    "print(df.groupby(df.columns[0]).groups)"
   ]
  },
  {
   "cell_type": "code",
   "execution_count": null,
   "id": "ecd38d4d",
   "metadata": {},
   "outputs": [],
   "source": [
    "gk = df.groupby(df.columns[0])\n",
    "   \n",
    "# Let's print the first entries\n",
    "# in all the groups formed.\n",
    "gk.first().T"
   ]
  },
  {
   "cell_type": "code",
   "execution_count": null,
   "id": "aeb6c9d1",
   "metadata": {},
   "outputs": [],
   "source": []
  },
  {
   "cell_type": "code",
   "execution_count": null,
   "id": "b7e0011d",
   "metadata": {},
   "outputs": [],
   "source": []
  },
  {
   "cell_type": "code",
   "execution_count": null,
   "id": "70da8f06",
   "metadata": {
    "scrolled": false
   },
   "outputs": [],
   "source": [
    "pd.set_option('display.max_rows', None)\n",
    "df.groupby(df.columns[0]).mean().sort_values(by='age on cellular network in days',ascending=False).T"
   ]
  },
  {
   "cell_type": "code",
   "execution_count": null,
   "id": "590e4365",
   "metadata": {
    "scrolled": false
   },
   "outputs": [],
   "source": [
    "df.groupby(df.columns[0]).agg([np.mean,np.median]).T"
   ]
  },
  {
   "cell_type": "code",
   "execution_count": null,
   "id": "4ee928b6",
   "metadata": {
    "scrolled": false
   },
   "outputs": [],
   "source": [
    "df.columns  "
   ]
  },
  {
   "cell_type": "code",
   "execution_count": null,
   "id": "c5e26162",
   "metadata": {},
   "outputs": [],
   "source": [
    "df.skew().sort_values()"
   ]
  },
  {
   "cell_type": "code",
   "execution_count": null,
   "id": "2d793689",
   "metadata": {
    "scrolled": true
   },
   "outputs": [],
   "source": [
    "sns.pairplot(df,hue=df.columns[0])"
   ]
  },
  {
   "cell_type": "code",
   "execution_count": null,
   "id": "6b077712",
   "metadata": {
    "scrolled": false
   },
   "outputs": [],
   "source": [
    "# Correlation between features and label:\n",
    "\n",
    "# Replacing attrition column values:\n",
    "\n",
    "df.drop(columns = df.columns[0],axis = 1).corrwith(df[df.columns[0]]).plot(kind='bar',grid=True,figsize=(10,7),title='corelation between features and labels')\n",
    "plt.show()"
   ]
  },
  {
   "cell_type": "code",
   "execution_count": null,
   "id": "92183c29",
   "metadata": {
    "scrolled": true
   },
   "outputs": [],
   "source": [
    "df_corr = df.corr().abs()\n",
    "plt.figure(figsize=(25,22))\n",
    "sns.heatmap(df_corr,annot=True,annot_kws={'size':10})\n",
    "plt.show()"
   ]
  },
  {
   "cell_type": "code",
   "execution_count": null,
   "id": "a1d38d4b",
   "metadata": {},
   "outputs": [],
   "source": [
    "from statsmodels.stats.outliers_influence import variance_inflation_factor\n",
    "\n",
    "\n",
    "vif = pd.DataFrame()\n",
    "vif['vif'] = [variance_inflation_factor(df[cont_columns],i) for i in range(df[cont_columns].shape[1])]\n",
    "vif['features'] = df[cont_columns].columns\n",
    "vif.sort_values(by='vif',ascending=False)"
   ]
  },
  {
   "cell_type": "code",
   "execution_count": null,
   "id": "cd7d6d80",
   "metadata": {},
   "outputs": [],
   "source": [
    "x = vif.sort_values(by='vif',ascending=False).T\n",
    "x.columns"
   ]
  },
  {
   "cell_type": "code",
   "execution_count": null,
   "id": "39d93ce1",
   "metadata": {},
   "outputs": [],
   "source": [
    "hc_list = df.columns[[4,  3, 25, 24, 15, 17, 10,  6,  5, 12, 29,]]"
   ]
  },
  {
   "cell_type": "code",
   "execution_count": null,
   "id": "30cbd92b",
   "metadata": {},
   "outputs": [],
   "source": [
    "df.drop(columns = hc_list ,axis = 1, inplace=True)"
   ]
  },
  {
   "cell_type": "code",
   "execution_count": null,
   "id": "50de1384",
   "metadata": {},
   "outputs": [],
   "source": [
    "df1 = df.copy()"
   ]
  },
  {
   "cell_type": "code",
   "execution_count": null,
   "id": "5eb21038",
   "metadata": {},
   "outputs": [],
   "source": [
    "df"
   ]
  },
  {
   "cell_type": "code",
   "execution_count": null,
   "id": "7174d1fe",
   "metadata": {},
   "outputs": [],
   "source": [
    "# Splitting data into features and label:\n",
    "\n",
    "y = df1[df1.columns[0]]\n",
    "X = df1.drop(df1.columns[0],axis=1)"
   ]
  },
  {
   "cell_type": "code",
   "execution_count": null,
   "id": "71af0c57",
   "metadata": {},
   "outputs": [],
   "source": [
    "y"
   ]
  },
  {
   "cell_type": "code",
   "execution_count": null,
   "id": "997414db",
   "metadata": {},
   "outputs": [],
   "source": [
    "X_Dums = pd.get_dummies(X)"
   ]
  },
  {
   "cell_type": "code",
   "execution_count": null,
   "id": "e45b3c8b",
   "metadata": {},
   "outputs": [],
   "source": [
    "from sklearn.preprocessing import PowerTransformer\n",
    "\n",
    "pt = PowerTransformer()\n",
    "\n",
    "X_trans = pt.fit_transform(X_Dums)"
   ]
  },
  {
   "cell_type": "code",
   "execution_count": null,
   "id": "68be0b4a",
   "metadata": {},
   "outputs": [],
   "source": [
    "from sklearn.decomposition import PCA\n",
    "# Using PCA i.e. Principal Component Analysis that is a diamensionallity reduction technique:\n",
    "\n",
    "pcaf = PCA()\n",
    "pcaf.fit_transform(X_trans)"
   ]
  },
  {
   "cell_type": "code",
   "execution_count": null,
   "id": "09ff3d1a",
   "metadata": {},
   "outputs": [],
   "source": [
    "# Using Scree Plot to identify best components:\n",
    "\n",
    "plt.figure()\n",
    "plt.plot(np.cumsum(pcaf.explained_variance_ratio_))\n",
    "plt.xlabel('Principal Components')\n",
    "plt.ylabel('Variance Covered')\n",
    "plt.title('PCA')\n",
    "plt.show()\n"
   ]
  },
  {
   "cell_type": "code",
   "execution_count": null,
   "id": "4f64137f",
   "metadata": {},
   "outputs": [],
   "source": [
    "from sklearn.decomposition import PCA\n",
    "\n",
    "pcaf = PCA(n_components=25)\n",
    "new_pcompf = pcaf.fit_transform(X_trans)\n",
    "princi_compf = pd.DataFrame(new_pcompf)\n",
    "princi_compf"
   ]
  },
  {
   "cell_type": "code",
   "execution_count": null,
   "id": "106049c8",
   "metadata": {},
   "outputs": [],
   "source": [
    "# Splitting our data to training data and testing data\n",
    "# x_train,x_test,y_train,y_test\n",
    "\n",
    "X_train,X_test,y_train,y_test = train_test_split(princi_compf,y,test_size=0.20,random_state=1)\n",
    "\n",
    "# Here we are keeping training data as our scalled data and testing data as our label or target."
   ]
  },
  {
   "cell_type": "code",
   "execution_count": null,
   "id": "fc722d19",
   "metadata": {},
   "outputs": [],
   "source": [
    "from imblearn.over_sampling import SMOTE\n",
    "\n",
    "print(\"Before OverSampling, counts of label '1': {}\".format(sum(y_train==1)))\n",
    "print(\"Before OverSampling, counts of label '0': {} \\n\".format(sum(y_train==0)))\n",
    "\n",
    "sm = SMOTE(random_state=2)\n",
    "X_train_res, y_train_res = sm.fit_resample(X_train, y_train.ravel())\n",
    "\n",
    "print('After OverSampling, the shape of train_X: {}'.format(X_train_res.shape))\n",
    "print('After OverSampling, the shape of train_y: {} \\n'.format(y_train_res.shape))\n",
    "\n",
    "print(\"After OverSampling, counts of label '1': {}\".format(sum(y_train_res==1)))\n",
    "print(\"After OverSampling, counts of label '0': {}\".format(sum(y_train_res==0)))"
   ]
  },
  {
   "cell_type": "code",
   "execution_count": null,
   "id": "accc67a9",
   "metadata": {},
   "outputs": [],
   "source": [
    "arr = np.array(y_train_res)\n",
    "\n",
    "un, co = np.unique(arr,return_counts=True)\n",
    "\n",
    "dict(zip(un,co))"
   ]
  },
  {
   "cell_type": "code",
   "execution_count": null,
   "id": "15359778",
   "metadata": {},
   "outputs": [],
   "source": [
    "# Logistic Regression: in case of oversampling\n",
    "\n",
    "log_reg = LogisticRegression(random_state=1)\n",
    "\n",
    "log_reg.fit(X_train_res,y_train_res) \n",
    "\n",
    "pred_train = log_reg.predict(X_train_res)\n",
    "\n",
    "y_pred = log_reg.predict(X_test)\n",
    "\n",
    "acc = accuracy_score(y_test,y_pred)\n",
    "\n",
    "print('Training accuracy: ', accuracy_score(y_train_res,pred_train)*100)\n",
    "print('Testing accuracy: ', acc*100)\n",
    "\n",
    "confusion_mat = confusion_matrix(y_test,y_pred)\n",
    "\n",
    "print('Confusion matrix: \\n',confusion_mat)\n",
    "\n",
    "clr = classification_report(y_test,y_pred)\n",
    "\n",
    "print('classification report: ' ,clr)"
   ]
  },
  {
   "cell_type": "code",
   "execution_count": null,
   "id": "5eea91d7",
   "metadata": {},
   "outputs": [],
   "source": [
    "param_grid = [    \n",
    "    {'penalty' : ['l1', 'l2'],\n",
    "    'C' : np.logspace(-4, 4, 20),\n",
    "    'max_iter' : [100, 1000,2500, 5000]\n",
    "    }\n",
    "]\n",
    "\n",
    "from sklearn.model_selection import GridSearchCV\n",
    "\n",
    "clf = GridSearchCV(log_reg, param_grid = param_grid, cv = 3, verbose=True, n_jobs=-1)\n",
    "\n",
    "best_clf = clf.fit(X_train_res,y_train_res)"
   ]
  },
  {
   "cell_type": "code",
   "execution_count": null,
   "id": "7d2cf4db",
   "metadata": {},
   "outputs": [],
   "source": [
    "best_clf.best_estimator_"
   ]
  },
  {
   "cell_type": "code",
   "execution_count": null,
   "id": "6c98659c",
   "metadata": {},
   "outputs": [],
   "source": [
    "# Logistic Regression: in case of oversampling\n",
    "\n",
    "log_reg = LogisticRegression(C=0.0001, random_state=1)\n",
    "\n",
    "log_reg.fit(X_train_res,y_train_res) \n",
    "\n",
    "pred_train = log_reg.predict(X_train_res)\n",
    "\n",
    "y_pred = log_reg.predict(X_test)\n",
    "\n",
    "acc = accuracy_score(y_test,y_pred)\n",
    "\n",
    "print('Training accuracy: ', accuracy_score(y_train_res,pred_train)*100)\n",
    "print('Testing accuracy: ', acc*100)\n",
    "\n",
    "confusion_mat = confusion_matrix(y_test,y_pred)\n",
    "\n",
    "print('Confusion matrix: \\n',confusion_mat)\n",
    "\n",
    "clr = classification_report(y_test,y_pred)\n",
    "\n",
    "print('classification report: ' ,clr)"
   ]
  },
  {
   "cell_type": "code",
   "execution_count": null,
   "id": "c259851e",
   "metadata": {},
   "outputs": [],
   "source": [
    "# Decision Tree Classifier:\n",
    "\n",
    "dtc = DecisionTreeClassifier(random_state=1)\n",
    "dtc.fit(X_train_res,y_train_res) \n",
    "pred_train_dtc = dtc.predict(X_train_res)\n",
    "y_pred = dtc.predict(X_test)\n",
    "acc = accuracy_score(y_test,y_pred)\n",
    "print('Training accuracy: ', accuracy_score(y_train_res,pred_train_dtc)*100)\n",
    "print('Testing accuracy: ', acc*100)\n",
    "confusion_mat = confusion_matrix(y_test,y_pred)\n",
    "print('Confusion matrix: \\n',confusion_mat)\n",
    "clr = classification_report(y_test,y_pred)\n",
    "print('classification report: ' ,clr)"
   ]
  },
  {
   "cell_type": "code",
   "execution_count": null,
   "id": "e9851e5c",
   "metadata": {},
   "outputs": [],
   "source": [
    "params1 = {'max_depth': [2, 3, 5, 10, 20],\n",
    "    'min_samples_leaf': [5, 10, 20, 50, 100],\n",
    "    'criterion': [\"gini\", \"entropy\"]\n",
    "}\n",
    "\n",
    "grid1 = GridSearchCV(estimator=dtc,param_grid=params1,cv=4, n_jobs=-1, verbose=1, scoring = \"f1\")\n",
    "\n",
    "grid1.fit(X_train_res,y_train_res) "
   ]
  },
  {
   "cell_type": "code",
   "execution_count": null,
   "id": "f52c066a",
   "metadata": {},
   "outputs": [],
   "source": [
    "pred_train_dtc = grid1.predict(X_train_res)\n",
    "y_pred = grid1.predict(X_test)\n",
    "acc = accuracy_score(y_test,y_pred)\n",
    "print('Training accuracy: ', accuracy_score(y_train_res,pred_train_dtc)*100)\n",
    "print('Testing accuracy: ', acc*100)\n",
    "confusion_mat = confusion_matrix(y_test,y_pred)\n",
    "print('Confusion matrix: \\n',confusion_mat)\n",
    "clr = classification_report(y_test,y_pred)\n",
    "print('classification report: ' ,clr)"
   ]
  },
  {
   "cell_type": "code",
   "execution_count": null,
   "id": "e2240c5d",
   "metadata": {},
   "outputs": [],
   "source": []
  },
  {
   "cell_type": "code",
   "execution_count": null,
   "id": "77a8ecb2",
   "metadata": {},
   "outputs": [],
   "source": [
    "grid2 = GridSearchCV(estimator=dtc, \n",
    "                           param_grid=params1, \n",
    "                           cv=4, n_jobs=-1, verbose=1, scoring = \"accuracy\")\n",
    "\n",
    "grid2.fit(X_train_miss,y_train_miss)"
   ]
  },
  {
   "cell_type": "code",
   "execution_count": null,
   "id": "50ad96b2",
   "metadata": {},
   "outputs": [],
   "source": []
  },
  {
   "cell_type": "code",
   "execution_count": null,
   "id": "0b8963be",
   "metadata": {},
   "outputs": [],
   "source": []
  },
  {
   "cell_type": "code",
   "execution_count": null,
   "id": "851fd1c2",
   "metadata": {},
   "outputs": [],
   "source": [
    "# Random forrest classifier model:\n",
    "\n",
    "rfc_f = RandomForestClassifier()\n"
   ]
  },
  {
   "cell_type": "code",
   "execution_count": null,
   "id": "c22afe82",
   "metadata": {},
   "outputs": [],
   "source": [
    "rfc_f.fit(X_train_res,y_train_res) \n"
   ]
  },
  {
   "cell_type": "code",
   "execution_count": null,
   "id": "33f3ab64",
   "metadata": {},
   "outputs": [],
   "source": [
    "pred_train_rfc_f = rfc_f.predict(X_train_res)\n",
    "y_pred = rfc_f.predict(X_test)\n",
    "acc = accuracy_score(y_test,y_pred)\n",
    "print('Training accuracy: ', accuracy_score(y_train_res,pred_train_rfc_f)*100)\n",
    "print('Testing accuracy: ', acc*100)\n",
    "confusion_mat = confusion_matrix(y_test,y_pred)\n",
    "print('Confusion matrix: \\n',confusion_mat)\n",
    "clr = classification_report(y_test,y_pred)\n",
    "print('classification report: ' ,clr)"
   ]
  },
  {
   "cell_type": "code",
   "execution_count": null,
   "id": "b9aefa9b",
   "metadata": {},
   "outputs": [],
   "source": [
    "# Tuning parameters using GridSearchCV:\n",
    "\n",
    "params = {'n_estimators':[13,15],\n",
    "          'criterion':['gini','entropy'],\n",
    "          'max_depth':[10,15],\n",
    "          'min_samples_split':[10,11],\n",
    "          'min_samples_leaf':[5,6]}\n",
    "\n",
    "grd = GridSearchCV(rfc_f,param_grid=params)\n",
    "\n",
    "grd.fit(X_train_res,y_train_res)"
   ]
  },
  {
   "cell_type": "code",
   "execution_count": null,
   "id": "051fe4ba",
   "metadata": {},
   "outputs": [],
   "source": [
    "# Reinstantiating:\n",
    "\n",
    "random_clf = RandomForestClassifier(n_estimators=25,criterion='gini',max_depth=10,\n",
    "                                    min_samples_split=10,min_samples_leaf=10)\n",
    "\n",
    "random_clf.fit(X_train_res,y_train_res)"
   ]
  },
  {
   "cell_type": "code",
   "execution_count": null,
   "id": "b6bc1674",
   "metadata": {},
   "outputs": [],
   "source": [
    "pred_train_rfc_f = random_clf.predict(X_train_res)\n",
    "y_pred = random_clf.predict(X_test)\n",
    "acc = accuracy_score(y_test,y_pred)\n",
    "print('Training accuracy: ', accuracy_score(y_train_res,pred_train_rfc_f)*100)\n",
    "print('Testing accuracy: ', acc*100)\n",
    "confusion_mat = confusion_matrix(y_test,y_pred)\n",
    "print('Confusion matrix: \\n',confusion_mat)\n",
    "clr = classification_report(y_test,y_pred)\n",
    "print('classification report: ' ,clr)"
   ]
  },
  {
   "cell_type": "code",
   "execution_count": null,
   "id": "c60bedea",
   "metadata": {},
   "outputs": [],
   "source": [
    "# Using best parameters for improved score:\n",
    "\n",
    "svc = SVC()\n",
    "\n",
    "svc.fit(X_train_res,y_train_res)\n",
    "\n",
    "pred_train_svc = svc.predict(X_train_res)\n",
    "y_pred = svc.predict(X_test)\n",
    "acc = accuracy_score(y_test,y_pred)\n",
    "print('Training accuracy: ', accuracy_score(y_train_res,pred_train_svc)*100)\n",
    "print('Testing accuracy: ', acc*100)\n",
    "confusion_mat = confusion_matrix(y_test,y_pred)\n",
    "print('Confusion matrix: \\n',confusion_mat)\n",
    "clr = classification_report(y_test,y_pred)\n",
    "print('classification report: ' ,clr)"
   ]
  },
  {
   "cell_type": "code",
   "execution_count": null,
   "id": "f2825190",
   "metadata": {},
   "outputs": [],
   "source": [
    "# KNN classifier:\n",
    "\n",
    "knn = KNeighborsClassifier()\n",
    "knn.fit(X_train_res,y_train_res) \n",
    "pred_train_knn = knn.predict(X_train_res)\n",
    "y_pred = knn.predict(X_test)\n",
    "acc = accuracy_score(y_test,y_pred)\n",
    "print('Training accuracy: ', accuracy_score(y_train_res,pred_train_knn)*100)\n",
    "print('Testing accuracy: ', acc*100)"
   ]
  },
  {
   "cell_type": "code",
   "execution_count": null,
   "id": "82f4de44",
   "metadata": {},
   "outputs": [],
   "source": [
    "from sklearn.ensemble import GradientBoostingClassifier\n",
    "\n",
    "# GBC\n",
    "\n",
    "gbdt_clf = GradientBoostingClassifier(random_state=1)\n",
    "gbdt_clf.fit(X_train_res,y_train_res) \n",
    "pred_train_gbdt_clf = gbdt_clf.predict(X_train_res)\n",
    "y_pred = gbdt_clf.predict(X_test)\n",
    "acc = accuracy_score(y_test,y_pred)\n",
    "print('Training accuracy: ', accuracy_score(y_train_res,pred_train_gbdt_clf)*100)\n",
    "print('Testing accuracy: ', acc*100)\n",
    "confusion_mat = confusion_matrix(y_test,y_pred)\n",
    "print('Confusion matrix: \\n',confusion_mat)\n",
    "clr = classification_report(y_test,y_pred)\n",
    "print('classification report: ' ,clr)"
   ]
  },
  {
   "cell_type": "code",
   "execution_count": null,
   "id": "db8e8c5b",
   "metadata": {},
   "outputs": [],
   "source": [
    "# ADA model:\n",
    "from sklearn.ensemble import AdaBoostClassifier\n",
    "\n",
    "ada = AdaBoostClassifier()\n",
    "ada.fit(X_train_res,y_train_res)\n",
    "yb_pred = ada.predict(X_test)\n",
    "pred_train_ada = ada.predict(X_train_res)\n",
    "y_pred = ada.predict(X_test)\n",
    "acc = accuracy_score(y_test,y_pred)\n",
    "print('Training accuracy: ', accuracy_score(y_train_res,pred_train_ada)*100)\n",
    "print('Testing accuracy: ', acc*100)\n",
    "confusion_mat = confusion_matrix(y_test,y_pred)\n",
    "print('Confusion matrix: \\n',confusion_mat)\n",
    "clr = classification_report(y_test,y_pred)\n",
    "print('classification report: ' ,clr)"
   ]
  },
  {
   "cell_type": "code",
   "execution_count": null,
   "id": "86f79726",
   "metadata": {},
   "outputs": [],
   "source": [
    "# training a Naive Bayes classifier\n",
    "from sklearn.naive_bayes import GaussianNB\n",
    "gnb = GaussianNB().fit(X_train_res, y_train_res)\n",
    "gnb_predictions = gnb.predict(X_test)\n",
    "  \n",
    "# accuracy on X_test\n",
    "accuracy = gnb.score(X_test, y_test)\n",
    "print(accuracy)"
   ]
  },
  {
   "cell_type": "code",
   "execution_count": null,
   "id": "e592b301",
   "metadata": {},
   "outputs": [],
   "source": [
    "# Lets plot ROC AUC curve to choose best model:\n",
    "\n",
    "from sklearn.metrics import roc_curve,roc_auc_score\n",
    "from sklearn.metrics import plot_roc_curve"
   ]
  },
  {
   "cell_type": "code",
   "execution_count": null,
   "id": "f85a1f54",
   "metadata": {},
   "outputs": [],
   "source": [
    "disp = plot_roc_curve(rfc_f,X_train_res,y_train_res)\n"
   ]
  },
  {
   "cell_type": "code",
   "execution_count": null,
   "id": "9236d320",
   "metadata": {},
   "outputs": [],
   "source": [
    "disp = plot_roc_curve(rfc_f,X_test,y_test)"
   ]
  },
  {
   "cell_type": "code",
   "execution_count": null,
   "id": "11c0f14c",
   "metadata": {},
   "outputs": [],
   "source": [
    "disp = plot_roc_curve(gbdt_clf,X_train_res,y_train_res)"
   ]
  },
  {
   "cell_type": "code",
   "execution_count": null,
   "id": "843dde3f",
   "metadata": {},
   "outputs": [],
   "source": [
    "disp = plot_roc_curve(gbdt_clf,X_test,y_test)"
   ]
  },
  {
   "cell_type": "code",
   "execution_count": null,
   "id": "ba84f684",
   "metadata": {},
   "outputs": [],
   "source": [
    "# Lets check ROC AUC Curve for fitted models on training data: (True +ive Rate/False +ive Rate)\n",
    "\n",
    "disp = plot_roc_curve(dtc,X_train_res,y_train_res)\n",
    "\n",
    "plot_roc_curve(knn,X_train_res,y_train_res,ax=disp.ax_)\n",
    "\n",
    "plot_roc_curve(log_reg_best,X_train_res,y_train_res,ax=disp.ax_)\n",
    "\n",
    "plot_roc_curve(svc,X_train_res,y_train_res,ax=disp.ax_)\n",
    "\n",
    "plot_roc_curve(rfc_f,X_train_res,y_train_res,ax=disp.ax_)\n",
    "\n",
    "plot_roc_curve(ada_boosted,X_train_res,y_train_res,ax=disp.ax_)\n",
    "\n",
    "plot_roc_curve(gbdt_clf_f,X_train_res,y_train_res,ax=disp.ax_)\n",
    "\n",
    "plt.legend(prop={'size':10},loc='lower right')\n",
    "\n",
    "plt.show()\n",
    "\n",
    "# This result is on training data."
   ]
  },
  {
   "cell_type": "code",
   "execution_count": null,
   "id": "13d9b44e",
   "metadata": {},
   "outputs": [],
   "source": [
    "# Lets check ROC AUC Curve for fitted models on testing data: (True +ive Rate/False +ive Rate)\n",
    "\n",
    "disp = plot_roc_curve(dtc,X_test,y_test)\n",
    "\n",
    "plot_roc_curve(knn,X_test,y_test,ax=disp.ax_)\n",
    "\n",
    "plot_roc_curve(log_reg_best,X_test,y_test,ax=disp.ax_)\n",
    "\n",
    "plot_roc_curve(svc,X_test,y_test,ax=disp.ax_)\n",
    "\n",
    "plot_roc_curve(rfc_f,X_test,y_test,ax=disp.ax_)\n",
    "\n",
    "plot_roc_curve(ada_boosted,X_test,y_test,ax=disp.ax_)\n",
    "\n",
    "plot_roc_curve(gbdt_clf_f,X_test,y_test,ax=disp.ax_)\n",
    "\n",
    "plt.legend(prop={'size':10},loc='lower right')\n",
    "\n",
    "plt.show()\n",
    "\n",
    "# This result is on training data."
   ]
  },
  {
   "cell_type": "code",
   "execution_count": null,
   "id": "acea17ee",
   "metadata": {},
   "outputs": [],
   "source": [
    "# Creating pipeline:\n",
    "\n",
    "from sklearn.pipeline import Pipeline\n",
    "\n",
    "pipe1 = Pipeline([('pt',PowerTransformer()),\n",
    "                  ('pca',PCA(n_components=975)),('base_model1',LogisticRegression(C=1438.44988828766, random_state=1))])\n",
    "\n",
    "pipe1.fit(X_train_res,y_train_res)\n",
    "\n",
    "y_pred = pipe1.predict(X_test)\n",
    "\n",
    "print('Training accuracy: ', accuracy_score(y_train_res,pred_train)*100)\n",
    "print('Testing accuracy: ', acc*100)\n",
    "\n",
    "confusion_mat = confusion_matrix(y_test,y_pred)\n",
    "\n",
    "print('Confusion matrix: \\n',confusion_mat)\n",
    "\n",
    "clr = classification_report(y_test,y_pred)\n",
    "\n",
    "print('classification report: ' ,clr)\n",
    "\n",
    "# Saving regression model to pickle string\n",
    "\n",
    "import pickle \n",
    "saved_model1 = pickle.dumps(pipe1) \n",
    "pipe_pickle1 = pickle.loads(saved_model1)\n",
    "pipe_pickle1.predict(X_test) # predicting testing data\n",
    "\n"
   ]
  }
 ],
 "metadata": {
  "kernelspec": {
   "display_name": "Python 3 (ipykernel)",
   "language": "python",
   "name": "python3"
  },
  "language_info": {
   "codemirror_mode": {
    "name": "ipython",
    "version": 3
   },
   "file_extension": ".py",
   "mimetype": "text/x-python",
   "name": "python",
   "nbconvert_exporter": "python",
   "pygments_lexer": "ipython3",
   "version": "3.9.12"
  }
 },
 "nbformat": 4,
 "nbformat_minor": 5
}
