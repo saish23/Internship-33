{
 "cells": [
  {
   "cell_type": "code",
   "execution_count": null,
   "id": "40139df4",
   "metadata": {},
   "outputs": [],
   "source": [
    "# Imp libs:\n",
    "import numpy as np\n",
    "import pandas as pd\n",
    "import matplotlib.pyplot as plt\n",
    "import seaborn as sns\n",
    "\n",
    "from statsmodels.stats.outliers_influence import variance_inflation_factor\n",
    "\n",
    "# Standardizing and Normalizing data:\n",
    "from sklearn.preprocessing import StandardScaler\n",
    "\n",
    "from sklearn.linear_model import LinearRegression\n",
    "import xgboost as xgb\n",
    "\n",
    "# Spliting data\n",
    "from sklearn.model_selection import train_test_split,GridSearchCV\n",
    "\n",
    "# Importing metrics\n",
    "from sklearn import metrics\n",
    "from sklearn.metrics import r2_score,mean_squared_error\n",
    "\n",
    "# Removing warnings\n",
    "import warnings\n",
    "warnings.filterwarnings('ignore')\n",
    "\n",
    "%matplotlib inline"
   ]
  },
  {
   "cell_type": "code",
   "execution_count": null,
   "id": "b8b647dd",
   "metadata": {},
   "outputs": [],
   "source": [
    "file_loc = r'C:\\Users\\Lenovo\\OneDrive\\Desktop\\Filp Robo worksheets and projects\\Black_Friday Project\\blackFriday_train.csv'\n",
    "df = pd.read_csv(file_loc)"
   ]
  },
  {
   "cell_type": "code",
   "execution_count": null,
   "id": "11bc4f7a",
   "metadata": {},
   "outputs": [],
   "source": [
    "df"
   ]
  },
  {
   "cell_type": "code",
   "execution_count": null,
   "id": "a17e8005",
   "metadata": {},
   "outputs": [],
   "source": [
    "print('First 10 rows')\n",
    "df.head(10)"
   ]
  },
  {
   "cell_type": "code",
   "execution_count": null,
   "id": "882ba81b",
   "metadata": {},
   "outputs": [],
   "source": [
    "print('Last 10 rows')\n",
    "df.tail(10)"
   ]
  },
  {
   "cell_type": "code",
   "execution_count": null,
   "id": "aaf616a0",
   "metadata": {},
   "outputs": [],
   "source": [
    "sns.countplot(df.duplicated())"
   ]
  },
  {
   "cell_type": "code",
   "execution_count": null,
   "id": "8a3f0fd9",
   "metadata": {},
   "outputs": [],
   "source": [
    "df.shape"
   ]
  },
  {
   "cell_type": "code",
   "execution_count": null,
   "id": "44becbd8",
   "metadata": {},
   "outputs": [],
   "source": [
    "df.columns"
   ]
  },
  {
   "cell_type": "code",
   "execution_count": null,
   "id": "4bc61b60",
   "metadata": {},
   "outputs": [],
   "source": [
    "df.dtypes"
   ]
  },
  {
   "cell_type": "code",
   "execution_count": null,
   "id": "825bc2f6",
   "metadata": {},
   "outputs": [],
   "source": [
    "null_data = df.isnull().sum()\n",
    "null_data.sort_values(ascending=0)"
   ]
  },
  {
   "cell_type": "code",
   "execution_count": null,
   "id": "96d07f59",
   "metadata": {},
   "outputs": [],
   "source": [
    "null_data = null_data/550068*100"
   ]
  },
  {
   "cell_type": "code",
   "execution_count": null,
   "id": "62b2ffbe",
   "metadata": {},
   "outputs": [],
   "source": [
    "null_data.sort_values(ascending=0)"
   ]
  },
  {
   "cell_type": "code",
   "execution_count": null,
   "id": "71000a10",
   "metadata": {},
   "outputs": [],
   "source": [
    "desc = df.describe().T\n",
    "desc['range']=desc['max']-desc['min']\n",
    "desc"
   ]
  },
  {
   "cell_type": "code",
   "execution_count": null,
   "id": "4ccb507f",
   "metadata": {},
   "outputs": [],
   "source": [
    "df.describe(include='object').T"
   ]
  },
  {
   "cell_type": "code",
   "execution_count": null,
   "id": "7df672b7",
   "metadata": {},
   "outputs": [],
   "source": [
    "cont_data = df.select_dtypes(include=['int64','float64'])\n",
    "\n",
    "cat_data= df.select_dtypes(include=['object'])\n",
    "\n",
    "cont_columns = cont_data.columns\n",
    "\n",
    "cat_columns = cat_data.columns"
   ]
  },
  {
   "cell_type": "code",
   "execution_count": null,
   "id": "e3f827e6",
   "metadata": {},
   "outputs": [],
   "source": [
    "cont_columns"
   ]
  },
  {
   "cell_type": "code",
   "execution_count": null,
   "id": "fff779ad",
   "metadata": {},
   "outputs": [],
   "source": [
    "cat_columns"
   ]
  },
  {
   "cell_type": "code",
   "execution_count": null,
   "id": "4933c0fa",
   "metadata": {},
   "outputs": [],
   "source": [
    "for i in cat_columns:\n",
    "    print('For column',i,'unique values are: ',df[i].unique())\n",
    "    print('For column',i,'count of unique values are: ',df[i].nunique(),'\\n\\n')"
   ]
  },
  {
   "cell_type": "code",
   "execution_count": null,
   "id": "044ab9ce",
   "metadata": {},
   "outputs": [],
   "source": [
    "for i in cat_columns:\n",
    "    print('For column --',i,'-- value counts are: \\n',df[i].value_counts(),'\\n\\n')"
   ]
  },
  {
   "cell_type": "code",
   "execution_count": null,
   "id": "dd3f1fb1",
   "metadata": {},
   "outputs": [],
   "source": [
    "df1 = df.copy()\n",
    "\n",
    "df1.dropna(axis=0,inplace=True)"
   ]
  },
  {
   "cell_type": "code",
   "execution_count": null,
   "id": "be8a3666",
   "metadata": {},
   "outputs": [],
   "source": [
    "df1"
   ]
  },
  {
   "cell_type": "code",
   "execution_count": null,
   "id": "fe735b2b",
   "metadata": {},
   "outputs": [],
   "source": [
    "# Pieplot\n",
    "\n",
    "def fmt(x):\n",
    "    return '{:.1f}%\\n{:.0f}'.format(x, total*x/100)\n",
    "\n",
    "total = df['Gender'].value_counts().values.sum()\n",
    "plt.figure(figsize=(10,8))\n",
    "plt.pie(df1['Gender'].value_counts().values, labels=df['Gender'].value_counts().index, autopct=fmt)\n",
    "plt.show()"
   ]
  },
  {
   "cell_type": "code",
   "execution_count": null,
   "id": "d8a1fa87",
   "metadata": {},
   "outputs": [],
   "source": [
    "def fmt(x):\n",
    "    return '{:.1f}%\\n{:.0f}'.format(x, total*x/100)\n",
    "\n",
    "total = df['Age'].value_counts().values.sum()\n",
    "plt.figure(figsize=(10,8))\n",
    "plt.pie(df1['Age'].value_counts().values, labels=df['Age'].value_counts().index, autopct=fmt)\n",
    "plt.show()"
   ]
  },
  {
   "cell_type": "code",
   "execution_count": null,
   "id": "a324781b",
   "metadata": {},
   "outputs": [],
   "source": [
    "def fmt(x):\n",
    "    return '{:.1f}%\\n{:.0f}'.format(x, total*x/100)\n",
    "\n",
    "total = df['City_Category'].value_counts().values.sum()\n",
    "plt.figure(figsize=(10,8))\n",
    "plt.pie(df1['City_Category'].value_counts().values, labels=df['City_Category'].value_counts().index, autopct=fmt)\n",
    "plt.show()"
   ]
  },
  {
   "cell_type": "code",
   "execution_count": null,
   "id": "394001a0",
   "metadata": {},
   "outputs": [],
   "source": [
    "def fmt(x):\n",
    "    return '{:.1f}%\\n{:.0f}'.format(x, total*x/100)\n",
    "\n",
    "total = df['Stay_In_Current_City_Years'].value_counts().values.sum()\n",
    "plt.figure(figsize=(10,8))\n",
    "plt.pie(df1['Stay_In_Current_City_Years'].value_counts().values, labels=df['Stay_In_Current_City_Years'].value_counts().index, autopct=fmt)\n",
    "plt.show()"
   ]
  },
  {
   "cell_type": "code",
   "execution_count": null,
   "id": "cb7df135",
   "metadata": {},
   "outputs": [],
   "source": [
    "def fmt(x):\n",
    "    return '{:.1f}%\\n{:.0f}'.format(x, total*x/100)\n",
    "\n",
    "total = df['Marital_Status'].value_counts().values.sum()\n",
    "plt.figure(figsize=(10,8))\n",
    "plt.pie(df1['Marital_Status'].value_counts().values, labels=df['Marital_Status'].value_counts().index, autopct=fmt)\n",
    "plt.show()"
   ]
  },
  {
   "cell_type": "code",
   "execution_count": null,
   "id": "975395b1",
   "metadata": {
    "scrolled": true
   },
   "outputs": [],
   "source": [
    "# Countplot with value counts:\n",
    "\n",
    "for i in ['Gender', 'Age', 'Occupation', 'City_Category',\n",
    "       'Stay_In_Current_City_Years', 'Marital_Status', 'Product_Category_1',\n",
    "       'Product_Category_2', 'Product_Category_3']:\n",
    "    sns.countplot(df1[i],label=\"Count\") \n",
    "    plt.show()\n",
    "    print(df1[i].value_counts())"
   ]
  },
  {
   "cell_type": "code",
   "execution_count": null,
   "id": "07350cc8",
   "metadata": {},
   "outputs": [],
   "source": [
    "df1.columns"
   ]
  },
  {
   "cell_type": "code",
   "execution_count": null,
   "id": "db2c650e",
   "metadata": {
    "scrolled": true
   },
   "outputs": [],
   "source": [
    "# Scatterplot\n",
    "\n",
    "for i in cont_columns:\n",
    "    plt.figure(figsize=(12,8))\n",
    "    sns.scatterplot(x = df1.index, y = i, data = df1)\n",
    "    plt.xticks(rotation=90)\n",
    "    plt.show()"
   ]
  },
  {
   "cell_type": "code",
   "execution_count": null,
   "id": "bd2d1729",
   "metadata": {
    "scrolled": true
   },
   "outputs": [],
   "source": [
    "# Lineplot\n",
    "\n",
    "for i in cont_columns:\n",
    "    plt.figure(figsize=(12,8))\n",
    "    sns.lineplot(x = df1.index, y = i, data = df1)\n",
    "    plt.xticks(rotation=90)\n",
    "    plt.show()"
   ]
  },
  {
   "cell_type": "code",
   "execution_count": null,
   "id": "583a2df2",
   "metadata": {
    "scrolled": true
   },
   "outputs": [],
   "source": [
    "# Stripplot\n",
    "\n",
    "for i in cont_columns:\n",
    "    plt.figure(figsize=(12,8))\n",
    "    sns.stripplot(x = i, data = df1)\n",
    "    plt.xticks(rotation=90)\n",
    "    plt.show()"
   ]
  },
  {
   "cell_type": "code",
   "execution_count": null,
   "id": "fe06fafe",
   "metadata": {},
   "outputs": [],
   "source": [
    "# Univariate Summary plots"
   ]
  },
  {
   "cell_type": "code",
   "execution_count": null,
   "id": "5bb517bc",
   "metadata": {
    "scrolled": true
   },
   "outputs": [],
   "source": [
    "# Histogram plot:\n",
    "\n",
    "for i in cont_columns:\n",
    "    plt.figure(figsize=(10,6),facecolor='orange')\n",
    "    plt.hist(df1[i],bins=10)\n",
    "    plt.xlabel(i)\n",
    "    plt.show()"
   ]
  },
  {
   "cell_type": "code",
   "execution_count": null,
   "id": "49a76447",
   "metadata": {
    "scrolled": true
   },
   "outputs": [],
   "source": [
    "# Densityplot\n",
    "\n",
    "for i in cont_columns:\n",
    "    plt.figure(figsize=(10,6),facecolor='orange')\n",
    "    sns.kdeplot(df1[i], shade=True)\n",
    "    plt.xlabel(i)\n",
    "    plt.show()"
   ]
  },
  {
   "cell_type": "code",
   "execution_count": null,
   "id": "b2318861",
   "metadata": {
    "scrolled": true
   },
   "outputs": [],
   "source": [
    "# Boxplots\n",
    "\n",
    "for i in cont_columns:\n",
    "    plt.figure(figsize=(10,6),facecolor='orange')\n",
    "    sns.boxplot(df1[i])\n",
    "    plt.xlabel(i)\n",
    "    plt.show()"
   ]
  },
  {
   "cell_type": "code",
   "execution_count": null,
   "id": "495e1949",
   "metadata": {
    "scrolled": true
   },
   "outputs": [],
   "source": [
    "# Distplot\n",
    "\n",
    "for i in cont_columns:\n",
    "    plt.figure(figsize=(10,6),facecolor='orange')\n",
    "    sns.distplot(df1[i])\n",
    "    plt.xlabel(i)\n",
    "    plt.show()"
   ]
  },
  {
   "cell_type": "code",
   "execution_count": null,
   "id": "fba35ba3",
   "metadata": {},
   "outputs": [],
   "source": [
    "# Violinplot\n",
    "\n",
    "for i in cont_columns:\n",
    "    plt.figure(figsize=(10,6),facecolor='skyblue')\n",
    "    sns.violinplot(df1[i],showmedians=True)\n",
    "    plt.xlabel(i)\n",
    "    plt.show()"
   ]
  },
  {
   "cell_type": "code",
   "execution_count": null,
   "id": "03a5530b",
   "metadata": {},
   "outputs": [],
   "source": [
    "# Bivariate analysis"
   ]
  },
  {
   "cell_type": "code",
   "execution_count": null,
   "id": "2f642da8",
   "metadata": {},
   "outputs": [],
   "source": [
    "plt.figure(figsize=(15,10))\n",
    "sns.boxplot(x ='Product_Category_1', y = 'Purchase', data = df1)"
   ]
  },
  {
   "cell_type": "code",
   "execution_count": null,
   "id": "8fdbd009",
   "metadata": {
    "scrolled": false
   },
   "outputs": [],
   "source": [
    "plt.figure(figsize=(15,10))\n",
    "sns.boxplot(x ='Occupation', y = 'Purchase', data = df1)"
   ]
  },
  {
   "cell_type": "code",
   "execution_count": null,
   "id": "8b2735d8",
   "metadata": {
    "scrolled": true
   },
   "outputs": [],
   "source": [
    "plt.figure(figsize=(15,10))\n",
    "sns.boxplot(x ='Marital_Status', y = 'Purchase', data = df1)"
   ]
  },
  {
   "cell_type": "code",
   "execution_count": null,
   "id": "12a305f3",
   "metadata": {
    "scrolled": true
   },
   "outputs": [],
   "source": [
    "for i in cont_columns:\n",
    "    plt.figure(figsize=(10,6),facecolor='skyblue')    \n",
    "    sns.lmplot(x = i, y = 'Purchase', data = df1)\n",
    "    plt.show()"
   ]
  },
  {
   "cell_type": "code",
   "execution_count": null,
   "id": "8dbcd395",
   "metadata": {},
   "outputs": [],
   "source": [
    "# cat plots"
   ]
  },
  {
   "cell_type": "code",
   "execution_count": null,
   "id": "1b29276c",
   "metadata": {
    "scrolled": true
   },
   "outputs": [],
   "source": [
    "for i in ['Gender', 'Age', 'City_Category','Stay_In_Current_City_Years']:\n",
    "    sns.countplot(df1[i])\n",
    "    print(df1[i].value_counts(normalize=True)*100)\n",
    "    plt.show()"
   ]
  },
  {
   "cell_type": "code",
   "execution_count": null,
   "id": "f49c374e",
   "metadata": {
    "scrolled": true
   },
   "outputs": [],
   "source": [
    "for i in ['Occupation', 'Marital_Status', 'Product_Category_1','Product_Category_2', 'Product_Category_3']:\n",
    "    sns.countplot(df1[i])\n",
    "    print(df1[i].value_counts(normalize=True)*100)\n",
    "    plt.show()"
   ]
  },
  {
   "cell_type": "code",
   "execution_count": null,
   "id": "429b9796",
   "metadata": {
    "scrolled": true
   },
   "outputs": [],
   "source": [
    "# Joint plot\n",
    "\n",
    "for i in ['Occupation', 'Marital_Status', 'Product_Category_1','Product_Category_2', 'Product_Category_3']:\n",
    "    sns.jointplot(x=i, y=\"Purchase\", data=df1);"
   ]
  },
  {
   "cell_type": "code",
   "execution_count": null,
   "id": "8c480b95",
   "metadata": {
    "scrolled": true
   },
   "outputs": [],
   "source": [
    "# Hue analysis:\n",
    "\n",
    "for i in ['Occupation', 'Marital_Status', 'Product_Category_1','Product_Category_2', 'Product_Category_3']:\n",
    "    sns.relplot(x=i, y=\"Purchase\", data=df1,hue='Gender')"
   ]
  },
  {
   "cell_type": "code",
   "execution_count": null,
   "id": "2cde4b10",
   "metadata": {
    "scrolled": true
   },
   "outputs": [],
   "source": [
    "# Cat plots:\n",
    "\n",
    "for i in ['Gender', 'Age', 'City_Category','Stay_In_Current_City_Years']:\n",
    "    sns.catplot(x=i, y=\"Purchase\", data=df1)"
   ]
  },
  {
   "cell_type": "code",
   "execution_count": null,
   "id": "fe946fb4",
   "metadata": {
    "scrolled": true
   },
   "outputs": [],
   "source": [
    "# categorical box plots:\n",
    "\n",
    "for i in ['Gender', 'Age', 'City_Category','Stay_In_Current_City_Years']:\n",
    "    for j in ['Occupation', 'Marital_Status', 'Product_Category_1','Product_Category_2', 'Product_Category_3']:\n",
    "        sns.catplot(x=j, y=\"Purchase\", hue=i, kind=\"box\", data=df1)"
   ]
  },
  {
   "cell_type": "code",
   "execution_count": null,
   "id": "6639791b",
   "metadata": {},
   "outputs": [],
   "source": [
    "# Violin plot\n",
    "\n",
    "plt.figure(figsize=(10,6),facecolor='skyblue')\n",
    "sns.violinplot(x=df1['Gender'],y=df1['Purchase'],showmedians=True)\n",
    "plt.xlabel(i)\n",
    "plt.ylabel('Purchase')\n",
    "plt.show()"
   ]
  },
  {
   "cell_type": "code",
   "execution_count": null,
   "id": "a91a0447",
   "metadata": {},
   "outputs": [],
   "source": [
    "plt.figure(figsize=(10,6),facecolor='skyblue')\n",
    "sns.violinplot(x=df1['Age'],y=df1['Purchase'],showmedians=True)\n",
    "plt.xlabel(i)\n",
    "plt.ylabel('Purchase')\n",
    "plt.show()"
   ]
  },
  {
   "cell_type": "code",
   "execution_count": null,
   "id": "e866e1ba",
   "metadata": {},
   "outputs": [],
   "source": [
    "plt.figure(figsize=(10,6),facecolor='skyblue')\n",
    "sns.violinplot(x=df1['Occupation'],y=df1['Purchase'],showmedians=True)\n",
    "plt.xlabel(i)\n",
    "plt.ylabel('Purchase')\n",
    "plt.show()"
   ]
  },
  {
   "cell_type": "code",
   "execution_count": null,
   "id": "cd0502df",
   "metadata": {},
   "outputs": [],
   "source": [
    "plt.figure(figsize=(10,6),facecolor='skyblue')\n",
    "sns.violinplot(x=df1['Age'],y=df1['Purchase'],showmedians=True)\n",
    "plt.xlabel(i)\n",
    "plt.ylabel('Purchase')\n",
    "plt.show()"
   ]
  },
  {
   "cell_type": "code",
   "execution_count": null,
   "id": "0120ac87",
   "metadata": {},
   "outputs": [],
   "source": [
    "plt.figure(figsize=(10,6),facecolor='skyblue')\n",
    "sns.violinplot(x=df1['City_Category'],y=df1['Purchase'],showmedians=True)\n",
    "plt.xlabel(i)\n",
    "plt.ylabel('Purchase')\n",
    "plt.show()"
   ]
  },
  {
   "cell_type": "code",
   "execution_count": null,
   "id": "ab047159",
   "metadata": {},
   "outputs": [],
   "source": [
    "plt.figure(figsize=(10,6),facecolor='skyblue')\n",
    "sns.violinplot(x=df1['Stay_In_Current_City_Years'],y=df1['Purchase'],showmedians=True)\n",
    "plt.xlabel(i)\n",
    "plt.ylabel('Purchase')\n",
    "plt.show()"
   ]
  },
  {
   "cell_type": "code",
   "execution_count": null,
   "id": "dac760d9",
   "metadata": {},
   "outputs": [],
   "source": [
    "plt.figure(figsize=(10,6),facecolor='skyblue')\n",
    "sns.violinplot(x=df1['Marital_Status'],y=df1['Purchase'],showmedians=True)\n",
    "plt.xlabel(i)\n",
    "plt.ylabel('Purchase')\n",
    "plt.show()"
   ]
  },
  {
   "cell_type": "code",
   "execution_count": null,
   "id": "f7784662",
   "metadata": {},
   "outputs": [],
   "source": [
    "plt.figure(figsize=(10,6),facecolor='skyblue')\n",
    "sns.violinplot(x=df1['Product_Category_1'],y=df1['Purchase'],showmedians=True)\n",
    "plt.xlabel(i)\n",
    "plt.ylabel('Purchase')\n",
    "plt.show()"
   ]
  },
  {
   "cell_type": "code",
   "execution_count": null,
   "id": "0364de90",
   "metadata": {},
   "outputs": [],
   "source": [
    "plt.figure(figsize=(10,6),facecolor='skyblue')\n",
    "sns.violinplot(x=df1['Product_Category_2'],y=df1['Purchase'],showmedians=True)\n",
    "plt.xlabel(i)\n",
    "plt.ylabel('Purchase')\n",
    "plt.show()"
   ]
  },
  {
   "cell_type": "code",
   "execution_count": null,
   "id": "fd63e973",
   "metadata": {},
   "outputs": [],
   "source": [
    "plt.figure(figsize=(10,6),facecolor='skyblue')\n",
    "sns.violinplot(x=df1['Product_Category_3'],y=df1['Purchase'],showmedians=True)\n",
    "plt.xlabel(i)\n",
    "plt.ylabel('Purchase')\n",
    "plt.show()"
   ]
  },
  {
   "cell_type": "code",
   "execution_count": null,
   "id": "29287fd2",
   "metadata": {},
   "outputs": [],
   "source": [
    "# regplot\n",
    "\n",
    "sns.regplot(x ='Product_Category_1', y ='Purchase', data = df1)\n"
   ]
  },
  {
   "cell_type": "code",
   "execution_count": null,
   "id": "169e48b3",
   "metadata": {},
   "outputs": [],
   "source": [
    "# lm plots"
   ]
  },
  {
   "cell_type": "code",
   "execution_count": null,
   "id": "6fc25a40",
   "metadata": {},
   "outputs": [],
   "source": [
    "sns.lmplot(x ='Product_Category_1', y ='Purchase', data = df1)\n",
    "\n",
    "plt.show()"
   ]
  },
  {
   "cell_type": "code",
   "execution_count": null,
   "id": "37dc914c",
   "metadata": {},
   "outputs": [],
   "source": [
    "sns.lmplot(x ='Product_Category_2', y ='Purchase', data = df1)\n",
    "\n",
    "plt.show()"
   ]
  },
  {
   "cell_type": "code",
   "execution_count": null,
   "id": "e18c8ee4",
   "metadata": {},
   "outputs": [],
   "source": [
    "sns.lmplot(x ='Product_Category_3', y ='Purchase', data = df1)\n",
    "\n",
    "plt.show()"
   ]
  },
  {
   "cell_type": "code",
   "execution_count": null,
   "id": "bede3eb7",
   "metadata": {},
   "outputs": [],
   "source": [
    "sns.lmplot(x ='Occupation', y ='Purchase', data = df1)\n",
    "\n",
    "plt.show()"
   ]
  },
  {
   "cell_type": "code",
   "execution_count": null,
   "id": "dad6666c",
   "metadata": {},
   "outputs": [],
   "source": [
    "sns.lmplot(x ='Marital_Status', y ='Purchase', data = df1)\n",
    "\n",
    "plt.show()"
   ]
  },
  {
   "cell_type": "code",
   "execution_count": null,
   "id": "2b33583c",
   "metadata": {},
   "outputs": [],
   "source": [
    "# Joint plot\n",
    "\n",
    "sns.jointplot(x = \"Product_Category_1\", y = \"Purchase\",kind = \"reg\", data = df1)"
   ]
  },
  {
   "cell_type": "code",
   "execution_count": null,
   "id": "afd4ea4c",
   "metadata": {},
   "outputs": [],
   "source": [
    "sns.jointplot(x = \"Product_Category_2\", y = \"Purchase\",kind = \"reg\", data = df1)"
   ]
  },
  {
   "cell_type": "code",
   "execution_count": null,
   "id": "7a37aae9",
   "metadata": {},
   "outputs": [],
   "source": [
    "sns.jointplot(x = \"Product_Category_3\", y = \"Purchase\",kind = \"reg\", data = df1)"
   ]
  },
  {
   "cell_type": "code",
   "execution_count": null,
   "id": "eadc8ea6",
   "metadata": {},
   "outputs": [],
   "source": [
    "sns.jointplot(x = \"Marital_Status\", y = \"Purchase\",kind = \"reg\", data = df1)"
   ]
  },
  {
   "cell_type": "code",
   "execution_count": null,
   "id": "424dc597",
   "metadata": {},
   "outputs": [],
   "source": [
    "sns.jointplot(x = \"Occupation\", y = \"Purchase\",kind = \"reg\", data = df1)"
   ]
  },
  {
   "cell_type": "code",
   "execution_count": null,
   "id": "f85dbf82",
   "metadata": {},
   "outputs": [],
   "source": [
    "# Scatterplot plotting Product_Category_1 data\n",
    "\n",
    "sns.scatterplot(data=df1, x=\"Product_Category_1\", y=\"Purchase\", hue=\"Gender\")"
   ]
  },
  {
   "cell_type": "code",
   "execution_count": null,
   "id": "afb917fc",
   "metadata": {},
   "outputs": [],
   "source": [
    "sns.scatterplot(data=df1, x=\"Product_Category_1\", y=\"Purchase\", hue=\"Age\")"
   ]
  },
  {
   "cell_type": "code",
   "execution_count": null,
   "id": "8998a247",
   "metadata": {},
   "outputs": [],
   "source": [
    "sns.scatterplot(data=df1, x=\"Product_Category_1\", y=\"Purchase\", hue=\"Occupation\")"
   ]
  },
  {
   "cell_type": "code",
   "execution_count": null,
   "id": "291645b7",
   "metadata": {},
   "outputs": [],
   "source": [
    "sns.scatterplot(data=df1, x=\"Product_Category_1\", y=\"Purchase\", hue=\"City_Category\")\n",
    "plt.legend(bbox_to_anchor=(1.0, 1.0))"
   ]
  },
  {
   "cell_type": "code",
   "execution_count": null,
   "id": "1cc25379",
   "metadata": {},
   "outputs": [],
   "source": [
    "sns.scatterplot(data=df1, x=\"Product_Category_1\", y=\"Purchase\", hue=\"Stay_In_Current_City_Years\")\n",
    "plt.legend(bbox_to_anchor=(1.0, 1.0))"
   ]
  },
  {
   "cell_type": "code",
   "execution_count": null,
   "id": "abe7ebe2",
   "metadata": {},
   "outputs": [],
   "source": [
    "sns.scatterplot(data=df1, x=\"Product_Category_1\", y=\"Purchase\", hue=\"Marital_Status\")\n",
    "plt.legend(bbox_to_anchor=(1.0, 1.0))"
   ]
  },
  {
   "cell_type": "code",
   "execution_count": null,
   "id": "16a86c21",
   "metadata": {},
   "outputs": [],
   "source": [
    "# Scatterplot plotting Product_Category_2 data\n",
    "\n",
    "for i in ['Gender', 'Age', 'Occupation', 'City_Category','Stay_In_Current_City_Years', 'Marital_Status']:\n",
    "    sns.scatterplot(data=df1, x=\"Product_Category_2\", y=\"Purchase\", hue=i)\n",
    "    print('For hue==>',i)\n",
    "    plt.legend(bbox_to_anchor=(1.0, 1.0))\n",
    "    plt.show()"
   ]
  },
  {
   "cell_type": "code",
   "execution_count": null,
   "id": "c044eafe",
   "metadata": {},
   "outputs": [],
   "source": [
    "# Scatterplot plotting Product_Category_1 data\n",
    "\n",
    "for i in ['Gender', 'Age', 'Occupation', 'City_Category','Stay_In_Current_City_Years', 'Marital_Status']:\n",
    "    sns.scatterplot(data=df1, x=\"Product_Category_3\", y=\"Purchase\", hue=i)\n",
    "    print('For hue==>',i)\n",
    "    plt.legend(bbox_to_anchor=(1.0, 1.0))\n",
    "    plt.show()"
   ]
  },
  {
   "cell_type": "code",
   "execution_count": null,
   "id": "f0e88bf6",
   "metadata": {
    "scrolled": true
   },
   "outputs": [],
   "source": [
    "# Barplot plotting Product_Category_1 data\n",
    "\n",
    "for i in ['Gender', 'Age', 'Occupation', 'City_Category','Stay_In_Current_City_Years', 'Marital_Status']:\n",
    "    sns.catplot(data=df1, x=\"Product_Category_1\", y=\"Purchase\", hue=i,kind=\"bar\")\n",
    "    print('For hue==>',i)\n",
    "    plt.legend(bbox_to_anchor=(1.0, 1.0))\n",
    "    plt.show()"
   ]
  },
  {
   "cell_type": "code",
   "execution_count": null,
   "id": "80632b8a",
   "metadata": {
    "scrolled": true
   },
   "outputs": [],
   "source": [
    "# Barplot plotting Product_Category_2 data\n",
    "\n",
    "for i in ['Gender', 'Age', 'Occupation', 'City_Category','Stay_In_Current_City_Years', 'Marital_Status']:\n",
    "    plt.figure(figsize=(10,6),facecolor='skyblue')\n",
    "    sns.catplot(data=df1, x=\"Product_Category_2\", y=\"Purchase\", hue=i,kind=\"bar\")\n",
    "    print('For hue==>',i)\n",
    "    plt.legend(bbox_to_anchor=(1.0, 1.0))\n",
    "    plt.show()"
   ]
  },
  {
   "cell_type": "code",
   "execution_count": null,
   "id": "326d45d1",
   "metadata": {
    "scrolled": true
   },
   "outputs": [],
   "source": [
    "# Barplot plotting Product_Category_3 data\n",
    "\n",
    "for i in ['Gender', 'Age', 'Occupation', 'City_Category','Stay_In_Current_City_Years', 'Marital_Status']:\n",
    "    plt.figure(figsize=(10,6),facecolor='skyblue')\n",
    "    sns.catplot(data=df1, x=\"Product_Category_3\", y=\"Purchase\", hue=i,kind=\"bar\")\n",
    "    print('For hue==>',i)\n",
    "    plt.legend(bbox_to_anchor=(1.0, 1.0))\n",
    "    plt.show()"
   ]
  },
  {
   "cell_type": "code",
   "execution_count": null,
   "id": "a24e5e15",
   "metadata": {},
   "outputs": [],
   "source": [
    "sns.pairplot(df1)"
   ]
  },
  {
   "cell_type": "code",
   "execution_count": null,
   "id": "fb39c443",
   "metadata": {},
   "outputs": [],
   "source": [
    "cat_columns"
   ]
  },
  {
   "cell_type": "code",
   "execution_count": null,
   "id": "4fae79d3",
   "metadata": {},
   "outputs": [],
   "source": [
    "df1.columns"
   ]
  },
  {
   "cell_type": "code",
   "execution_count": null,
   "id": "36a21033",
   "metadata": {},
   "outputs": [],
   "source": [
    "# Grouped data analysis:"
   ]
  },
  {
   "cell_type": "code",
   "execution_count": null,
   "id": "2ce7ecb4",
   "metadata": {},
   "outputs": [],
   "source": [
    "Gender_groups = df1.groupby('Gender')"
   ]
  },
  {
   "cell_type": "code",
   "execution_count": null,
   "id": "db846f69",
   "metadata": {},
   "outputs": [],
   "source": [
    "Gender_groups['Purchase'].mean().sort_values(ascending=False)"
   ]
  },
  {
   "cell_type": "code",
   "execution_count": null,
   "id": "b0fddab9",
   "metadata": {},
   "outputs": [],
   "source": [
    "Age_groups = df1.groupby('Age')"
   ]
  },
  {
   "cell_type": "code",
   "execution_count": null,
   "id": "232f5be9",
   "metadata": {},
   "outputs": [],
   "source": [
    "Age_groups['Purchase'].mean().sort_values(ascending=False)"
   ]
  },
  {
   "cell_type": "code",
   "execution_count": null,
   "id": "d465dd02",
   "metadata": {},
   "outputs": [],
   "source": [
    "City_Category_groups = df1.groupby('City_Category')"
   ]
  },
  {
   "cell_type": "code",
   "execution_count": null,
   "id": "9f75d093",
   "metadata": {},
   "outputs": [],
   "source": [
    "City_Category_groups['Purchase'].mean().sort_values(ascending=False)"
   ]
  },
  {
   "cell_type": "code",
   "execution_count": null,
   "id": "8ed05651",
   "metadata": {},
   "outputs": [],
   "source": [
    "Stay_In_Current_City_Years_groups = df1.groupby('Stay_In_Current_City_Years')\n",
    "Stay_In_Current_City_Years_groups['Purchase'].mean().sort_values(ascending=False)"
   ]
  },
  {
   "cell_type": "code",
   "execution_count": null,
   "id": "b251068f",
   "metadata": {},
   "outputs": [],
   "source": [
    "# ['Gender', 'Age', 'City_Category','Stay_In_Current_City_Years']:\n"
   ]
  },
  {
   "cell_type": "code",
   "execution_count": null,
   "id": "ba67a15b",
   "metadata": {
    "scrolled": true
   },
   "outputs": [],
   "source": [
    "for i in ['Occupation', 'Marital_Status', 'Product_Category_1','Product_Category_2', 'Product_Category_3','Purchase']:\n",
    "    for j in ['Gender', 'Age', 'City_Category','Stay_In_Current_City_Years']:\n",
    "        print('Grouping by',j,'on',i,':\\n')\n",
    "        print(df1.groupby(j)[i].mean().sort_values(ascending=False))\n",
    "        print('\\n')"
   ]
  },
  {
   "cell_type": "code",
   "execution_count": null,
   "id": "60c4fca0",
   "metadata": {
    "scrolled": true
   },
   "outputs": [],
   "source": [
    "for i in ['Occupation', 'Marital_Status', 'Product_Category_1','Product_Category_2', 'Product_Category_3']:\n",
    "    print('Grouping by',i,'on','Purchase:\\n')\n",
    "    print(df1.groupby(i)['Purchase'].mean().sort_values(ascending=False))\n",
    "    print('\\n')"
   ]
  },
  {
   "cell_type": "code",
   "execution_count": null,
   "id": "732542a0",
   "metadata": {},
   "outputs": [],
   "source": [
    "# Creating groups:\n",
    "\n",
    "gOccupation = df1.groupby('Occupation')\n",
    "  \n",
    "gOccupation.first()"
   ]
  },
  {
   "cell_type": "code",
   "execution_count": null,
   "id": "ad9718fa",
   "metadata": {},
   "outputs": [],
   "source": [
    "cont_columns"
   ]
  },
  {
   "cell_type": "code",
   "execution_count": null,
   "id": "4d9b3443",
   "metadata": {},
   "outputs": [],
   "source": [
    "cat_columns"
   ]
  },
  {
   "cell_type": "code",
   "execution_count": null,
   "id": "09d97efd",
   "metadata": {},
   "outputs": [],
   "source": [
    "df_corr = df1.corr().abs()\n",
    "plt.figure(figsize=(25,22))\n",
    "sns.heatmap(df_corr,annot=True,annot_kws={'size':10})\n",
    "plt.show()"
   ]
  },
  {
   "cell_type": "code",
   "execution_count": null,
   "id": "ae48326c",
   "metadata": {},
   "outputs": [],
   "source": [
    "p_id = []\n",
    "for i in df1['Product_ID']:\n",
    "    p_id.append(i.split('P')[1])\n",
    "\n",
    "df1.drop(columns=['Product_ID'],axis=1,inplace=True)"
   ]
  },
  {
   "cell_type": "code",
   "execution_count": null,
   "id": "a902ad14",
   "metadata": {},
   "outputs": [],
   "source": [
    "df1['p_id'] = p_id\n",
    "df1['p_id'] = df1['p_id'].astype('int64')"
   ]
  },
  {
   "cell_type": "code",
   "execution_count": null,
   "id": "3f25346c",
   "metadata": {},
   "outputs": [],
   "source": [
    "cont_data = df1.select_dtypes(include=['int64','float64'])\n",
    "\n",
    "cat_data= df1.select_dtypes(include=['object'])\n",
    "\n",
    "cont_columns = cont_data.columns\n",
    "\n",
    "cat_columns = cat_data.columns"
   ]
  },
  {
   "cell_type": "code",
   "execution_count": null,
   "id": "2df4954a",
   "metadata": {},
   "outputs": [],
   "source": [
    "from statsmodels.stats.outliers_influence import variance_inflation_factor\n",
    "\n",
    "\n",
    "vif = pd.DataFrame()\n",
    "vif['vif'] = [variance_inflation_factor(df1[cont_columns],i) for i in range(df1[cont_columns].shape[1])]\n",
    "vif['features'] = df1[cont_columns].columns\n",
    "vif.sort_values(by='vif',ascending=False)"
   ]
  },
  {
   "cell_type": "code",
   "execution_count": null,
   "id": "7dcdf79d",
   "metadata": {},
   "outputs": [],
   "source": [
    "df2 = df1.copy()"
   ]
  },
  {
   "cell_type": "code",
   "execution_count": null,
   "id": "c0e61f63",
   "metadata": {},
   "outputs": [],
   "source": [
    "df2.drop(columns=['User_ID','Product_Category_3'],axis=1,inplace=True)"
   ]
  },
  {
   "cell_type": "code",
   "execution_count": null,
   "id": "2224c0a0",
   "metadata": {},
   "outputs": [],
   "source": [
    "cont_columns"
   ]
  },
  {
   "cell_type": "code",
   "execution_count": null,
   "id": "89110878",
   "metadata": {},
   "outputs": [],
   "source": [
    "from statsmodels.stats.outliers_influence import variance_inflation_factor\n",
    "\n",
    "\n",
    "vif = pd.DataFrame()\n",
    "vif['vif'] = [variance_inflation_factor(df1[['Occupation', 'Marital_Status', 'Product_Category_1',\n",
    "       'Product_Category_2', 'Purchase']],i) for i in range(df1[['Occupation', 'Marital_Status', 'Product_Category_1',\n",
    "       'Product_Category_2', 'Purchase']].shape[1])]\n",
    "vif['features'] = df1[['Occupation', 'Marital_Status', 'Product_Category_1',\n",
    "       'Product_Category_2', 'Purchase']].columns\n",
    "vif.sort_values(by='vif',ascending=False)"
   ]
  },
  {
   "cell_type": "code",
   "execution_count": null,
   "id": "655df933",
   "metadata": {},
   "outputs": [],
   "source": [
    "df2.shape[0]"
   ]
  },
  {
   "cell_type": "code",
   "execution_count": null,
   "id": "b244f74b",
   "metadata": {},
   "outputs": [],
   "source": [
    "cont_data = df2.select_dtypes(include=['int64','float64'])\n",
    "\n",
    "cat_data= df2.select_dtypes(include=['object'])\n",
    "\n",
    "cont_columns = cont_data.columns\n",
    "\n",
    "cat_columns = cat_data.columns"
   ]
  },
  {
   "cell_type": "code",
   "execution_count": null,
   "id": "eb33828a",
   "metadata": {},
   "outputs": [],
   "source": [
    "# Using Z Statistics to check and remove any more outliers:\n",
    "\n",
    "from scipy.stats import zscore\n",
    "\n",
    "z_score = zscore(df2[cont_columns])\n",
    "\n",
    "abs_z_score = np.abs(z_score)\n",
    "\n",
    "filtering_entry = (abs_z_score < 3).all(axis=1) # values lying in 3 times std will be removed\n",
    "\n",
    "df2 = df2[filtering_entry]\n",
    "\n",
    "df2.describe()"
   ]
  },
  {
   "cell_type": "code",
   "execution_count": null,
   "id": "7aef8e2f",
   "metadata": {},
   "outputs": [],
   "source": [
    "(166821-163494)/166821*100"
   ]
  },
  {
   "cell_type": "code",
   "execution_count": null,
   "id": "7b480072",
   "metadata": {},
   "outputs": [],
   "source": [
    "df2.skew()"
   ]
  },
  {
   "cell_type": "code",
   "execution_count": null,
   "id": "91db3bda",
   "metadata": {},
   "outputs": [],
   "source": [
    "# Correlation between features and label:\n",
    "\n",
    "# Replacing attrition column values:\n",
    "\n",
    "df2.drop(columns = 'Purchase',axis = 1).corrwith(df.Purchase).plot(kind='bar',grid=True,figsize=(10,7),title='corelation between features and labels')\n",
    "plt.show()"
   ]
  },
  {
   "cell_type": "code",
   "execution_count": null,
   "id": "de7d3650",
   "metadata": {},
   "outputs": [],
   "source": [
    "# columns_without_multicolinearity =>> ['Occupation', 'Marital_Status', 'Product_Category_1',\n",
    "#                                       'Product_Category_2', 'Purchase','p_id']"
   ]
  },
  {
   "cell_type": "code",
   "execution_count": null,
   "id": "7d3b3d7b",
   "metadata": {},
   "outputs": [],
   "source": [
    "# Splitting data into features and label:\n",
    "\n",
    "y = df2['Purchase']\n",
    "X = df2.drop('Purchase',axis=1)"
   ]
  },
  {
   "cell_type": "code",
   "execution_count": null,
   "id": "d0bfdfcf",
   "metadata": {},
   "outputs": [],
   "source": [
    "df2.columns"
   ]
  },
  {
   "cell_type": "code",
   "execution_count": null,
   "id": "d44db216",
   "metadata": {},
   "outputs": [],
   "source": [
    "X.columns"
   ]
  },
  {
   "cell_type": "code",
   "execution_count": null,
   "id": "44e4c98d",
   "metadata": {},
   "outputs": [],
   "source": [
    "y"
   ]
  },
  {
   "cell_type": "code",
   "execution_count": null,
   "id": "50d631c0",
   "metadata": {},
   "outputs": [],
   "source": [
    "cont_data = X.select_dtypes(include=['int64','float64'])\n",
    "\n",
    "cat_data= X.select_dtypes(include=['object'])\n",
    "\n",
    "cont_columns = cont_data.columns\n",
    "\n",
    "cat_columns = cat_data.columns"
   ]
  },
  {
   "cell_type": "code",
   "execution_count": null,
   "id": "518a6d09",
   "metadata": {},
   "outputs": [],
   "source": [
    "# Using SelectKBest feature selection method: # It is one of the feature selection method:\n",
    "# when there are lot of features and you cant graphically analyse , short way , selectKbest can be\n",
    "# used:\n",
    "\n",
    "from sklearn.feature_selection import SelectKBest, f_classif\n",
    "\n",
    "# SelectKBest uses f_classif function to select best features where f_classif uses ANOVA test\n",
    "\n",
    "# Using SelectKBest feature selection method: # It is one of the feature selection method:\n",
    "# when there are lot of features and you cant graphically analyse , short way , selectKbest can be\n",
    "# used:\n",
    "\n",
    "from sklearn.feature_selection import SelectKBest, f_classif\n",
    "\n",
    "# SelectKBest uses f_classif function to select best features where f_classif uses ANOVA test\n",
    "\n",
    "best_features = SelectKBest(score_func = f_classif,k = 4)\n",
    "fit = best_features.fit(X[cont_columns],y)\n",
    "\n",
    "data_scores = pd.DataFrame(fit.scores_)\n",
    "data_columns = pd.DataFrame(X[cont_columns].columns)\n",
    "\n",
    "features_score = pd.concat([data_columns,data_scores],axis=1)\n",
    "\n",
    "features_score.columns = ['Features','Scores']\n",
    "print(features_score.nlargest(4,'Scores'),'\\n') # print 5 best features\n",
    "\n",
    "# Here we are getting top 5 features we got based on f_classify that uses ANOVA test of statistics."
   ]
  },
  {
   "cell_type": "code",
   "execution_count": null,
   "id": "86b546c5",
   "metadata": {},
   "outputs": [],
   "source": [
    "X_cat = pd.get_dummies(X[cat_columns])\n",
    "X_cat"
   ]
  },
  {
   "cell_type": "code",
   "execution_count": null,
   "id": "2ed88363",
   "metadata": {},
   "outputs": [],
   "source": [
    "from sklearn.decomposition import PCA\n",
    "# Using PCA i.e. Principal Component Analysis that is a diamensionallity reduction technique:\n",
    "\n",
    "pca = PCA()\n",
    "pca.fit_transform(X_cat)"
   ]
  },
  {
   "cell_type": "code",
   "execution_count": null,
   "id": "5b7eb89e",
   "metadata": {},
   "outputs": [],
   "source": []
  },
  {
   "cell_type": "code",
   "execution_count": null,
   "id": "c7bd4d3a",
   "metadata": {},
   "outputs": [],
   "source": [
    "# Using Scree Plot to identify best components:\n",
    "\n",
    "plt.figure()\n",
    "plt.plot(np.cumsum(pca.explained_variance_ratio_))\n",
    "plt.xlabel('Principal Components')\n",
    "plt.ylabel('Variance Covered')\n",
    "plt.title('PCA')\n",
    "plt.show()"
   ]
  },
  {
   "cell_type": "code",
   "execution_count": null,
   "id": "08bb77b0",
   "metadata": {},
   "outputs": [],
   "source": [
    "pca = PCA(n_components=14)\n",
    "new_pcomp = pca.fit_transform(X_cat)\n",
    "princi_comp = pd.DataFrame(new_pcomp)\n",
    "princi_comp"
   ]
  },
  {
   "cell_type": "code",
   "execution_count": null,
   "id": "aa9c64b0",
   "metadata": {},
   "outputs": [],
   "source": [
    "pca.explained_variance_ratio_"
   ]
  },
  {
   "cell_type": "code",
   "execution_count": null,
   "id": "3b90bb49",
   "metadata": {},
   "outputs": [],
   "source": [
    "from sklearn.decomposition import PCA\n",
    "# Using PCA i.e. Principal Component Analysis that is a diamensionallity reduction technique:\n",
    "\n",
    "pca1 = PCA()\n",
    "pca1.fit_transform(X[cont_columns])"
   ]
  },
  {
   "cell_type": "code",
   "execution_count": null,
   "id": "1228c59c",
   "metadata": {},
   "outputs": [],
   "source": [
    "# Using Scree Plot to identify best components:\n",
    "\n",
    "plt.figure()\n",
    "plt.plot(np.cumsum(pca1.explained_variance_ratio_))\n",
    "plt.xlabel('Principal Components')\n",
    "plt.ylabel('Variance Covered')\n",
    "plt.title('PCA')\n",
    "plt.show()"
   ]
  },
  {
   "cell_type": "code",
   "execution_count": null,
   "id": "00765457",
   "metadata": {},
   "outputs": [],
   "source": [
    "pca1 = PCA(n_components=3)\n",
    "new_pcomp1 = pca1.fit_transform(X[cont_columns])\n",
    "princi_comp1 = pd.DataFrame(new_pcomp1)\n",
    "princi_comp1"
   ]
  },
  {
   "cell_type": "code",
   "execution_count": null,
   "id": "b44768f4",
   "metadata": {},
   "outputs": [],
   "source": [
    "pca1.explained_variance_ratio_"
   ]
  },
  {
   "cell_type": "code",
   "execution_count": null,
   "id": "194b9c4a",
   "metadata": {},
   "outputs": [],
   "source": [
    "pca = PCA(n_components=14)\n",
    "new_pcomp = pca.fit_transform(X_cat)\n",
    "princi_comp = pd.DataFrame(new_pcomp)\n",
    "princi_comp\n",
    "\n",
    "pca1 = PCA(n_components=3)\n",
    "new_pcomp1 = pca1.fit_transform(X[cont_columns])\n",
    "princi_comp1 = pd.DataFrame(new_pcomp1)\n",
    "princi_comp1\n",
    "\n",
    "X_F = pd.concat([princi_comp,princi_comp1],axis=1)\n",
    "\n",
    "X_F.columns = [0,1,2,3,4,5,6,7,8,9,10,11,12,13,14,15,16]"
   ]
  },
  {
   "cell_type": "code",
   "execution_count": null,
   "id": "66802481",
   "metadata": {},
   "outputs": [],
   "source": [
    "X_F = pd.concat([princi_comp,princi_comp1],axis=1)"
   ]
  },
  {
   "cell_type": "code",
   "execution_count": null,
   "id": "39332766",
   "metadata": {},
   "outputs": [],
   "source": [
    "X_F.columns = [0,1,2,3,4,5,6,7,8,9,10,11,12,13,14,15,16]"
   ]
  },
  {
   "cell_type": "code",
   "execution_count": null,
   "id": "036d7b95",
   "metadata": {},
   "outputs": [],
   "source": [
    "X_F"
   ]
  },
  {
   "cell_type": "code",
   "execution_count": null,
   "id": "c674b7fc",
   "metadata": {},
   "outputs": [],
   "source": [
    "from sklearn.preprocessing import PowerTransformer\n",
    "\n",
    "pt = PowerTransformer()\n",
    "\n",
    "X_trans = pt.fit_transform(X_F)"
   ]
  },
  {
   "cell_type": "code",
   "execution_count": null,
   "id": "42d25b65",
   "metadata": {},
   "outputs": [],
   "source": [
    "from sklearn.preprocessing import StandardScaler\n",
    "# Applying standard scaler and transforming data:\n",
    "scaler = StandardScaler()\n",
    "X_scaler = scaler.fit_transform(X_F)"
   ]
  },
  {
   "cell_type": "code",
   "execution_count": null,
   "id": "2f618acf",
   "metadata": {},
   "outputs": [],
   "source": [
    "X_F.columns"
   ]
  },
  {
   "cell_type": "code",
   "execution_count": null,
   "id": "69092ada",
   "metadata": {},
   "outputs": [],
   "source": [
    "X_trans = pd.DataFrame(X_trans)"
   ]
  },
  {
   "cell_type": "code",
   "execution_count": null,
   "id": "d8b21656",
   "metadata": {},
   "outputs": [],
   "source": [
    "X_trans.shape"
   ]
  },
  {
   "cell_type": "code",
   "execution_count": null,
   "id": "19ab038b",
   "metadata": {},
   "outputs": [],
   "source": [
    "# Using SelectKBest feature selection method: # It is one of the feature selection method:\n",
    "# when there are lot of features and you cant graphically analyse , short way , selectKbest can be\n",
    "# used:\n",
    "\n",
    "from sklearn.feature_selection import SelectKBest, f_classif\n",
    "\n",
    "# SelectKBest uses f_classif function to select best features where f_classif uses ANOVA test\n",
    "\n",
    "# Using SelectKBest feature selection method: # It is one of the feature selection method:\n",
    "# when there are lot of features and you cant graphically analyse , short way , selectKbest can be\n",
    "# used:\n",
    "\n",
    "from sklearn.feature_selection import SelectKBest, f_classif\n",
    "\n",
    "# SelectKBest uses f_classif function to select best features where f_classif uses ANOVA test\n",
    "\n",
    "best_features = SelectKBest(score_func = f_classif,k = 10)\n",
    "fit = best_features.fit(X_trans,y)\n",
    "\n",
    "data_scores = pd.DataFrame(fit.scores_)\n",
    "data_columns = pd.DataFrame(X_trans.columns)\n",
    "\n",
    "features_score = pd.concat([data_columns,data_scores],axis=1)\n",
    "\n",
    "features_score.columns = ['Features','Scores']\n",
    "print(features_score.nlargest(10,'Scores'),'\\n') # print 17 best features\n",
    "\n",
    "# Here we are getting top 10 features we got based on f_classify that uses ANOVA test of statistics."
   ]
  },
  {
   "cell_type": "code",
   "execution_count": null,
   "id": "30e66775",
   "metadata": {},
   "outputs": [],
   "source": [
    "X_best = X_trans[[16,12,14,1]]"
   ]
  },
  {
   "cell_type": "code",
   "execution_count": null,
   "id": "ea96e0b9",
   "metadata": {},
   "outputs": [],
   "source": [
    "# Splitting our data to training data and testing data\n",
    "# x_train,x_test,y_train,y_test\n",
    "\n",
    "from sklearn.model_selection import train_test_split\n",
    "\n",
    "x_train,x_test,y_train,y_test = train_test_split(X_F,y,test_size=0.20,random_state=1)"
   ]
  },
  {
   "cell_type": "code",
   "execution_count": null,
   "id": "6a11f9b9",
   "metadata": {},
   "outputs": [],
   "source": [
    "# MOdel instantiating and training\n",
    "\n",
    "rm = LinearRegression()\n",
    "rm.fit(x_train,y_train) \n",
    "# here we will pass training data"
   ]
  },
  {
   "cell_type": "code",
   "execution_count": null,
   "id": "9519f213",
   "metadata": {},
   "outputs": [],
   "source": [
    "# Testing our model with Adjusted R2 Square: \n",
    "\n",
    "# on training data\n",
    "\n",
    "rm.score(x_train,y_train)"
   ]
  },
  {
   "cell_type": "code",
   "execution_count": null,
   "id": "e569a278",
   "metadata": {},
   "outputs": [],
   "source": [
    "# PLotting and visualizing\n",
    "\n",
    "y_pred = rm.predict(x_test)"
   ]
  },
  {
   "cell_type": "code",
   "execution_count": null,
   "id": "4f21ab5b",
   "metadata": {},
   "outputs": [],
   "source": [
    "plt.scatter(y_test,y_pred)\n",
    "plt.xlabel('Actual Charges')\n",
    "plt.ylabel('Predicted Charges')\n",
    "plt.title('Actual vs Model Predicted')\n",
    "plt.show()"
   ]
  },
  {
   "cell_type": "code",
   "execution_count": null,
   "id": "9e367d75",
   "metadata": {},
   "outputs": [],
   "source": [
    "from sklearn.linear_model import Ridge,Lasso,RidgeCV,LassoCV\n",
    "\n",
    "lassocv = LassoCV(alphas = None , max_iter = 100, normalize = True)\n",
    "lassocv.fit(x_train,y_train)"
   ]
  },
  {
   "cell_type": "code",
   "execution_count": null,
   "id": "1ad1d001",
   "metadata": {},
   "outputs": [],
   "source": [
    "# Best alpha parameter\n",
    "alpha = lassocv.alpha_ # Best alpha rate\n",
    "alpha"
   ]
  },
  {
   "cell_type": "code",
   "execution_count": null,
   "id": "663f4d2a",
   "metadata": {},
   "outputs": [],
   "source": [
    "# Now since we have the best parameter, lasso regression will be used:\n",
    "lasso_reg = Lasso(alpha)\n",
    "lasso_reg.fit(x_train,y_train)\n",
    "# i.e. when model is training it will learn at this speed 6...."
   ]
  },
  {
   "cell_type": "code",
   "execution_count": null,
   "id": "0587a098",
   "metadata": {},
   "outputs": [],
   "source": [
    "lasso_reg.score(x_test,y_test)"
   ]
  },
  {
   "cell_type": "code",
   "execution_count": null,
   "id": "03a338d0",
   "metadata": {},
   "outputs": [],
   "source": [
    "# Ridge Method:\n",
    "\n",
    "ridgecv = RidgeCV(alphas = np.arange(0.001,0.1,0.01),normalize = True)\n",
    "ridgecv.fit(x_train,y_train)"
   ]
  },
  {
   "cell_type": "code",
   "execution_count": null,
   "id": "13d44f04",
   "metadata": {},
   "outputs": [],
   "source": [
    "ridgecv.alpha_ # Best alpha rate"
   ]
  },
  {
   "cell_type": "code",
   "execution_count": null,
   "id": "5b467520",
   "metadata": {},
   "outputs": [],
   "source": [
    "ridge_model = Ridge(alpha = ridgecv.alpha_)\n",
    "ridge_model.fit(x_train,y_train)"
   ]
  },
  {
   "cell_type": "code",
   "execution_count": null,
   "id": "5de402e0",
   "metadata": {},
   "outputs": [],
   "source": [
    "ridge_model.score(x_test,y_test)"
   ]
  },
  {
   "cell_type": "code",
   "execution_count": null,
   "id": "4639cec1",
   "metadata": {},
   "outputs": [],
   "source": [
    "# Using decision tree:\n",
    "\n",
    "from sklearn.tree import DecisionTreeRegressor\n",
    "\n",
    "model = DecisionTreeRegressor()\n",
    "\n",
    "model.fit(x_train, y_train)\n",
    "\n",
    "y_preddt = model.predict(x_test)\n",
    "\n",
    "r2_score(y_test,y_preddt)\n"
   ]
  },
  {
   "cell_type": "code",
   "execution_count": null,
   "id": "90e7d213",
   "metadata": {},
   "outputs": [],
   "source": [
    "# Random forest:\n",
    "\n",
    "from sklearn.ensemble import RandomForestRegressor\n",
    "regressor_rf = RandomForestRegressor(n_estimators = 200)\n",
    "\n",
    "regressor_rf.fit(x_train, y_train)\n",
    "\n",
    "lr_normal_rf = regressor_rf.score(x_train, y_train)\n",
    "\n",
    "lr_normal_rf"
   ]
  },
  {
   "cell_type": "code",
   "execution_count": null,
   "id": "855de276",
   "metadata": {},
   "outputs": [],
   "source": [
    "from sklearn.metrics import mean_absolute_error,mean_squared_error\n",
    "\n",
    "y_predrf = regressor_rf.predict(x_test)\n",
    "\n",
    "lr_normal_rf_test = regressor_rf.score(x_test, y_test)\n",
    "\n",
    "print('Test Score: ',lr_normal_rf_test)\n",
    "\n",
    "mse_lr_normal_rf  = mean_absolute_error(y_test, y_predrf)\n",
    "\n",
    "print('MSE: ',mse_lr_normal_rf)"
   ]
  },
  {
   "cell_type": "code",
   "execution_count": null,
   "id": "a233adc0",
   "metadata": {},
   "outputs": [],
   "source": [
    "# Model Evaluation: MAE , MSE , RMSE\n",
    "\n",
    "from sklearn.metrics import mean_absolute_error,mean_squared_error\n",
    "\n",
    "print(\"MAE: \", metrics.mean_absolute_error(y_test, y_predrf))\n",
    "print(\"MSE: \", metrics.mean_squared_error(y_test, y_predrf))\n",
    "print(\"RMSE: \", metrics.mean_squared_error(y_test, y_predrf, squared=False))\n",
    "print(\"R2: \", metrics.r2_score(y_test, y_predrf), \"\\n\")\n",
    "print(\"Score: \", regressor_rf.score(x_test, y_predrf))"
   ]
  },
  {
   "cell_type": "code",
   "execution_count": null,
   "id": "af5c06b2",
   "metadata": {},
   "outputs": [],
   "source": [
    "# Using Support vector regressor:\n",
    "\n",
    "# Fit the model over the training data\n",
    "from sklearn.svm import SVR\n",
    "svr = SVR()\n",
    "svr.fit(x_train, y_train)\n",
    "\n",
    "y_predsvr = svr.predict(x_test)\n",
    "\n",
    "r2_score(y_test,y_predsvr)"
   ]
  },
  {
   "cell_type": "code",
   "execution_count": null,
   "id": "30c7ffef",
   "metadata": {},
   "outputs": [],
   "source": [
    "x_train"
   ]
  },
  {
   "cell_type": "code",
   "execution_count": null,
   "id": "b160e8e9",
   "metadata": {
    "scrolled": false
   },
   "outputs": [],
   "source": [
    "# Using XGBoost:\n",
    "\n",
    "xgb_reg = xgb.XGBRegressor(n_estimators=200,learning_rate=0.1)\n",
    "xgb_reg.fit(x_train,y_train)\n",
    "print('Training score: ',xgb_reg.score(x_train, y_train))\n",
    "y_predx = xgb_reg.predict(x_test)\n",
    "print('R2 score: ',r2_score(y_test,y_predx))"
   ]
  },
  {
   "cell_type": "code",
   "execution_count": null,
   "id": "a03071c1",
   "metadata": {},
   "outputs": [],
   "source": [
    "# Model Evaluation: MAE , MSE , RMSE\n",
    "\n",
    "from sklearn.metrics import mean_absolute_error,mean_squared_error\n",
    "\n",
    "print(\"MAE: \", metrics.mean_absolute_error(y_test, y_predx))\n",
    "print(\"MSE: \", metrics.mean_squared_error(y_test, y_predx))\n",
    "print(\"RMSE: \", metrics.mean_squared_error(y_test, y_predx, squared=False))\n",
    "print(\"R2: \", metrics.r2_score(y_test, y_predx), \"\\n\")\n",
    "print(\"Score: \", xgb_reg.score(x_test, y_predx))"
   ]
  },
  {
   "cell_type": "code",
   "execution_count": null,
   "id": "7c59fa6f",
   "metadata": {},
   "outputs": [],
   "source": [
    "plt.scatter(y_test, y_predx)\n",
    "plt.xlabel('Actual Charges')\n",
    "plt.ylabel('Predicted Charges')\n",
    "plt.title('Actual vs Model Predicted')\n",
    "plt.show()"
   ]
  },
  {
   "cell_type": "code",
   "execution_count": null,
   "id": "d78b39b5",
   "metadata": {},
   "outputs": [],
   "source": [
    "y_test"
   ]
  },
  {
   "cell_type": "code",
   "execution_count": null,
   "id": "20e6232f",
   "metadata": {},
   "outputs": [],
   "source": [
    "from sklearn.model_selection import KFold , cross_val_score\n",
    "k_f = KFold(n_splits =3)\n",
    "k_f"
   ]
  },
  {
   "cell_type": "code",
   "execution_count": null,
   "id": "2e668d9f",
   "metadata": {},
   "outputs": [],
   "source": [
    "for train,test in k_f.split([1,2,3,4,5,6,7,8,9,10]):\n",
    "    print('train:',train,'test:',test)"
   ]
  },
  {
   "cell_type": "code",
   "execution_count": null,
   "id": "55642fcf",
   "metadata": {},
   "outputs": [],
   "source": [
    "# Cross Validation score to check if model is overfitting:\n",
    "\n",
    "cross_val_score(xgb_reg,X_best,y,cv=5) # "
   ]
  },
  {
   "cell_type": "code",
   "execution_count": null,
   "id": "3a799009",
   "metadata": {},
   "outputs": [],
   "source": [
    "cross_val_score(xgb_reg,X_best,y,cv=5).mean()"
   ]
  },
  {
   "cell_type": "code",
   "execution_count": null,
   "id": "403f74ef",
   "metadata": {},
   "outputs": [],
   "source": [
    "# Ada boost model\n",
    "\n",
    "from sklearn.ensemble import AdaBoostRegressor\n",
    "regr = AdaBoostRegressor(random_state=0, n_estimators=100)\n",
    "regr.fit(x_train, y_train)\n",
    "yada_predict = regr.predict(x_test)\n",
    "print('R2 score: ',r2_score(y_test,yada_predict))"
   ]
  },
  {
   "cell_type": "code",
   "execution_count": null,
   "id": "de777f26",
   "metadata": {},
   "outputs": [],
   "source": [
    "# Innitiate k neighbour Regressor:\n",
    "\n",
    "from sklearn.neighbors import KNeighborsRegressor\n",
    "\n",
    "knn = KNeighborsRegressor()\n",
    "knn.fit(x_train,y_train)\n"
   ]
  },
  {
   "cell_type": "code",
   "execution_count": null,
   "id": "6e55f3dd",
   "metadata": {},
   "outputs": [],
   "source": [
    "y_predknn = knn.predict(x_test)\n",
    "\n",
    "r2_score(y_test,y_predknn)"
   ]
  },
  {
   "cell_type": "code",
   "execution_count": null,
   "id": "d8f93cd9",
   "metadata": {},
   "outputs": [],
   "source": [
    "# Model Evaluation: MAE , MSE , RMSE\n",
    "\n",
    "from sklearn.metrics import mean_absolute_error,mean_squared_error\n",
    "\n",
    "print(\"MAE: \", metrics.mean_absolute_error(y_test, y_predknn))\n",
    "print(\"MSE: \", metrics.mean_squared_error(y_test, y_predknn))\n",
    "print(\"RMSE: \", metrics.mean_squared_error(y_test, y_predknn, squared=False))\n",
    "print(\"R2: \", metrics.r2_score(y_test, y_predknn), \"\\n\")\n",
    "print(\"Score: \", knn.score(x_test, y_predknn))"
   ]
  },
  {
   "cell_type": "code",
   "execution_count": null,
   "id": "7318c817",
   "metadata": {},
   "outputs": [],
   "source": [
    "from sklearn.model_selection import GridSearchCV\n",
    "\n",
    "grid_params = { 'n_neighbors' : [5,7,11,15],\n",
    "               'weights' : ['distance'],\n",
    "               'metric' : ['euclidean']}"
   ]
  },
  {
   "cell_type": "code",
   "execution_count": null,
   "id": "f92b5364",
   "metadata": {},
   "outputs": [],
   "source": [
    "gs = GridSearchCV(KNeighborsRegressor(), grid_params, verbose = 1, n_jobs = -1)"
   ]
  },
  {
   "cell_type": "code",
   "execution_count": null,
   "id": "1adb618b",
   "metadata": {},
   "outputs": [],
   "source": [
    "# fit the model on our train set\n",
    "g_res = gs.fit(x_train,y_train)"
   ]
  },
  {
   "cell_type": "code",
   "execution_count": null,
   "id": "24fcf016",
   "metadata": {},
   "outputs": [],
   "source": [
    "# find the best score\n",
    "g_res.best_score_"
   ]
  },
  {
   "cell_type": "code",
   "execution_count": null,
   "id": "22b19a40",
   "metadata": {},
   "outputs": [],
   "source": [
    "# get the hyperparameters with the best score\n",
    "g_res.best_params_"
   ]
  },
  {
   "cell_type": "code",
   "execution_count": null,
   "id": "104f8bda",
   "metadata": {},
   "outputs": [],
   "source": [
    "# use the best hyperparameters\n",
    "knn = KNeighborsRegressor(n_neighbors = 5, weights = 'uniform',algorithm = 'brute',metric = 'minkowski')\n",
    "knn.fit(x_train,y_train)\n",
    "print('Training score: ',knn.score(x_train, y_train))\n",
    "y_knn = knn.predict(x_test)\n",
    "print('R2 score: ',r2_score(y_test,y_knn))"
   ]
  },
  {
   "cell_type": "code",
   "execution_count": null,
   "id": "ea193cb8",
   "metadata": {},
   "outputs": [],
   "source": [
    "# Model Evaluation: MAE , MSE , RMSE\n",
    "\n",
    "print(\"MAE: \", metrics.mean_absolute_error(y_test, y_knn))\n",
    "print(\"MSE: \", metrics.mean_squared_error(y_test, y_knn))\n",
    "print(\"RMSE: \", metrics.mean_squared_error(y_test, y_knn, squared=False))\n",
    "print(\"R2: \", metrics.r2_score(y_test, y_knn), \"\\n\")\n",
    "print(\"Score: \", knn.score(x_test, y_knn))"
   ]
  },
  {
   "cell_type": "code",
   "execution_count": null,
   "id": "1b3bda7a",
   "metadata": {},
   "outputs": [],
   "source": [
    "# Creating pipeline:\n",
    "\n",
    "from sklearn.pipeline import Pipeline\n",
    "\n",
    "pipe1 = Pipeline([('pca',PCA(n_components=17)),('base_model1',xgb.XGBRegressor(n_estimators=200,learning_rate=0.1))])\n",
    "\n",
    "pipe1.fit(x_train,y_train)\n",
    "\n",
    "y_predx = pipe1.predict(x_train)\n",
    "y_pred = pipe1.predict(x_test)\n",
    "\n",
    "print('Training accuracy: ', r2_score(y_train,y_predx)*100)\n",
    "print('Testing accuracy: ', r2_score(y_test,y_pred)*100)\n",
    "print(\"MAE: \", metrics.mean_absolute_error(y_test, y_pred))\n",
    "print(\"MSE: \", metrics.mean_squared_error(y_test, y_pred))\n",
    "print(\"RMSE: \", metrics.mean_squared_error(y_test, y_pred, squared=False))\n",
    "print(\"R2: \", metrics.r2_score(y_test, y_pred), \"\\n\")\n",
    "print(\"Score: \", pipe1.score(x_test, y_pred))\n",
    "\n",
    "# Saving regression model to pickle string\n",
    "\n",
    "import pickle \n",
    "saved_model1 = pickle.dumps(pipe1) \n",
    "pipe_pickle1 = pickle.loads(saved_model1)\n",
    "pipe_pickle1.predict(x_test) # predicting testing data\n",
    "\n"
   ]
  },
  {
   "cell_type": "code",
   "execution_count": null,
   "id": "65a8a0f1",
   "metadata": {},
   "outputs": [],
   "source": [
    "# Now working on testing dataset:\n",
    "\n",
    "test_file_loc = r'C:\\Users\\Lenovo\\OneDrive\\Desktop\\Filp Robo worksheets and projects\\Black_Friday Project\\blackFriday_test.csv'\n",
    "\n",
    "df_test = pd.read_csv(test_file_loc)"
   ]
  },
  {
   "cell_type": "code",
   "execution_count": null,
   "id": "4cd059d5",
   "metadata": {},
   "outputs": [],
   "source": [
    "df_test"
   ]
  },
  {
   "cell_type": "code",
   "execution_count": null,
   "id": "956e0df2",
   "metadata": {},
   "outputs": [],
   "source": [
    "df_test.isnull().sum()"
   ]
  },
  {
   "cell_type": "code",
   "execution_count": null,
   "id": "b7504d59",
   "metadata": {},
   "outputs": [],
   "source": [
    "233599 - 162562"
   ]
  },
  {
   "cell_type": "code",
   "execution_count": null,
   "id": "aaa314fa",
   "metadata": {},
   "outputs": [],
   "source": [
    "df_test.dropna(axis=0,inplace=True)"
   ]
  },
  {
   "cell_type": "code",
   "execution_count": null,
   "id": "48077adf",
   "metadata": {},
   "outputs": [],
   "source": [
    "df_test.shape"
   ]
  },
  {
   "cell_type": "code",
   "execution_count": null,
   "id": "2c308cc2",
   "metadata": {},
   "outputs": [],
   "source": [
    "# preprocessing\n",
    "\n",
    "p_id = []\n",
    "for i in df_test['Product_ID']:\n",
    "    p_id.append(i.split('P')[1])\n",
    "\n",
    "df_test.drop(columns=['Product_ID'],axis=1,inplace=True)\n",
    "\n",
    "df_test['p_id'] = p_id\n",
    "df_test['p_id'] = df_test['p_id'].astype('int64')\n",
    "\n",
    "cont_data = df_test.select_dtypes(include=['int64','float64'])\n",
    "\n",
    "cat_data= df_test.select_dtypes(include=['object'])\n",
    "\n",
    "cont_columns = cont_data.columns\n",
    "\n",
    "cat_columns = cat_data.columns\n",
    "\n",
    "df_test.drop(columns=['User_ID','Product_Category_3'],axis=1,inplace=True)"
   ]
  },
  {
   "cell_type": "code",
   "execution_count": null,
   "id": "d713ea6c",
   "metadata": {},
   "outputs": [],
   "source": [
    "cont_data1 = df_test.select_dtypes(include=['int64','float64'])\n",
    "\n",
    "cat_data1 = df_test.select_dtypes(include=['object'])\n",
    "\n",
    "cont_columns1 = cont_data.columns\n",
    "\n",
    "cat_columns1 = cat_data.columns"
   ]
  },
  {
   "cell_type": "code",
   "execution_count": null,
   "id": "15a64aa9",
   "metadata": {},
   "outputs": [],
   "source": [
    "X_cat1 = pd.get_dummies(df_test[cat_columns1])\n",
    "\n",
    "X_cont1 = df_test[cont_columns1]"
   ]
  },
  {
   "cell_type": "code",
   "execution_count": null,
   "id": "0ea8453d",
   "metadata": {},
   "outputs": [],
   "source": [
    "pca00 = PCA(n_components=14)\n",
    "new_pcomp00 = pca00.fit_transform(X_cat1)\n",
    "princi_comp00 = pd.DataFrame(new_pcomp00)\n",
    "\n",
    "pca01 = PCA(n_components=3)\n",
    "new_pcomp01 = pca01.fit_transform(X_cont1)\n",
    "princi_comp01 = pd.DataFrame(new_pcomp01)\n",
    "princi_comp01\n",
    "\n",
    "X_F0 = pd.concat([princi_comp00,princi_comp01],axis=1)\n",
    "\n",
    "X_F0.columns = [0,1,2,3,4,5,6,7,8,9,10,11,12,13,14,15,16]"
   ]
  },
  {
   "cell_type": "code",
   "execution_count": null,
   "id": "a6e098b1",
   "metadata": {},
   "outputs": [],
   "source": [
    "y_pred = xgb_reg.predict(X_F0) # predicting new data using xgb regressor model"
   ]
  },
  {
   "cell_type": "code",
   "execution_count": null,
   "id": "01fb7845",
   "metadata": {},
   "outputs": [],
   "source": [
    "df_test['Purchase'] = y_pred "
   ]
  },
  {
   "cell_type": "code",
   "execution_count": null,
   "id": "89cd086e",
   "metadata": {},
   "outputs": [],
   "source": [
    "df_test"
   ]
  }
 ],
 "metadata": {
  "kernelspec": {
   "display_name": "Python 3 (ipykernel)",
   "language": "python",
   "name": "python3"
  },
  "language_info": {
   "codemirror_mode": {
    "name": "ipython",
    "version": 3
   },
   "file_extension": ".py",
   "mimetype": "text/x-python",
   "name": "python",
   "nbconvert_exporter": "python",
   "pygments_lexer": "ipython3",
   "version": "3.9.12"
  }
 },
 "nbformat": 4,
 "nbformat_minor": 5
}
