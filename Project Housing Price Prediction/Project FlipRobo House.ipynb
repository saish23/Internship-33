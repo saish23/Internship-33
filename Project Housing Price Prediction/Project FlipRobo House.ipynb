{
 "cells": [
  {
   "cell_type": "code",
   "execution_count": null,
   "id": "4ba6c87a",
   "metadata": {},
   "outputs": [],
   "source": [
    "# Imp libs:\n",
    "import numpy as np\n",
    "import pandas as pd\n",
    "import matplotlib.pyplot as plt\n",
    "import seaborn as sns\n",
    "\n",
    "# Spliting data\n",
    "from sklearn.model_selection import train_test_split,GridSearchCV\n",
    "\n",
    "import warnings\n",
    "warnings.filterwarnings('ignore')"
   ]
  },
  {
   "cell_type": "code",
   "execution_count": null,
   "id": "38c76875",
   "metadata": {},
   "outputs": [],
   "source": [
    "train_file_loc = r\"C:\\Users\\Lenovo\\OneDrive\\Desktop\\Filp Robo worksheets and projects\\Project-Housing_splitted\\train.csv\"\n",
    "df = pd.read_csv(train_file_loc)"
   ]
  },
  {
   "cell_type": "code",
   "execution_count": null,
   "id": "06d049de",
   "metadata": {},
   "outputs": [],
   "source": [
    "print('First 10 rows')\n",
    "df.head(10)"
   ]
  },
  {
   "cell_type": "code",
   "execution_count": null,
   "id": "f99fe125",
   "metadata": {},
   "outputs": [],
   "source": [
    "print('Last 10 rows')\n",
    "df.tail(10)"
   ]
  },
  {
   "cell_type": "code",
   "execution_count": null,
   "id": "d84709f8",
   "metadata": {},
   "outputs": [],
   "source": [
    "df.shape"
   ]
  },
  {
   "cell_type": "code",
   "execution_count": null,
   "id": "f02f4312",
   "metadata": {},
   "outputs": [],
   "source": [
    "df.columns"
   ]
  },
  {
   "cell_type": "code",
   "execution_count": null,
   "id": "d85eac28",
   "metadata": {},
   "outputs": [],
   "source": [
    "for i in df.columns:\n",
    "    print(i,':',df[i].dtype)"
   ]
  },
  {
   "cell_type": "code",
   "execution_count": null,
   "id": "f02aa598",
   "metadata": {},
   "outputs": [],
   "source": [
    "for i in df.columns:\n",
    "    print('Null values in column: ',i,':',df[i].isnull().sum(),'--- of type',df[i].dtype)"
   ]
  },
  {
   "cell_type": "code",
   "execution_count": null,
   "id": "5dbab530",
   "metadata": {},
   "outputs": [],
   "source": [
    "desc = df.describe().T\n",
    "desc['range']=desc['max']-desc['min']\n",
    "desc"
   ]
  },
  {
   "cell_type": "code",
   "execution_count": null,
   "id": "b03c284d",
   "metadata": {},
   "outputs": [],
   "source": [
    "df.describe(include='object').T"
   ]
  },
  {
   "cell_type": "code",
   "execution_count": null,
   "id": "c96c4753",
   "metadata": {},
   "outputs": [],
   "source": [
    "desc[['min','mean','max','range']]"
   ]
  },
  {
   "cell_type": "code",
   "execution_count": null,
   "id": "f86e01ee",
   "metadata": {},
   "outputs": [],
   "source": [
    "# Feature engineering\n",
    "\n",
    "avgpr = []\n",
    "for i in df.SalePrice:\n",
    "    if i < 181477: \n",
    "        avgpr.append('Below avg price')\n",
    "    elif i > 181477 and i < 550000:\n",
    "        avgpr.append('Avg priced')\n",
    "    else:\n",
    "        avgpr.append('High priced')\n",
    "        \n",
    "df['Price Range'] = avgpr"
   ]
  },
  {
   "cell_type": "code",
   "execution_count": null,
   "id": "98c0e006",
   "metadata": {},
   "outputs": [],
   "source": [
    "cont_data = df.select_dtypes(include=['int64','float64'])\n",
    "\n",
    "cat_data= df.select_dtypes(include=['object'])\n",
    "\n",
    "cont_columns = cont_data.columns\n",
    "\n",
    "cat_columns = cat_data.columns"
   ]
  },
  {
   "cell_type": "code",
   "execution_count": null,
   "id": "994c77c0",
   "metadata": {},
   "outputs": [],
   "source": [
    "df[cont_columns].isnull().sum()"
   ]
  },
  {
   "cell_type": "code",
   "execution_count": null,
   "id": "8e82a90c",
   "metadata": {},
   "outputs": [],
   "source": [
    "df[cat_columns].isnull().sum()"
   ]
  },
  {
   "cell_type": "code",
   "execution_count": null,
   "id": "e190002d",
   "metadata": {},
   "outputs": [],
   "source": [
    "df.shape"
   ]
  },
  {
   "cell_type": "code",
   "execution_count": null,
   "id": "647b38db",
   "metadata": {},
   "outputs": [],
   "source": [
    "df.drop(columns=['MiscFeature','PoolQC','Fence','FireplaceQu','Alley'],axis=1,inplace=True)"
   ]
  },
  {
   "cell_type": "code",
   "execution_count": null,
   "id": "2632f4ba",
   "metadata": {},
   "outputs": [],
   "source": [
    "cont_data = df.select_dtypes(include=['int64','float64'])\n",
    "\n",
    "cat_data= df.select_dtypes(include=['object'])\n",
    "\n",
    "cont_columns = cont_data.columns\n",
    "\n",
    "cat_columns = cat_data.columns"
   ]
  },
  {
   "cell_type": "code",
   "execution_count": null,
   "id": "d2426947",
   "metadata": {},
   "outputs": [],
   "source": [
    "from scipy import stats\n",
    "\n",
    "for i in cat_columns:\n",
    "    print('For',i,', most frequent value is: ',stats.mode(df[i]),'\\n')"
   ]
  },
  {
   "cell_type": "code",
   "execution_count": null,
   "id": "2fcbbcf8",
   "metadata": {
    "scrolled": false
   },
   "outputs": [],
   "source": [
    "for i in cat_columns:\n",
    "    print('For column',i,'unique values are: ',df[i].unique())\n",
    "    print('For column',i,'count of unique values are: ',df[i].nunique(),'\\n\\n')\n",
    "    "
   ]
  },
  {
   "cell_type": "code",
   "execution_count": null,
   "id": "30b8bb7c",
   "metadata": {},
   "outputs": [],
   "source": [
    "for i in cat_columns:\n",
    "    print('For column --',i,'-- value counts are: \\n',df[i].value_counts(),'\\n\\n')"
   ]
  },
  {
   "cell_type": "code",
   "execution_count": null,
   "id": "66aee211",
   "metadata": {},
   "outputs": [],
   "source": [
    "# Treating null values\n",
    "\n",
    "df['GarageType'].fillna('',axis=0,inplace=True)\n",
    "df['GarageFinish'].fillna('',axis=0,inplace=True)    \n",
    "df['GarageQual'].fillna('',axis=0,inplace=True)        \n",
    "df['GarageCond'].fillna('',axis=0,inplace=True)\n",
    "df['BsmtQual'].fillna('Gd',axis=0,inplace=True)          \n",
    "df['BsmtCond'].fillna('TA',axis=0,inplace=True)           \n",
    "df['BsmtExposure'].fillna('No',axis=0,inplace=True)      \n",
    "df['BsmtFinType1'].fillna('Unf',axis=0,inplace=True)     \n",
    "df['BsmtFinType2'].fillna('Unf',axis=0,inplace=True)\n",
    "df['MasVnrType'].fillna('BrkFace',axis=0,inplace=True)"
   ]
  },
  {
   "cell_type": "code",
   "execution_count": null,
   "id": "dd693c54",
   "metadata": {},
   "outputs": [],
   "source": [
    "for i in df.columns:\n",
    "    print('Null values in column: ',i,':',df[i].isnull().sum(),'--- of type',df[i].dtype)"
   ]
  },
  {
   "cell_type": "code",
   "execution_count": null,
   "id": "4fcfd838",
   "metadata": {},
   "outputs": [],
   "source": [
    "# import the KNNimputer class\n",
    "from sklearn.impute import KNNImputer\n",
    "\n",
    "\n",
    "# creating a data frame from the list \n",
    "Before_imputation = df[['LotFrontage','MasVnrArea','GarageYrBlt']]\n",
    "#print dataset before imputaion\n",
    "print(\"Data Before performing imputation\\n\",Before_imputation)\n",
    "  \n",
    "# create an object for KNNImputer\n",
    "imputer = KNNImputer(n_neighbors=10)\n",
    "After_imputation = imputer.fit_transform(Before_imputation)\n",
    "# print dataset after performing the operation\n",
    "print(\"\\n\\nAfter performing imputation\\n\",After_imputation)\n"
   ]
  },
  {
   "cell_type": "code",
   "execution_count": null,
   "id": "194211a2",
   "metadata": {},
   "outputs": [],
   "source": [
    "imputed_cont = pd.DataFrame(After_imputation,columns=['LotFrontageIMP','MasVnrAreaIMP','GarageYrBltIMP'])"
   ]
  },
  {
   "cell_type": "code",
   "execution_count": null,
   "id": "b9bf45d7",
   "metadata": {},
   "outputs": [],
   "source": [
    "imputed_cont"
   ]
  },
  {
   "cell_type": "code",
   "execution_count": null,
   "id": "d92bd60f",
   "metadata": {},
   "outputs": [],
   "source": [
    "df.drop(columns=['LotFrontage','MasVnrArea','GarageYrBlt'],axis=0,inplace=True)"
   ]
  },
  {
   "cell_type": "code",
   "execution_count": null,
   "id": "f31be70b",
   "metadata": {},
   "outputs": [],
   "source": [
    "df['LotFrontageIMP']=imputed_cont['LotFrontageIMP']\n",
    "df['MasVnrAreaIMP']=imputed_cont['MasVnrAreaIMP']\n",
    "df['GarageYrBltIMP']=imputed_cont['GarageYrBltIMP']"
   ]
  },
  {
   "cell_type": "code",
   "execution_count": null,
   "id": "ae4d9714",
   "metadata": {},
   "outputs": [],
   "source": [
    "df"
   ]
  },
  {
   "cell_type": "code",
   "execution_count": null,
   "id": "06d2ab8e",
   "metadata": {},
   "outputs": [],
   "source": [
    "for i in df.columns:\n",
    "    print('Null values in column: ',i,':',df[i].isnull().sum(),'--- of type',df[i].dtype)"
   ]
  },
  {
   "cell_type": "code",
   "execution_count": null,
   "id": "e3f4a991",
   "metadata": {},
   "outputs": [],
   "source": [
    "cont_data = df.select_dtypes(include=['int64','float64'])\n",
    "\n",
    "cat_data= df.select_dtypes(include=['object'])\n",
    "\n",
    "cont_columns = cont_data.columns\n",
    "\n",
    "cat_columns = cat_data.columns"
   ]
  },
  {
   "cell_type": "code",
   "execution_count": null,
   "id": "30c5e9fd",
   "metadata": {},
   "outputs": [],
   "source": [
    "# Analysis"
   ]
  },
  {
   "cell_type": "code",
   "execution_count": null,
   "id": "bf1dcf87",
   "metadata": {
    "scrolled": false
   },
   "outputs": [],
   "source": [
    "# Histogram:\n",
    "\n",
    "for i in cont_columns:\n",
    "    f= plt.figure(figsize=(14,11))\n",
    "    ax = sns.histplot(x=df[i],data=df,bins=150)\n",
    "    plt.xticks(rotation=90)"
   ]
  },
  {
   "cell_type": "code",
   "execution_count": null,
   "id": "91d8a34e",
   "metadata": {
    "scrolled": false
   },
   "outputs": [],
   "source": [
    "# DEnsity plot\n",
    "\n",
    "for i in cont_columns:\n",
    "    f= plt.figure(figsize=(10,8))\n",
    "    ax = sns.kdeplot(x=df[i],data=df,shade=True)\n",
    "    plt.xticks(rotation=90)"
   ]
  },
  {
   "cell_type": "code",
   "execution_count": null,
   "id": "efed236c",
   "metadata": {
    "scrolled": true
   },
   "outputs": [],
   "source": [
    "# Univariate analysis:\n",
    "\n",
    "for i in cat_columns:\n",
    "    f= plt.figure(figsize=(12,5))\n",
    "    ax = sns.countplot(x=df[i],data=df)\n",
    "    plt.xticks(rotation=90)"
   ]
  },
  {
   "cell_type": "code",
   "execution_count": null,
   "id": "3b1cba80",
   "metadata": {
    "scrolled": true
   },
   "outputs": [],
   "source": [
    "for i in cat_columns:\n",
    "    df.groupby(i).size().plot(kind='pie',autopct='%.2f')\n",
    "    plt.xlabel(i)\n",
    "    plt.show()"
   ]
  },
  {
   "cell_type": "code",
   "execution_count": null,
   "id": "b216f90e",
   "metadata": {},
   "outputs": [],
   "source": [
    "# Checking relationship petween price and other columns"
   ]
  },
  {
   "cell_type": "code",
   "execution_count": null,
   "id": "aa333605",
   "metadata": {},
   "outputs": [],
   "source": [
    "for i in cat_columns:\n",
    "    plt.figure(figsize=(12,50))\n",
    "    ax = sns.catplot(x=i, kind=\"count\",hue = 'Price Range', data=df)\n",
    "    plt.xticks(rotation=90)\n",
    "    plt.show()"
   ]
  },
  {
   "cell_type": "code",
   "execution_count": null,
   "id": "bd234673",
   "metadata": {},
   "outputs": [],
   "source": [
    "cat_columns"
   ]
  },
  {
   "cell_type": "code",
   "execution_count": null,
   "id": "755091b4",
   "metadata": {},
   "outputs": [],
   "source": [
    "for i in cat_columns:\n",
    "    plt.figure(figsize=(10,8))\n",
    "    sns.boxplot(x = i, y = 'YrSold', data = df, hue ='Price Range')\n",
    "    plt.xticks(rotation=90)\n",
    "    plt.show()"
   ]
  },
  {
   "cell_type": "code",
   "execution_count": null,
   "id": "7a6ecd36",
   "metadata": {},
   "outputs": [],
   "source": [
    "for i in cat_columns:\n",
    "    plt.figure(figsize=(10,8))\n",
    "    sns.boxplot(x = i, y = 'MoSold', data = df, hue ='Price Range')\n",
    "    plt.xticks(rotation=90)\n",
    "    plt.show()"
   ]
  },
  {
   "cell_type": "code",
   "execution_count": null,
   "id": "a9448b7c",
   "metadata": {},
   "outputs": [],
   "source": [
    "for i in cat_columns:\n",
    "    plt.figure(figsize=(10,8))\n",
    "    sns.boxplot(x = i, y = 'MiscVal', data = df, hue ='Price Range')\n",
    "    plt.xticks(rotation=90)\n",
    "    plt.show()"
   ]
  },
  {
   "cell_type": "code",
   "execution_count": null,
   "id": "9ccaea52",
   "metadata": {},
   "outputs": [],
   "source": [
    "for i in cat_columns:\n",
    "    plt.figure(figsize=(10,8))\n",
    "    sns.boxplot(x = i, y = 'PoolArea', data = df, hue ='Price Range')\n",
    "    plt.xticks(rotation=90)\n",
    "    plt.show()"
   ]
  },
  {
   "cell_type": "code",
   "execution_count": null,
   "id": "af6a54bd",
   "metadata": {},
   "outputs": [],
   "source": [
    "for i in cat_columns:\n",
    "    plt.figure(figsize=(10,8))\n",
    "    sns.boxplot(x = i, y = 'ScreenPorch', data = df, hue ='Price Range')\n",
    "    plt.xticks(rotation=90)\n",
    "    plt.show()"
   ]
  },
  {
   "cell_type": "code",
   "execution_count": null,
   "id": "6b9888ac",
   "metadata": {},
   "outputs": [],
   "source": [
    "for i in cat_columns:\n",
    "    plt.figure(figsize=(10,8))\n",
    "    sns.boxplot(x = i, y = '3SsnPorch', data = df, hue ='Price Range')\n",
    "    plt.xticks(rotation=90)\n",
    "    plt.show()"
   ]
  },
  {
   "cell_type": "code",
   "execution_count": null,
   "id": "262767e0",
   "metadata": {},
   "outputs": [],
   "source": [
    "for i in cat_columns:\n",
    "    plt.figure(figsize=(10,8))\n",
    "    sns.boxplot(x = i, y = 'EnclosedPorch', data = df, hue ='Price Range')\n",
    "    plt.xticks(rotation=90)\n",
    "    plt.show()"
   ]
  },
  {
   "cell_type": "code",
   "execution_count": null,
   "id": "2259feae",
   "metadata": {},
   "outputs": [],
   "source": [
    "for i in cat_columns:\n",
    "    plt.figure(figsize=(10,8))\n",
    "    sns.boxplot(x = i, y = 'OpenPorchSF', data = df, hue ='Price Range')\n",
    "    plt.xticks(rotation=90)\n",
    "    plt.show()"
   ]
  },
  {
   "cell_type": "code",
   "execution_count": null,
   "id": "1230b1b7",
   "metadata": {
    "scrolled": true
   },
   "outputs": [],
   "source": [
    "for i in cat_columns:\n",
    "    plt.figure(figsize=(10,8))\n",
    "    sns.boxplot(x = i, y = 'WoodDeckSF', data = df, hue ='Price Range')\n",
    "    plt.xticks(rotation=90)\n",
    "    plt.show()"
   ]
  },
  {
   "cell_type": "code",
   "execution_count": null,
   "id": "35798b31",
   "metadata": {},
   "outputs": [],
   "source": [
    "for i in cat_columns:\n",
    "    plt.figure(figsize=(10,8))\n",
    "    sns.boxplot(x = i, y = 'GarageArea', data = df, hue ='Price Range')\n",
    "    plt.xticks(rotation=90)\n",
    "    plt.show()"
   ]
  },
  {
   "cell_type": "code",
   "execution_count": null,
   "id": "7eb3689a",
   "metadata": {},
   "outputs": [],
   "source": [
    "for i in cat_columns:\n",
    "    plt.figure(figsize=(10,8))\n",
    "    sns.boxplot(x = i, y = 'GarageCars', data = df, hue ='Price Range')\n",
    "    plt.xticks(rotation=90)\n",
    "    plt.show()"
   ]
  },
  {
   "cell_type": "code",
   "execution_count": null,
   "id": "ea79cd65",
   "metadata": {},
   "outputs": [],
   "source": [
    "for i in cat_columns:\n",
    "    plt.figure(figsize=(10,8))\n",
    "    sns.boxplot(x = i, y = 'Fireplaces', data = df, hue ='Price Range')\n",
    "    plt.xticks(rotation=90)\n",
    "    plt.show()"
   ]
  },
  {
   "cell_type": "code",
   "execution_count": null,
   "id": "5ee0e8d9",
   "metadata": {},
   "outputs": [],
   "source": [
    "for i in cat_columns:\n",
    "    plt.figure(figsize=(10,8))\n",
    "    sns.boxplot(x = i, y = 'TotRmsAbvGrd', data = df, hue ='Price Range')\n",
    "    plt.xticks(rotation=90)\n",
    "    plt.show()"
   ]
  },
  {
   "cell_type": "code",
   "execution_count": null,
   "id": "4a02b74a",
   "metadata": {},
   "outputs": [],
   "source": [
    "for i in cat_columns:\n",
    "    plt.figure(figsize=(10,8))\n",
    "    sns.boxplot(x = i, y = 'KitchenAbvGr', data = df, hue ='Price Range')\n",
    "    plt.xticks(rotation=90)\n",
    "    plt.show()"
   ]
  },
  {
   "cell_type": "code",
   "execution_count": null,
   "id": "f1a94898",
   "metadata": {},
   "outputs": [],
   "source": [
    "for i in cat_columns:\n",
    "    plt.figure(figsize=(10,8))\n",
    "    sns.boxplot(x = i, y = 'BedroomAbvGr', data = df, hue ='Price Range')\n",
    "    plt.xticks(rotation=90)\n",
    "    plt.show()"
   ]
  },
  {
   "cell_type": "code",
   "execution_count": null,
   "id": "28f13778",
   "metadata": {},
   "outputs": [],
   "source": [
    "for i in cat_columns:\n",
    "    plt.figure(figsize=(10,8))\n",
    "    sns.boxplot(x = i, y = 'HalfBath', data = df, hue ='Price Range')\n",
    "    plt.xticks(rotation=90)\n",
    "    plt.show()"
   ]
  },
  {
   "cell_type": "code",
   "execution_count": null,
   "id": "132b6703",
   "metadata": {},
   "outputs": [],
   "source": [
    "for i in cat_columns:\n",
    "    plt.figure(figsize=(10,8))\n",
    "    sns.boxplot(x = i, y = 'FullBath', data = df, hue ='Price Range')\n",
    "    plt.xticks(rotation=90)\n",
    "    plt.show()"
   ]
  },
  {
   "cell_type": "code",
   "execution_count": null,
   "id": "a574a12a",
   "metadata": {},
   "outputs": [],
   "source": [
    "for i in cat_columns:\n",
    "    plt.figure(figsize=(10,8))\n",
    "    sns.boxplot(x = i, y = 'BsmtHalfBath', data = df, hue ='Price Range')\n",
    "    plt.xticks(rotation=90)\n",
    "    plt.show()"
   ]
  },
  {
   "cell_type": "code",
   "execution_count": null,
   "id": "9818a258",
   "metadata": {},
   "outputs": [],
   "source": [
    "for i in cat_columns:\n",
    "    plt.figure(figsize=(10,8))\n",
    "    sns.boxplot(x = i, y = 'BsmtFullBath', data = df, hue ='Price Range')\n",
    "    plt.xticks(rotation=90)\n",
    "    plt.show()"
   ]
  },
  {
   "cell_type": "code",
   "execution_count": null,
   "id": "bd9e5909",
   "metadata": {},
   "outputs": [],
   "source": [
    "for i in cat_columns:\n",
    "    plt.figure(figsize=(10,8))\n",
    "    sns.boxplot(x = i, y = 'GrLivArea', data = df, hue ='Price Range')\n",
    "    plt.xticks(rotation=90)\n",
    "    plt.show()"
   ]
  },
  {
   "cell_type": "code",
   "execution_count": null,
   "id": "f1fc9783",
   "metadata": {},
   "outputs": [],
   "source": [
    "for i in cat_columns:\n",
    "    plt.figure(figsize=(10,8))\n",
    "    sns.boxplot(x = i, y = 'LowQualFinSF', data = df, hue ='Price Range')\n",
    "    plt.xticks(rotation=90)\n",
    "    plt.show()"
   ]
  },
  {
   "cell_type": "code",
   "execution_count": null,
   "id": "5e72514f",
   "metadata": {},
   "outputs": [],
   "source": [
    "for i in cat_columns:\n",
    "    plt.figure(figsize=(10,8))\n",
    "    sns.boxplot(x = i, y = '2ndFlrSF', data = df, hue ='Price Range')\n",
    "    plt.xticks(rotation=90)\n",
    "    plt.show()"
   ]
  },
  {
   "cell_type": "code",
   "execution_count": null,
   "id": "b12269c3",
   "metadata": {},
   "outputs": [],
   "source": [
    "for i in cat_columns:\n",
    "    plt.figure(figsize=(10,8))\n",
    "    sns.boxplot(x = i, y = '1stFlrSF', data = df, hue ='Price Range')\n",
    "    plt.xticks(rotation=90)\n",
    "    plt.show()"
   ]
  },
  {
   "cell_type": "code",
   "execution_count": null,
   "id": "a2220dd5",
   "metadata": {},
   "outputs": [],
   "source": [
    "for i in cat_columns:\n",
    "    plt.figure(figsize=(10,8))\n",
    "    sns.boxplot(x = i, y = 'TotalBsmtSF', data = df, hue ='Price Range')\n",
    "    plt.xticks(rotation=90)\n",
    "    plt.show()"
   ]
  },
  {
   "cell_type": "code",
   "execution_count": null,
   "id": "4eaa2991",
   "metadata": {},
   "outputs": [],
   "source": [
    "for i in cat_columns:\n",
    "    plt.figure(figsize=(10,8))\n",
    "    sns.boxplot(x = i, y = 'BsmtUnfSF', data = df, hue ='Price Range')\n",
    "    plt.xticks(rotation=90)\n",
    "    plt.show()"
   ]
  },
  {
   "cell_type": "code",
   "execution_count": null,
   "id": "fc2f4cb5",
   "metadata": {},
   "outputs": [],
   "source": [
    "for i in cat_columns:\n",
    "    plt.figure(figsize=(10,8))\n",
    "    sns.boxplot(x = i, y = 'BsmtFinSF2', data = df, hue ='Price Range')\n",
    "    plt.xticks(rotation=90)\n",
    "    plt.show()"
   ]
  },
  {
   "cell_type": "code",
   "execution_count": null,
   "id": "0b5c872c",
   "metadata": {},
   "outputs": [],
   "source": [
    "for i in cat_columns:\n",
    "    plt.figure(figsize=(10,8))\n",
    "    sns.boxplot(x = i, y = 'BsmtFinSF1', data = df, hue ='Price Range')\n",
    "    plt.xticks(rotation=90)\n",
    "    plt.show()"
   ]
  },
  {
   "cell_type": "code",
   "execution_count": null,
   "id": "1cc029fa",
   "metadata": {},
   "outputs": [],
   "source": [
    "for i in cat_columns:\n",
    "    plt.figure(figsize=(10,8))\n",
    "    sns.boxplot(x = i, y = 'YearRemodAdd', data = df, hue ='Price Range')\n",
    "    plt.xticks(rotation=90)\n",
    "    plt.show()"
   ]
  },
  {
   "cell_type": "code",
   "execution_count": null,
   "id": "2a103cdc",
   "metadata": {},
   "outputs": [],
   "source": [
    "for i in cat_columns:\n",
    "    plt.figure(figsize=(10,8))\n",
    "    sns.boxplot(x = i, y = 'YearBuilt', data = df, hue ='Price Range')\n",
    "    plt.xticks(rotation=90)\n",
    "    plt.show()"
   ]
  },
  {
   "cell_type": "code",
   "execution_count": null,
   "id": "479ea4a5",
   "metadata": {},
   "outputs": [],
   "source": [
    "for i in cat_columns:\n",
    "    plt.figure(figsize=(10,8))\n",
    "    sns.boxplot(x = i, y = 'OverallCond', data = df, hue ='Price Range')\n",
    "    plt.xticks(rotation=90)\n",
    "    plt.show()"
   ]
  },
  {
   "cell_type": "code",
   "execution_count": null,
   "id": "16397fdc",
   "metadata": {},
   "outputs": [],
   "source": [
    "for i in cat_columns:\n",
    "    plt.figure(figsize=(10,8))\n",
    "    sns.boxplot(x = i, y = 'OverallQual', data = df, hue ='Price Range')\n",
    "    plt.xticks(rotation=90)\n",
    "    plt.show()"
   ]
  },
  {
   "cell_type": "code",
   "execution_count": null,
   "id": "af712c1e",
   "metadata": {},
   "outputs": [],
   "source": [
    "for i in cat_columns:\n",
    "    plt.figure(figsize=(10,8))\n",
    "    sns.boxplot(x = i, y = 'LotArea', data = df, hue ='Price Range')\n",
    "    plt.xticks(rotation=90)\n",
    "    plt.show()"
   ]
  },
  {
   "cell_type": "code",
   "execution_count": null,
   "id": "8a8e050a",
   "metadata": {},
   "outputs": [],
   "source": [
    "for i in cat_columns:\n",
    "    plt.figure(figsize=(10,8))\n",
    "    sns.boxplot(x = i, y = 'MSSubClass', data = df, hue ='Price Range')\n",
    "    plt.xticks(rotation=90)\n",
    "    plt.show()"
   ]
  },
  {
   "cell_type": "code",
   "execution_count": null,
   "id": "29f06d80",
   "metadata": {},
   "outputs": [],
   "source": [
    "for i in cat_columns:\n",
    "    plt.figure(figsize=(10,8))\n",
    "    sns.boxplot(x = i, y = 'Id', data = df, hue ='Price Range')\n",
    "    plt.xticks(rotation=90)\n",
    "    plt.show()"
   ]
  },
  {
   "cell_type": "code",
   "execution_count": null,
   "id": "ccf59e39",
   "metadata": {},
   "outputs": [],
   "source": [
    "cat_columns"
   ]
  },
  {
   "cell_type": "code",
   "execution_count": null,
   "id": "8e6bc869",
   "metadata": {},
   "outputs": [],
   "source": [
    "cont_columns"
   ]
  },
  {
   "cell_type": "code",
   "execution_count": null,
   "id": "65c99d06",
   "metadata": {
    "scrolled": true
   },
   "outputs": [],
   "source": [
    "# Catplots\n",
    "\n",
    "for i in cat_columns:\n",
    "    f= plt.figure(figsize=(12,5))\n",
    "    ax = sns.catplot(x=i,y='Price Range',data=df)\n",
    "    plt.xticks(rotation=90)\n",
    "    plt.show()"
   ]
  },
  {
   "cell_type": "code",
   "execution_count": null,
   "id": "e03220ba",
   "metadata": {
    "scrolled": false
   },
   "outputs": [],
   "source": [
    "# Scatterplot\n",
    "\n",
    "for i in cont_columns: \n",
    "    f= plt.figure(figsize=(18,13))\n",
    "    ax = sns.scatterplot(x=df.index,y=i,data=df,hue='Price Range')\n",
    "    plt.xticks(rotation=90)\n",
    "    plt.show()"
   ]
  },
  {
   "cell_type": "code",
   "execution_count": null,
   "id": "831b1af5",
   "metadata": {
    "scrolled": true
   },
   "outputs": [],
   "source": [
    "# LMplot\n",
    "\n",
    "for i in cont_columns: \n",
    "    f= plt.figure(figsize=(18,13))\n",
    "    ax = sns.lmplot(x=i,y='SalePrice',data=df)\n",
    "    plt.xticks(rotation=90)\n",
    "    plt.show()"
   ]
  },
  {
   "cell_type": "code",
   "execution_count": null,
   "id": "4ffb7c7f",
   "metadata": {},
   "outputs": [],
   "source": [
    "cont_columns"
   ]
  },
  {
   "cell_type": "code",
   "execution_count": null,
   "id": "da5bea89",
   "metadata": {
    "scrolled": true
   },
   "outputs": [],
   "source": [
    "# Line plot\n",
    "\n",
    "for i in cont_columns:\n",
    "    plt.figure(figsize=(12,5))\n",
    "    sns.lineplot(x=i,y='SalePrice',data=df)\n",
    "    plt.xticks(rotation=90)\n",
    "    plt.show()"
   ]
  },
  {
   "cell_type": "code",
   "execution_count": null,
   "id": "f651f7fa",
   "metadata": {},
   "outputs": [],
   "source": [
    "# Relation plots:\n",
    "\n",
    "for i in cont_columns:\n",
    "    for j in cat_columns:\n",
    "        plt.figure(figsize=(12,5))\n",
    "        sns.relplot(x=i,y=j,data=df,hue='Price Range')\n",
    "        plt.xticks(rotation=90)\n",
    "        plt.show()"
   ]
  },
  {
   "cell_type": "code",
   "execution_count": null,
   "id": "5eb0c7c9",
   "metadata": {
    "scrolled": true
   },
   "outputs": [],
   "source": [
    "# Boxplot\n",
    "\n",
    "for i in cont_columns:\n",
    "    plt.figure(figsize=(12,5))\n",
    "    sns.boxplot(x=i,data=df)\n",
    "    plt.xticks(rotation=90)\n",
    "    plt.show()"
   ]
  },
  {
   "cell_type": "code",
   "execution_count": null,
   "id": "359d8dff",
   "metadata": {},
   "outputs": [],
   "source": []
  },
  {
   "cell_type": "code",
   "execution_count": null,
   "id": "680e0a55",
   "metadata": {},
   "outputs": [],
   "source": [
    "# Multivariate analysis:\n",
    "\n",
    "sns.pairplot(df)"
   ]
  },
  {
   "cell_type": "code",
   "execution_count": null,
   "id": "a22aa6ed",
   "metadata": {},
   "outputs": [],
   "source": []
  },
  {
   "cell_type": "code",
   "execution_count": null,
   "id": "a7e0cc9d",
   "metadata": {},
   "outputs": [],
   "source": [
    "cont_data = df.select_dtypes(include=['int64','float64'])\n",
    "\n",
    "cat_data= df.select_dtypes(include=['object'])\n",
    "\n",
    "cont_columns = cont_data.columns\n",
    "\n",
    "cat_columns = cat_data.columns"
   ]
  },
  {
   "cell_type": "code",
   "execution_count": null,
   "id": "6946e8bf",
   "metadata": {},
   "outputs": [],
   "source": [
    "# Using Z Statistics to check and remove any more outliers:\n",
    "\n",
    "from scipy.stats import zscore\n",
    "\n",
    "z_score = zscore(df[cont_columns])\n",
    "\n",
    "abs_z_score = np.abs(z_score)\n",
    "\n",
    "filtering_entry = (abs_z_score < 3).all(axis=1) # values lying in 3 times std will be removed\n",
    "\n",
    "df = df[filtering_entry]\n",
    "\n",
    "df.describe()"
   ]
  },
  {
   "cell_type": "code",
   "execution_count": null,
   "id": "5ea93e90",
   "metadata": {
    "scrolled": true
   },
   "outputs": [],
   "source": [
    "# Checking the distribution of continuous variables:\n",
    "\n",
    "for i in cont_columns:\n",
    "    plt.figure(figsize=(12,7),facecolor='orange')\n",
    "    sns.distplot(df[i])\n",
    "    plt.show()\n"
   ]
  },
  {
   "cell_type": "code",
   "execution_count": null,
   "id": "209ee3c7",
   "metadata": {},
   "outputs": [],
   "source": [
    "df.skew().sort_values()"
   ]
  },
  {
   "cell_type": "code",
   "execution_count": null,
   "id": "f696a1b2",
   "metadata": {},
   "outputs": [],
   "source": [
    "sns.pairplot(df)"
   ]
  },
  {
   "cell_type": "code",
   "execution_count": null,
   "id": "284217b2",
   "metadata": {},
   "outputs": [],
   "source": [
    "# Correlation between features and label:\n",
    "\n",
    "# Replacing attrition column values:\n",
    "\n",
    "df.drop(columns = 'SalePrice',axis = 1).corrwith(df.SalePrice).plot(kind='bar',grid=True,figsize=(10,7),title='corelation between features and labels')\n",
    "plt.show()"
   ]
  },
  {
   "cell_type": "code",
   "execution_count": null,
   "id": "086e2697",
   "metadata": {},
   "outputs": [],
   "source": [
    "df_corr = df.corr().abs()\n",
    "plt.figure(figsize=(25,22))\n",
    "sns.heatmap(df_corr,annot=True,annot_kws={'size':10})\n",
    "plt.show()"
   ]
  },
  {
   "cell_type": "code",
   "execution_count": null,
   "id": "07ab4311",
   "metadata": {},
   "outputs": [],
   "source": [
    "from statsmodels.stats.outliers_influence import variance_inflation_factor\n",
    "\n",
    "\n",
    "vif = pd.DataFrame()\n",
    "vif['vif'] = [variance_inflation_factor(df[cont_columns],i) for i in range(df[cont_columns].shape[1])]\n",
    "vif['features'] = df[cont_columns].columns\n",
    "vif"
   ]
  },
  {
   "cell_type": "code",
   "execution_count": null,
   "id": "5769b211",
   "metadata": {},
   "outputs": [],
   "source": [
    "X = df.drop('SalePrice',axis = 1)\n",
    "y = df.SalePrice"
   ]
  },
  {
   "cell_type": "code",
   "execution_count": null,
   "id": "5b3157e7",
   "metadata": {},
   "outputs": [],
   "source": [
    "Xcont_data = X.select_dtypes(include=['int64','float64'])\n",
    "\n",
    "Xcat_data= X.select_dtypes(include=['object'])\n",
    "\n",
    "Xcont_columns = Xcont_data.columns\n",
    "\n",
    "Xcat_columns = Xcat_data.columns"
   ]
  },
  {
   "cell_type": "code",
   "execution_count": null,
   "id": "b9675cdd",
   "metadata": {},
   "outputs": [],
   "source": [
    "# Using SelectKBest feature selection method: # It is one of the feature selection method:\n",
    "# when there are lot of features and you cant graphically analyse , short way , selectKbest can be\n",
    "# used:\n",
    "\n",
    "from sklearn.feature_selection import SelectKBest, f_classif\n",
    "\n",
    "# SelectKBest uses f_classif function to select best features where f_classif uses ANOVA test\n",
    "\n",
    "best_features = SelectKBest(score_func = f_classif,k = 15)\n",
    "fit = best_features.fit(Xcont_data,y)\n",
    "\n",
    "data_scores = pd.DataFrame(fit.scores_)\n",
    "data_columns = pd.DataFrame(Xcont_data.columns)\n",
    "\n",
    "features_score = pd.concat([data_columns,data_scores],axis=1)\n",
    "\n",
    "features_score.columns = ['Features','Scores']\n",
    "print(features_score.nlargest(15,'Scores'),'\\n') # print 15 best features\n",
    "\n",
    "# Here we are getting top 15 features we got based on f_classify that uses ANOVA test of statistics."
   ]
  },
  {
   "cell_type": "code",
   "execution_count": null,
   "id": "60b02bce",
   "metadata": {},
   "outputs": [],
   "source": [
    "from sklearn.preprocessing import PowerTransformer\n",
    "\n",
    "pt = PowerTransformer()\n",
    "\n",
    "X_cont_trans = pt.fit_transform(Xcont_data)"
   ]
  },
  {
   "cell_type": "code",
   "execution_count": null,
   "id": "345c273b",
   "metadata": {},
   "outputs": [],
   "source": [
    "X_dums = pd.get_dummies(X)\n",
    "\n",
    "pcaa = PCA()\n",
    "pcaa.fit_transform(X_dums)\n",
    "\n",
    "plt.figure()\n",
    "plt.plot(np.cumsum(pcaa.explained_variance_ratio_))\n",
    "plt.xlabel('Principal Components')\n",
    "plt.ylabel('Variance Covered')\n",
    "plt.title('PCA')\n",
    "plt.show()\n",
    "\n",
    "pcaf = PCA(n_components=15)\n",
    "new_pcompf = pcaf.fit_transform(X_dums)\n",
    "princi_compf = pd.DataFrame(new_pcompf)\n"
   ]
  },
  {
   "cell_type": "code",
   "execution_count": null,
   "id": "bb3abcc2",
   "metadata": {},
   "outputs": [],
   "source": [
    "pcaf.explained_variance_ratio_"
   ]
  },
  {
   "cell_type": "code",
   "execution_count": null,
   "id": "fb8d8d75",
   "metadata": {},
   "outputs": [],
   "source": [
    "# Splitting our data to training data and testing data\n",
    "# x_train,x_test,y_train,y_test\n",
    "\n",
    "x_train1,x_test1,y_train1,y_test1 = train_test_split(princi_compf,y,test_size=0.20,random_state=1)\n",
    "\n",
    "# Here we are keeping training data as our scalled data and testing data as our label or target."
   ]
  },
  {
   "cell_type": "code",
   "execution_count": null,
   "id": "fd5250a4",
   "metadata": {},
   "outputs": [],
   "source": [
    "from sklearn.decomposition import PCA\n",
    "# Using PCA i.e. Principal Component Analysis that is a diamensionallity reduction technique:\n",
    "\n",
    "pca = PCA()\n",
    "pca.fit_transform(X_cont_trans)\n"
   ]
  },
  {
   "cell_type": "code",
   "execution_count": null,
   "id": "750e5809",
   "metadata": {},
   "outputs": [],
   "source": [
    "# Using Scree Plot to identify best components:\n",
    "\n",
    "plt.figure()\n",
    "plt.plot(np.cumsum(pca.explained_variance_ratio_))\n",
    "plt.xlabel('Principal Components')\n",
    "plt.ylabel('Variance Covered')\n",
    "plt.title('PCA')\n",
    "plt.show()\n"
   ]
  },
  {
   "cell_type": "code",
   "execution_count": null,
   "id": "b4af6549",
   "metadata": {},
   "outputs": [],
   "source": [
    "pca = PCA(n_components=35)\n",
    "new_pcomp = pca.fit_transform(X_cont_trans)\n",
    "princi_comp = pd.DataFrame(new_pcomp)\n",
    "princi_comp"
   ]
  },
  {
   "cell_type": "code",
   "execution_count": null,
   "id": "4e5ed72e",
   "metadata": {},
   "outputs": [],
   "source": [
    "pca.explained_variance_ratio_"
   ]
  },
  {
   "cell_type": "code",
   "execution_count": null,
   "id": "eb6bb118",
   "metadata": {},
   "outputs": [],
   "source": [
    "Xcat_dums = pd.get_dummies(Xcat_data)"
   ]
  },
  {
   "cell_type": "code",
   "execution_count": null,
   "id": "cb5e93b0",
   "metadata": {},
   "outputs": [],
   "source": [
    "from sklearn.decomposition import PCA\n",
    "# Using PCA i.e. Principal Component Analysis that is a diamensionallity reduction technique:\n",
    "\n",
    "pca1 = PCA()\n",
    "pca1.fit_transform(Xcat_dums)\n"
   ]
  },
  {
   "cell_type": "code",
   "execution_count": null,
   "id": "6fc26c6c",
   "metadata": {},
   "outputs": [],
   "source": [
    "# Using Scree Plot to identify best components:\n",
    "\n",
    "plt.figure()\n",
    "plt.plot(np.cumsum(pca1.explained_variance_ratio_))\n",
    "plt.xlabel('Principal Components')\n",
    "plt.ylabel('Variance Covered')\n",
    "plt.title('PCA')\n",
    "plt.show()\n"
   ]
  },
  {
   "cell_type": "code",
   "execution_count": null,
   "id": "98ff492e",
   "metadata": {},
   "outputs": [],
   "source": [
    "pca1 = PCA(n_components=100)\n",
    "new_pcomp1 = pca1.fit_transform(Xcat_dums)\n",
    "princi_comp1 = pd.DataFrame(new_pcomp1)\n",
    "princi_comp1"
   ]
  },
  {
   "cell_type": "code",
   "execution_count": null,
   "id": "d5901eb3",
   "metadata": {},
   "outputs": [],
   "source": [
    "X_F = pd.concat([princi_comp,princi_comp1],axis=1)"
   ]
  },
  {
   "cell_type": "code",
   "execution_count": null,
   "id": "4394c0f5",
   "metadata": {},
   "outputs": [],
   "source": [
    "for i in X_F.columns:\n",
    "    print(i ,':',X_F[i].skew())"
   ]
  },
  {
   "cell_type": "code",
   "execution_count": null,
   "id": "49dd610a",
   "metadata": {},
   "outputs": [],
   "source": [
    "# Splitting our data to training data and testing data\n",
    "# x_train,x_test,y_train,y_test\n",
    "\n",
    "x_train,x_test,y_train,y_test = train_test_split(X_F,y,test_size=0.20,random_state=1)\n",
    "\n",
    "# Here we are keeping training data as our scalled data and testing data as our label or target."
   ]
  },
  {
   "cell_type": "code",
   "execution_count": null,
   "id": "d7d2f46b",
   "metadata": {},
   "outputs": [],
   "source": [
    "from sklearn.linear_model import LinearRegression\n",
    "\n",
    "# Spliting data\n",
    "from sklearn.model_selection import train_test_split,GridSearchCV\n",
    "\n",
    "# Importing metrics\n",
    "from sklearn import metrics\n",
    "from sklearn.metrics import r2_score,mean_squared_error\n",
    "\n",
    "# Removing warnings\n",
    "import warnings\n",
    "warnings.filterwarnings('ignore')\n",
    "\n",
    "%matplotlib inline"
   ]
  },
  {
   "cell_type": "code",
   "execution_count": null,
   "id": "68d31836",
   "metadata": {},
   "outputs": [],
   "source": [
    "# MOdel instantiating and training\n",
    "\n",
    "rm = LinearRegression()\n",
    "rm.fit(x_train,y_train) \n",
    "# here we will pass training data"
   ]
  },
  {
   "cell_type": "code",
   "execution_count": null,
   "id": "9ace2b6a",
   "metadata": {},
   "outputs": [],
   "source": [
    "# Testing our model with Adjusted R2 Square: \n",
    "\n",
    "# on training data\n",
    "\n",
    "rm.score(x_train,y_train)"
   ]
  },
  {
   "cell_type": "code",
   "execution_count": null,
   "id": "0b6803f0",
   "metadata": {},
   "outputs": [],
   "source": [
    "# PLotting and visualizing\n",
    "\n",
    "y_pred = rm.predict(x_test)"
   ]
  },
  {
   "cell_type": "code",
   "execution_count": null,
   "id": "2b37bf04",
   "metadata": {},
   "outputs": [],
   "source": [
    "plt.scatter(y_test,y_pred)\n",
    "plt.xlabel('Actual Charges')\n",
    "plt.ylabel('Predicted Charges')\n",
    "plt.title('Actual vs Model Predicted')\n",
    "plt.show()"
   ]
  },
  {
   "cell_type": "code",
   "execution_count": null,
   "id": "644d4c98",
   "metadata": {},
   "outputs": [],
   "source": [
    "# Model Evaluation: MAE , MSE , RMSE\n",
    "\n",
    "from sklearn.metrics import mean_absolute_error,mean_squared_error\n",
    "\n",
    "mean_absolute_error(y_test,y_pred) # 4 % error"
   ]
  },
  {
   "cell_type": "code",
   "execution_count": null,
   "id": "7cfbfa2d",
   "metadata": {},
   "outputs": [],
   "source": [
    "mean_squared_error(y_test,y_pred) # lesser the better"
   ]
  },
  {
   "cell_type": "code",
   "execution_count": null,
   "id": "e6c8a1d5",
   "metadata": {},
   "outputs": [],
   "source": [
    "# RMSE\n",
    "np.sqrt(mean_squared_error(y_test,y_pred))"
   ]
  },
  {
   "cell_type": "code",
   "execution_count": null,
   "id": "2a95effb",
   "metadata": {},
   "outputs": [],
   "source": [
    "print(\"Score: \", rm.score(x_test, y_test))"
   ]
  },
  {
   "cell_type": "code",
   "execution_count": null,
   "id": "ffc2028d",
   "metadata": {},
   "outputs": [],
   "source": [
    "from sklearn.linear_model import Ridge,Lasso,RidgeCV,LassoCV\n",
    "\n",
    "lassocv = LassoCV(alphas = None , max_iter = 100, normalize = True)\n",
    "lassocv.fit(x_train,y_train)"
   ]
  },
  {
   "cell_type": "code",
   "execution_count": null,
   "id": "54f43783",
   "metadata": {},
   "outputs": [],
   "source": [
    "# Best alpha parameter\n",
    "alpha = lassocv.alpha_ # Best alpha rate\n",
    "alpha"
   ]
  },
  {
   "cell_type": "code",
   "execution_count": null,
   "id": "526e2083",
   "metadata": {},
   "outputs": [],
   "source": [
    "# Now since we have the best parameter, lasso regression will be used:\n",
    "lasso_reg = Lasso(alpha)\n",
    "lasso_reg.fit(x_train,y_train)\n",
    "# i.e. when model is training it will learn at this speed 6...."
   ]
  },
  {
   "cell_type": "code",
   "execution_count": null,
   "id": "bbb406b5",
   "metadata": {},
   "outputs": [],
   "source": [
    "lasso_reg.score(x_test,y_test)"
   ]
  },
  {
   "cell_type": "code",
   "execution_count": null,
   "id": "9c50f160",
   "metadata": {},
   "outputs": [],
   "source": [
    "# Ridge Method:\n",
    "\n",
    "ridgecv = RidgeCV(alphas = np.arange(0.001,0.1,0.01),normalize = True)\n",
    "ridgecv.fit(x_train,y_train)"
   ]
  },
  {
   "cell_type": "code",
   "execution_count": null,
   "id": "a2e5b0f9",
   "metadata": {},
   "outputs": [],
   "source": [
    "ridgecv.alpha_ # Best alpha rate"
   ]
  },
  {
   "cell_type": "code",
   "execution_count": null,
   "id": "d331cdae",
   "metadata": {},
   "outputs": [],
   "source": [
    "ridge_model = Ridge(alpha = ridgecv.alpha_)\n",
    "ridge_model.fit(x_train,y_train)"
   ]
  },
  {
   "cell_type": "code",
   "execution_count": null,
   "id": "c5703a1f",
   "metadata": {},
   "outputs": [],
   "source": [
    "ridge_model.score(x_test,y_test)"
   ]
  },
  {
   "cell_type": "code",
   "execution_count": null,
   "id": "537126fb",
   "metadata": {},
   "outputs": [],
   "source": [
    "#model performance\n",
    "\n",
    "print(\"MAE: \", metrics.mean_absolute_error(y_test, y_pred))\n",
    "print(\"MSE: \", metrics.mean_squared_error(y_test, y_pred))\n",
    "print(\"RMSE: \", metrics.mean_squared_error(y_test, y_pred, squared=False))\n",
    "print(\"R2: \", metrics.r2_score(y_test, y_pred), \"\\n\")\n",
    "print(\"Score: \", rm.score(x_test, y_test))"
   ]
  },
  {
   "cell_type": "code",
   "execution_count": null,
   "id": "4633cebf",
   "metadata": {},
   "outputs": [],
   "source": [
    "print(rm.coef_)\n",
    "print(f\"{rm.intercept_:.2f}\")"
   ]
  },
  {
   "cell_type": "code",
   "execution_count": null,
   "id": "6e5705b6",
   "metadata": {},
   "outputs": [],
   "source": [
    "# Using decision tree:\n",
    "\n",
    "from sklearn.tree import DecisionTreeRegressor\n",
    "\n",
    "model = DecisionTreeRegressor()\n",
    "\n",
    "model.fit(x_train, y_train)\n",
    "\n",
    "y_preddt = model.predict(x_test)\n",
    "\n",
    "r2_score(y_test,y_preddt)\n"
   ]
  },
  {
   "cell_type": "code",
   "execution_count": null,
   "id": "85196be7",
   "metadata": {},
   "outputs": [],
   "source": [
    "# Random forest:\n",
    "\n",
    "from sklearn.ensemble import RandomForestRegressor\n",
    "regressor_rf = RandomForestRegressor(n_estimators = 100)\n",
    "\n",
    "regressor_rf.fit(x_train, y_train)\n",
    "\n",
    "lr_normal_rf = regressor_rf.score(x_train, y_train)\n",
    "\n",
    "lr_normal_rf"
   ]
  },
  {
   "cell_type": "code",
   "execution_count": null,
   "id": "5755aa4a",
   "metadata": {},
   "outputs": [],
   "source": [
    "y_predrf = regressor_rf.predict(x_test)\n",
    "\n",
    "lr_normal_rf_test = regressor_rf.score(x_test, y_test)\n",
    "\n",
    "lr_normal_rf_test\n",
    "\n",
    "mse_lr_normal_rf  = mean_absolute_error(y_test, y_predrf)\n",
    "\n",
    "mse_lr_normal_rf"
   ]
  },
  {
   "cell_type": "code",
   "execution_count": null,
   "id": "2943b66e",
   "metadata": {},
   "outputs": [],
   "source": [
    "# Model Evaluation: MAE , MSE , RMSE\n",
    "\n",
    "from sklearn.metrics import mean_absolute_error,mean_squared_error\n",
    "\n",
    "print(\"MAE: \", metrics.mean_absolute_error(y_test, y_predrf))\n",
    "print(\"MSE: \", metrics.mean_squared_error(y_test, y_predrf))\n",
    "print(\"RMSE: \", metrics.mean_squared_error(y_test, y_predrf, squared=False))\n",
    "print(\"R2: \", metrics.r2_score(y_test, y_predrf), \"\\n\")\n",
    "print(\"Score: \", regressor_rf.score(x_test, y_predrf))"
   ]
  },
  {
   "cell_type": "code",
   "execution_count": null,
   "id": "26060734",
   "metadata": {},
   "outputs": [],
   "source": [
    "n_estimators = [5,20,50,100] # number of trees in the random forest\n",
    "max_features = ['auto', 'sqrt'] # number of features in consideration at every split\n",
    "max_depth = [int(x) for x in np.linspace(10, 120, num = 12)] # maximum number of levels allowed in each decision tree\n",
    "min_samples_split = [2, 6, 10] # minimum sample number to split a node\n",
    "min_samples_leaf = [1, 3, 4] # minimum sample number that can be stored in a leaf node\n",
    "bootstrap = [True, False] # method used to sample data points\n",
    "\n",
    "random_grid = {'n_estimators': n_estimators,\n",
    "\n",
    "'max_features': max_features,\n",
    "\n",
    "'max_depth': max_depth,\n",
    "\n",
    "'min_samples_split': min_samples_split,\n",
    "\n",
    "'min_samples_leaf': min_samples_leaf,\n",
    "\n",
    "'bootstrap': bootstrap}"
   ]
  },
  {
   "cell_type": "code",
   "execution_count": null,
   "id": "1f5e1948",
   "metadata": {},
   "outputs": [],
   "source": [
    "from sklearn.model_selection import RandomizedSearchCV\n",
    "rf_random = RandomizedSearchCV(estimator = regressor_rf,param_distributions = random_grid,\n",
    "               n_iter = 100, cv = 5, verbose=2, random_state=35, n_jobs = -1)"
   ]
  },
  {
   "cell_type": "code",
   "execution_count": null,
   "id": "09205abb",
   "metadata": {},
   "outputs": [],
   "source": [
    "rf_random.fit(x_train, y_train)"
   ]
  },
  {
   "cell_type": "code",
   "execution_count": null,
   "id": "28b31823",
   "metadata": {},
   "outputs": [],
   "source": [
    "rf_fscore = rf_random.score(x_train, y_train)\n",
    "rf_fscore"
   ]
  },
  {
   "cell_type": "code",
   "execution_count": null,
   "id": "bebd3ed2",
   "metadata": {},
   "outputs": [],
   "source": [
    "y_predrf_random = rf_random.predict(x_test)\n",
    "\n",
    "score_test_f = rf_random.score(x_test, y_test)\n",
    "\n",
    "print(score_test_f)\n",
    "\n",
    "mse_rf_random  = mean_absolute_error(y_test, y_predrf)\n",
    "\n",
    "mse_rf_random"
   ]
  },
  {
   "cell_type": "code",
   "execution_count": null,
   "id": "89e67163",
   "metadata": {},
   "outputs": [],
   "source": [
    "# Using Support vector regressor:\n",
    "\n",
    "# Fit the model over the training data\n",
    "from sklearn.svm import SVR\n",
    "svr = SVR()\n",
    "svr.fit(x_train, y_train)\n",
    "\n",
    "y_predsvr = svr.predict(x_test)\n",
    "\n",
    "r2_score(y_test,y_predsvr)"
   ]
  },
  {
   "cell_type": "code",
   "execution_count": null,
   "id": "ffb58c1a",
   "metadata": {},
   "outputs": [],
   "source": [
    "# Innitiate k neighbour Regressor:\n",
    "\n",
    "from sklearn.neighbors import KNeighborsRegressor\n",
    "\n",
    "params = {'n_neighbors':[2,3,4,5,6,7,8,9]}\n",
    "\n",
    "knn = KNeighborsRegressor()\n",
    "\n",
    "knnmodel = GridSearchCV(knn, params, cv=5)\n",
    "knnmodel.fit(x_train,y_train)\n",
    "knnmodel.best_params_"
   ]
  },
  {
   "cell_type": "code",
   "execution_count": null,
   "id": "3a760e5f",
   "metadata": {},
   "outputs": [],
   "source": [
    "knn_best = KNeighborsRegressor(n_neighbors = 7)\n",
    "knn_best.fit(x_train,y_train)"
   ]
  },
  {
   "cell_type": "code",
   "execution_count": null,
   "id": "1eed6164",
   "metadata": {},
   "outputs": [],
   "source": [
    "y_predknn = knn_best.predict(x_test)\n",
    "\n",
    "r2_score(y_test,y_predknn)"
   ]
  },
  {
   "cell_type": "code",
   "execution_count": null,
   "id": "22eb7a12",
   "metadata": {},
   "outputs": [],
   "source": [
    "# Model Evaluation: MAE , MSE , RMSE\n",
    "\n",
    "from sklearn.metrics import mean_absolute_error,mean_squared_error\n",
    "\n",
    "print(\"MAE: \", metrics.mean_absolute_error(y_test, y_predknn))\n",
    "print(\"MSE: \", metrics.mean_squared_error(y_test, y_predknn))\n",
    "print(\"RMSE: \", metrics.mean_squared_error(y_test, y_predknn, squared=False))\n",
    "print(\"R2: \", metrics.r2_score(y_test, y_predknn), \"\\n\")\n",
    "print(\"Score: \", knn_best.score(x_test, y_predknn))"
   ]
  },
  {
   "cell_type": "code",
   "execution_count": null,
   "id": "e295b24b",
   "metadata": {},
   "outputs": [],
   "source": [
    "param_grid = {'algorithm'  : ['kd_tree','brute'],\n",
    "               'leaf_size' : [3,5,6,8,9],\n",
    "               'n_neighbors': [3,5,7,9,11,13]}"
   ]
  },
  {
   "cell_type": "code",
   "execution_count": null,
   "id": "a3d2d31b",
   "metadata": {},
   "outputs": [],
   "source": [
    "gridsearch = GridSearchCV(estimator=knn_best,param_grid=param_grid)"
   ]
  },
  {
   "cell_type": "code",
   "execution_count": null,
   "id": "b10092e8",
   "metadata": {},
   "outputs": [],
   "source": [
    "gridsearch.fit(x_train,y_train)"
   ]
  },
  {
   "cell_type": "code",
   "execution_count": null,
   "id": "1bb35b86",
   "metadata": {},
   "outputs": [],
   "source": [
    "gridsearch.best_params_"
   ]
  },
  {
   "cell_type": "code",
   "execution_count": null,
   "id": "fcfe67c0",
   "metadata": {},
   "outputs": [],
   "source": [
    "knn_f = KNeighborsRegressor(algorithm = 'kd_tree', leaf_size = 3, n_neighbors = 7)\n",
    "knn_f.fit(x_train,y_train)"
   ]
  },
  {
   "cell_type": "code",
   "execution_count": null,
   "id": "a35c2226",
   "metadata": {},
   "outputs": [],
   "source": [
    "y_predknn_f = knn_f.predict(x_test)\n",
    "\n",
    "r2_score(y_test,y_predknn_f)"
   ]
  },
  {
   "cell_type": "code",
   "execution_count": null,
   "id": "57c078a2",
   "metadata": {},
   "outputs": [],
   "source": [
    "# Adaboost regressor\n",
    "\n",
    "from sklearn.ensemble import AdaBoostRegressor\n",
    "regr = AdaBoostRegressor(random_state=0, n_estimators=100)\n",
    "regr.fit(x_train,y_train)\n",
    "y_predada = regr.predict(x_test)\n",
    "regr.score(x_test, y_predada)"
   ]
  },
  {
   "cell_type": "code",
   "execution_count": null,
   "id": "09592603",
   "metadata": {},
   "outputs": [],
   "source": [
    "print(\"MAE: \", metrics.mean_absolute_error(y_test, y_predada))\n",
    "print(\"MSE: \", metrics.mean_squared_error(y_test, y_predada))\n",
    "print(\"RMSE: \", metrics.mean_squared_error(y_test, y_predada, squared=False))\n",
    "print(\"R2: \", metrics.r2_score(y_test, y_predada), \"\\n\")\n",
    "print(\"Score: \", regr.score(x_test, y_predada))"
   ]
  },
  {
   "cell_type": "code",
   "execution_count": null,
   "id": "fc837626",
   "metadata": {},
   "outputs": [],
   "source": [
    "ada=AdaBoostRegressor()\n",
    "search_grid={'n_estimators':[500,1000,2000],'learning_rate':[.001,0.01,.1],'random_state':[1]}\n",
    "search=GridSearchCV(estimator=ada,param_grid=search_grid,scoring='neg_mean_squared_error',n_jobs=1)"
   ]
  },
  {
   "cell_type": "code",
   "execution_count": null,
   "id": "f731dd0b",
   "metadata": {},
   "outputs": [],
   "source": [
    "search.fit(x_train,y_train)\n",
    "search.best_params_"
   ]
  },
  {
   "cell_type": "code",
   "execution_count": null,
   "id": "d17ebd52",
   "metadata": {},
   "outputs": [],
   "source": [
    "regr_f = AdaBoostRegressor(learning_rate= 0.1, n_estimators=1000, random_state=1)\n",
    "regr_f.fit(x_train,y_train)\n",
    "y_predada_f = regr.predict(x_test)\n",
    "regr_f.score(x_test, y_predada_f)"
   ]
  },
  {
   "cell_type": "code",
   "execution_count": null,
   "id": "b2460862",
   "metadata": {},
   "outputs": [],
   "source": [
    "print(\"MAE: \", metrics.mean_absolute_error(y_test, y_predada_f))\n",
    "print(\"MSE: \", metrics.mean_squared_error(y_test, y_predada_f))\n",
    "print(\"RMSE: \", metrics.mean_squared_error(y_test, y_predada_f, squared=False))\n",
    "print(\"R2: \", metrics.r2_score(y_test, y_predada_f), \"\\n\")\n",
    "print(\"Score: \", regr_f.score(x_test, y_predada_f))"
   ]
  },
  {
   "cell_type": "code",
   "execution_count": null,
   "id": "f2eb257c",
   "metadata": {},
   "outputs": [],
   "source": [
    "regr.predict(x_test)"
   ]
  },
  {
   "cell_type": "code",
   "execution_count": null,
   "id": "be6f164b",
   "metadata": {},
   "outputs": [],
   "source": [
    "# Creating pipeline:\n",
    "\n",
    "from sklearn.pipeline import Pipeline\n",
    "\n",
    "pipe = Pipeline([('pt',PowerTransformer()),('pca',PCA(n_components=135)),('base_model',AdaBoostRegressor(learning_rate= 0.1, n_estimators=1000, random_state=1))])\n",
    "\n",
    "pipe.fit(x_train,y_train)\n",
    "\n",
    "y_pred = pipe.predict(x_test)\n",
    "\n",
    "print(\"MAE: \", metrics.mean_absolute_error(y_test, y_pred))\n",
    "print(\"MSE: \", metrics.mean_squared_error(y_test, y_pred))\n",
    "print(\"RMSE: \", metrics.mean_squared_error(y_test, y_pred, squared=False))\n",
    "print(\"R2: \", metrics.r2_score(y_test, y_pred), \"\\n\")\n",
    "print(\"Score: \", pipe.score(x_test, y_pred))\n"
   ]
  },
  {
   "cell_type": "code",
   "execution_count": null,
   "id": "d9c0fbf8",
   "metadata": {},
   "outputs": [],
   "source": [
    "# Saving regression model to pickle string\n",
    "\n",
    "import pickle \n",
    "saved_model1 = pickle.dumps(pipe) \n",
    "pipe_pickle1 = pickle.loads(saved_model1)\n",
    "pipe_pickle1.predict(x_test) # predicting testing data\n"
   ]
  },
  {
   "cell_type": "code",
   "execution_count": null,
   "id": "e311e83c",
   "metadata": {},
   "outputs": [],
   "source": [
    "# Creating pipeline 2:\n",
    "\n",
    "from sklearn.pipeline import Pipeline\n",
    "\n",
    "pipe2 = Pipeline([('pt',PowerTransformer()),('pca',PCA(n_components=135)),('base_mode2',Ridge(alpha=0.040999999999999995))])\n",
    "\n",
    "pipe2.fit(x_train,y_train)\n",
    "\n",
    "y_pred2 = pipe2.predict(x_test)\n",
    "\n",
    "print(\"MAE: \", metrics.mean_absolute_error(y_test, y_pred2))\n",
    "print(\"MSE: \", metrics.mean_squared_error(y_test, y_pred2))\n",
    "print(\"RMSE: \", metrics.mean_squared_error(y_test, y_pred2, squared=False))\n",
    "print(\"R2: \", metrics.r2_score(y_test, y_pred2), \"\\n\")\n",
    "print(\"Score: \", pipe2.score(x_test, y_pred))\n"
   ]
  },
  {
   "cell_type": "code",
   "execution_count": null,
   "id": "65b10384",
   "metadata": {},
   "outputs": [],
   "source": [
    "# Saving regression model to pickle string\n",
    "\n",
    "import pickle \n",
    "saved_model2 = pickle.dumps(pipe2) \n",
    "pipe_pickle2 = pickle.loads(saved_model2)\n",
    "pipe_pickle2.predict(x_test) # predicting testing data\n"
   ]
  },
  {
   "cell_type": "code",
   "execution_count": null,
   "id": "e9385e3e",
   "metadata": {},
   "outputs": [],
   "source": [
    "# Predicting test dataset values:"
   ]
  },
  {
   "cell_type": "code",
   "execution_count": null,
   "id": "9f6213ca",
   "metadata": {},
   "outputs": [],
   "source": [
    "test_file_loc = r\"C:\\Users\\Lenovo\\OneDrive\\Desktop\\Filp Robo worksheets and projects\\Project-Housing_splitted\\test.csv\"\n",
    "df_test = pd.read_csv(test_file_loc)"
   ]
  },
  {
   "cell_type": "code",
   "execution_count": null,
   "id": "78248ff5",
   "metadata": {},
   "outputs": [],
   "source": [
    "df_test.head()"
   ]
  },
  {
   "cell_type": "code",
   "execution_count": null,
   "id": "2543974e",
   "metadata": {},
   "outputs": [],
   "source": [
    "df_test.columns"
   ]
  },
  {
   "cell_type": "code",
   "execution_count": null,
   "id": "210c524b",
   "metadata": {},
   "outputs": [],
   "source": [
    "df_test.isnull().sum()"
   ]
  },
  {
   "cell_type": "code",
   "execution_count": null,
   "id": "2ceecc99",
   "metadata": {},
   "outputs": [],
   "source": [
    "df_test.shape"
   ]
  },
  {
   "cell_type": "code",
   "execution_count": null,
   "id": "db78f28b",
   "metadata": {},
   "outputs": [],
   "source": [
    "for i in df_test.columns:\n",
    "    print('Null values in column: ',i,':',df_test[i].isnull().sum(),'--- of type',df_test[i].dtype)"
   ]
  },
  {
   "cell_type": "code",
   "execution_count": null,
   "id": "9fe9ed4e",
   "metadata": {},
   "outputs": [],
   "source": [
    "df_test.drop(columns=['PoolQC','Fence','MiscFeature','FireplaceQu','Alley'],axis=1,inplace=True)"
   ]
  },
  {
   "cell_type": "code",
   "execution_count": null,
   "id": "40ff3427",
   "metadata": {},
   "outputs": [],
   "source": [
    "for i in df_test.columns:\n",
    "    print('Null values in column: ',i,':',df_test[i].isnull().sum(),'--- of type',df_test[i].dtype)"
   ]
  },
  {
   "cell_type": "code",
   "execution_count": null,
   "id": "548cf57f",
   "metadata": {},
   "outputs": [],
   "source": [
    "df_test.dropna(axis=0,inplace=True)"
   ]
  },
  {
   "cell_type": "code",
   "execution_count": null,
   "id": "8bf091e3",
   "metadata": {},
   "outputs": [],
   "source": [
    "df_test.shape"
   ]
  },
  {
   "cell_type": "code",
   "execution_count": null,
   "id": "ab8022d0",
   "metadata": {},
   "outputs": [],
   "source": [
    "Xcont_data1 = df_test.select_dtypes(include=['int64','float64'])\n",
    "\n",
    "Xcat_data1= df_test.select_dtypes(include=['object'])\n",
    "\n",
    "Xcont_columns1 = Xcont_data1.columns\n",
    "\n",
    "Xcat_columns1 = Xcat_data1.columns\n",
    "\n",
    "Xcat_dumst1 = pd.get_dummies(Xcat_data1)"
   ]
  },
  {
   "cell_type": "code",
   "execution_count": null,
   "id": "e5d12d1b",
   "metadata": {},
   "outputs": [],
   "source": [
    "from sklearn.preprocessing import PowerTransformer\n",
    "\n",
    "ptt = PowerTransformer()\n",
    "\n",
    "X_cont_transt = pt.fit_transform(Xcont_data1)"
   ]
  },
  {
   "cell_type": "code",
   "execution_count": null,
   "id": "a544b3e8",
   "metadata": {},
   "outputs": [],
   "source": [
    "pcat1 = PCA(n_components=35)\n",
    "new_pcompt1 = pcat1.fit_transform(X_cont_transt)\n",
    "princi_compt1 = pd.DataFrame(new_pcompt1)"
   ]
  },
  {
   "cell_type": "code",
   "execution_count": null,
   "id": "7dd1dffa",
   "metadata": {},
   "outputs": [],
   "source": [
    "pca2 = PCA(n_components=100)\n",
    "new_pcompt2 = pca1.fit_transform(Xcat_dumst1)\n",
    "princi_compt2 = pd.DataFrame(new_pcompt2)"
   ]
  },
  {
   "cell_type": "code",
   "execution_count": null,
   "id": "45f2871c",
   "metadata": {},
   "outputs": [],
   "source": [
    "X_Ftest = pd.concat([princi_compt1,princi_compt2],axis=1)"
   ]
  },
  {
   "cell_type": "code",
   "execution_count": null,
   "id": "f1b7da39",
   "metadata": {},
   "outputs": [],
   "source": [
    "y_F_values=pipe_pickle2.predict(X_Ftest)"
   ]
  },
  {
   "cell_type": "code",
   "execution_count": null,
   "id": "b9026f5b",
   "metadata": {},
   "outputs": [],
   "source": [
    "price = pd.DataFrame(y_F_values)"
   ]
  },
  {
   "cell_type": "code",
   "execution_count": null,
   "id": "61f3ebcb",
   "metadata": {},
   "outputs": [],
   "source": [
    "price.head(10)"
   ]
  },
  {
   "cell_type": "code",
   "execution_count": null,
   "id": "a156c234",
   "metadata": {},
   "outputs": [],
   "source": []
  }
 ],
 "metadata": {
  "kernelspec": {
   "display_name": "Python 3 (ipykernel)",
   "language": "python",
   "name": "python3"
  },
  "language_info": {
   "codemirror_mode": {
    "name": "ipython",
    "version": 3
   },
   "file_extension": ".py",
   "mimetype": "text/x-python",
   "name": "python",
   "nbconvert_exporter": "python",
   "pygments_lexer": "ipython3",
   "version": "3.9.12"
  }
 },
 "nbformat": 4,
 "nbformat_minor": 5
}
